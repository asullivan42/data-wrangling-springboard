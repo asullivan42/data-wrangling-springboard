{
 "cells": [
  {
   "cell_type": "markdown",
   "metadata": {
    "colab_type": "text",
    "id": "view-in-github"
   },
   "source": [
    "<a href=\"https://colab.research.google.com/github/oliverrmaa/data-wrangling-springboard/blob/main/notebooks/data_collection.ipynb\" target=\"_parent\"><img src=\"https://colab.research.google.com/assets/colab-badge.svg\" alt=\"Open In Colab\"/></a>"
   ]
  },
  {
   "cell_type": "markdown",
   "metadata": {
    "id": "4a0A5M0rAeAI"
   },
   "source": [
    "# Data Collection"
   ]
  },
  {
   "cell_type": "code",
   "execution_count": 22,
   "metadata": {
    "id": "ZGn3G4lNAbcY"
   },
   "outputs": [],
   "source": [
    "# Installations:\n",
    "#!pip install tabula-py\n",
    "\n",
    "# Imports:\n",
    "import requests\n",
    "import json\n",
    "from bs4 import BeautifulSoup\n",
    "from tabula.io import read_pdf\n",
    "import pandas as pd\n",
    "\n",
    "# Google Drive mount authentication\n",
    "#from google.colab import drive\n",
    "#drive.mount('/content/drive')"
   ]
  },
  {
   "cell_type": "markdown",
   "metadata": {
    "id": "5M95VnBRoN2W"
   },
   "source": [
    "# 1. Fetch Data From API"
   ]
  },
  {
   "cell_type": "markdown",
   "metadata": {
    "id": "hYzsxUpb_4ky"
   },
   "source": [
    "## 1.1 Exchange Rate Demo"
   ]
  },
  {
   "cell_type": "markdown",
   "metadata": {
    "id": "nvmHCCAEg0Um"
   },
   "source": [
    "https://exchangeratesapi.io"
   ]
  },
  {
   "cell_type": "code",
   "execution_count": 23,
   "metadata": {
    "id": "upDowE06Tuq1"
   },
   "outputs": [
    {
     "name": "stdout",
     "output_type": "stream",
     "text": [
      "<Response [200]>\n"
     ]
    }
   ],
   "source": [
    "API_KEY = \"7d621c8860a896ffe2d06c2f27317372\"\n",
    "URL = \"http://api.exchangeratesapi.io/v1/latest?access_key={}\".format(API_KEY)\n",
    " \n",
    "response = requests.get(URL)\n",
    "print(response)\n",
    "text = response.text\n",
    "json_data = json.loads(text)"
   ]
  },
  {
   "cell_type": "code",
   "execution_count": 24,
   "metadata": {
    "id": "UQuLbYHpapIP"
   },
   "outputs": [
    {
     "name": "stdout",
     "output_type": "stream",
     "text": [
      "{'success': True, 'timestamp': 1629562939, 'base': 'EUR', 'date': '2021-08-21', 'rates': {'AED': 4.296196, 'AFN': 100.619999, 'ALL': 121.829999, 'AMD': 574.159996, 'ANG': 2.0967, 'AOA': 744.52696, 'ARS': 113.634699, 'AUD': 1.639383, 'AWG': 2.106045, 'AZN': 1.993134, 'BAM': 1.95583, 'BBD': 2.3584, 'BDT': 99.401899, 'BGN': 1.9595, 'BHD': 0.441, 'BIF': 2317.449983, 'BMD': 1.1697, 'BND': 1.5918, 'BOB': 8.0771, 'BRL': 6.3256, 'BSD': 1.1681, 'BTC': 2.3699672e-05, 'BTN': 86.859899, 'BWP': 13.2435, 'BYN': 2.938, 'BYR': 22926.11983, 'BZD': 2.3545, 'CAD': 1.499842, 'CDF': 2341.739806, 'CHF': 1.07314, 'CLF': 0.033346, 'CLP': 920.121567, 'CNY': 7.604809, 'COP': 4520.899967, 'CRC': 724.829995, 'CUC': 1.1697, 'CUP': 30.99705, 'CVE': 110.264999, 'CZK': 25.566426, 'DJF': 207.939998, 'DKK': 7.435437, 'DOP': 66.638, 'DZD': 158.411999, 'EGP': 18.364, 'ERN': 17.55113, 'ETB': 53.1318, 'EUR': 1, 'FJD': 2.480876, 'FKP': 0.845229, 'GBP': 0.858653, 'GEL': 3.638224, 'GGP': 0.845229, 'GHS': 7.0551, 'GIP': 0.845229, 'GMD': 59.776177, 'GNF': 11456.299915, 'GTQ': 9.0466, 'GYD': 244.379998, 'HKD': 9.113519, 'HNL': 27.741, 'HRK': 7.49825, 'HTG': 115.053999, 'HUF': 350.23567, 'IDR': 16848.007765, 'ILS': 3.788195, 'IMP': 0.845229, 'INR': 86.970123, 'IQD': 1704.199987, 'IRR': 49349.643047, 'ISK': 149.616777, 'JEP': 0.845229, 'JMD': 179.758999, 'JOD': 0.829364, 'JPY': 128.41322, 'KES': 127.960999, 'KGS': 99.007857, 'KHR': 4768.599965, 'KMF': 492.268691, 'KPW': 1052.730189, 'KRW': 1374.678666, 'KWD': 0.352256, 'KYD': 0.9734, 'KZT': 499.809996, 'LAK': 11200.499917, 'LBP': 1766.299987, 'LKR': 233.027998, 'LRD': 200.841904, 'LSL': 17.908553, 'LTL': 3.45382, 'LVL': 0.70754, 'LYD': 5.3031, 'MAD': 10.5155, 'MDL': 20.5871, 'MGA': 4575.879966, 'MKD': 61.615, 'MMK': 1922.626786, 'MNT': 3334.699042, 'MOP': 9.3732, 'MRO': 417.582696, 'MUR': 49.6, 'MVR': 18.072308, 'MWK': 949.060993, 'MXN': 23.836385, 'MYR': 4.957234, 'MZN': 74.514254, 'NAD': 17.908548, 'NGN': 481.569846, 'NIO': 41.016, 'NOK': 10.5576, 'NPR': 138.975999, 'NZD': 1.711401, 'OMR': 0.45036, 'PAB': 1.1681, 'PEN': 4.7974, 'PGK': 4.1538, 'PHP': 58.883, 'PKR': 192.175099, 'PLN': 4.581369, 'PYG': 8104.39994, 'QAR': 4.258586, 'RON': 4.934267, 'RSD': 117.579999, 'RUB': 86.884033, 'RWF': 1177.849991, 'SAR': 4.38574, 'SBD': 9.417972, 'SCR': 15.383939, 'SDG': 521.105648, 'SEK': 10.295002, 'SGD': 1.594248, 'SHP': 1.611149, 'SLL': 11989.425307, 'SOS': 685.444591, 'SRD': 25.026946, 'STD': 24210.428206, 'SVC': 10.221, 'SYP': 1470.984264, 'SZL': 17.8753, 'THB': 38.99823, 'TJS': 13.3276, 'TMT': 4.09395, 'TND': 3.288071, 'TOP': 2.672122, 'TRY': 9.935202, 'TTD': 7.9307, 'TWD': 32.731759, 'TZS': 2708.72998, 'UAH': 31.13, 'UGX': 4129.099969, 'USD': 1.1697, 'UYU': 50.396, 'UZS': 12418.809908, 'VEF': 250117209218.07397, 'VND': 26660.999803, 'VUV': 129.704436, 'WST': 2.995326, 'XAF': 655.956995, 'XAG': 0.050791, 'XAU': 0.000657, 'XCD': 3.161173, 'XDR': 0.824, 'XOF': 655.956995, 'XPF': 119.78149, 'YER': 293.364966, 'ZAR': 17.889747, 'ZMK': 10528.707765, 'ZMW': 20.1198, 'ZWL': 376.64292}}\n",
      "dict_keys(['success', 'timestamp', 'base', 'date', 'rates'])\n"
     ]
    }
   ],
   "source": [
    "print(json_data)\n",
    "print(json_data.keys())"
   ]
  },
  {
   "cell_type": "code",
   "execution_count": 25,
   "metadata": {
    "id": "wS3yntMECtTB"
   },
   "outputs": [
    {
     "data": {
      "text/html": [
       "<div>\n",
       "<style scoped>\n",
       "    .dataframe tbody tr th:only-of-type {\n",
       "        vertical-align: middle;\n",
       "    }\n",
       "\n",
       "    .dataframe tbody tr th {\n",
       "        vertical-align: top;\n",
       "    }\n",
       "\n",
       "    .dataframe thead th {\n",
       "        text-align: right;\n",
       "    }\n",
       "</style>\n",
       "<table border=\"1\" class=\"dataframe\">\n",
       "  <thead>\n",
       "    <tr style=\"text-align: right;\">\n",
       "      <th></th>\n",
       "      <th>rate</th>\n",
       "    </tr>\n",
       "  </thead>\n",
       "  <tbody>\n",
       "    <tr>\n",
       "      <th>AED</th>\n",
       "      <td>4.296196</td>\n",
       "    </tr>\n",
       "    <tr>\n",
       "      <th>AFN</th>\n",
       "      <td>100.619999</td>\n",
       "    </tr>\n",
       "    <tr>\n",
       "      <th>ALL</th>\n",
       "      <td>121.829999</td>\n",
       "    </tr>\n",
       "    <tr>\n",
       "      <th>AMD</th>\n",
       "      <td>574.159996</td>\n",
       "    </tr>\n",
       "    <tr>\n",
       "      <th>ANG</th>\n",
       "      <td>2.096700</td>\n",
       "    </tr>\n",
       "  </tbody>\n",
       "</table>\n",
       "</div>"
      ],
      "text/plain": [
       "           rate\n",
       "AED    4.296196\n",
       "AFN  100.619999\n",
       "ALL  121.829999\n",
       "AMD  574.159996\n",
       "ANG    2.096700"
      ]
     },
     "execution_count": 25,
     "metadata": {},
     "output_type": "execute_result"
    }
   ],
   "source": [
    "df = pd.DataFrame({\"rate\": json_data['rates']})\n",
    "df.head()"
   ]
  },
  {
   "cell_type": "code",
   "execution_count": 26,
   "metadata": {
    "id": "bIAWiD5xUleg"
   },
   "outputs": [
    {
     "data": {
      "text/html": [
       "<div>\n",
       "<style scoped>\n",
       "    .dataframe tbody tr th:only-of-type {\n",
       "        vertical-align: middle;\n",
       "    }\n",
       "\n",
       "    .dataframe tbody tr th {\n",
       "        vertical-align: top;\n",
       "    }\n",
       "\n",
       "    .dataframe thead th {\n",
       "        text-align: right;\n",
       "    }\n",
       "</style>\n",
       "<table border=\"1\" class=\"dataframe\">\n",
       "  <thead>\n",
       "    <tr style=\"text-align: right;\">\n",
       "      <th></th>\n",
       "      <th>index</th>\n",
       "      <th>rate</th>\n",
       "    </tr>\n",
       "  </thead>\n",
       "  <tbody>\n",
       "    <tr>\n",
       "      <th>0</th>\n",
       "      <td>AED</td>\n",
       "      <td>4.296196</td>\n",
       "    </tr>\n",
       "    <tr>\n",
       "      <th>1</th>\n",
       "      <td>AFN</td>\n",
       "      <td>100.619999</td>\n",
       "    </tr>\n",
       "    <tr>\n",
       "      <th>2</th>\n",
       "      <td>ALL</td>\n",
       "      <td>121.829999</td>\n",
       "    </tr>\n",
       "    <tr>\n",
       "      <th>3</th>\n",
       "      <td>AMD</td>\n",
       "      <td>574.159996</td>\n",
       "    </tr>\n",
       "    <tr>\n",
       "      <th>4</th>\n",
       "      <td>ANG</td>\n",
       "      <td>2.096700</td>\n",
       "    </tr>\n",
       "  </tbody>\n",
       "</table>\n",
       "</div>"
      ],
      "text/plain": [
       "  index        rate\n",
       "0   AED    4.296196\n",
       "1   AFN  100.619999\n",
       "2   ALL  121.829999\n",
       "3   AMD  574.159996\n",
       "4   ANG    2.096700"
      ]
     },
     "execution_count": 26,
     "metadata": {},
     "output_type": "execute_result"
    }
   ],
   "source": [
    "df = df.reset_index(inplace=False)\n",
    "df.head()"
   ]
  },
  {
   "cell_type": "code",
   "execution_count": 27,
   "metadata": {
    "id": "pNB9jrYzcCRx"
   },
   "outputs": [
    {
     "data": {
      "text/html": [
       "<div>\n",
       "<style scoped>\n",
       "    .dataframe tbody tr th:only-of-type {\n",
       "        vertical-align: middle;\n",
       "    }\n",
       "\n",
       "    .dataframe tbody tr th {\n",
       "        vertical-align: top;\n",
       "    }\n",
       "\n",
       "    .dataframe thead th {\n",
       "        text-align: right;\n",
       "    }\n",
       "</style>\n",
       "<table border=\"1\" class=\"dataframe\">\n",
       "  <thead>\n",
       "    <tr style=\"text-align: right;\">\n",
       "      <th></th>\n",
       "      <th>currency</th>\n",
       "      <th>rate</th>\n",
       "    </tr>\n",
       "  </thead>\n",
       "  <tbody>\n",
       "    <tr>\n",
       "      <th>0</th>\n",
       "      <td>AED</td>\n",
       "      <td>4.296196</td>\n",
       "    </tr>\n",
       "    <tr>\n",
       "      <th>1</th>\n",
       "      <td>AFN</td>\n",
       "      <td>100.619999</td>\n",
       "    </tr>\n",
       "    <tr>\n",
       "      <th>2</th>\n",
       "      <td>ALL</td>\n",
       "      <td>121.829999</td>\n",
       "    </tr>\n",
       "    <tr>\n",
       "      <th>3</th>\n",
       "      <td>AMD</td>\n",
       "      <td>574.159996</td>\n",
       "    </tr>\n",
       "    <tr>\n",
       "      <th>4</th>\n",
       "      <td>ANG</td>\n",
       "      <td>2.096700</td>\n",
       "    </tr>\n",
       "  </tbody>\n",
       "</table>\n",
       "</div>"
      ],
      "text/plain": [
       "  currency        rate\n",
       "0      AED    4.296196\n",
       "1      AFN  100.619999\n",
       "2      ALL  121.829999\n",
       "3      AMD  574.159996\n",
       "4      ANG    2.096700"
      ]
     },
     "execution_count": 27,
     "metadata": {},
     "output_type": "execute_result"
    }
   ],
   "source": [
    "df = df.rename(columns={'index': 'currency'})\n",
    "df.head()"
   ]
  },
  {
   "cell_type": "code",
   "execution_count": 28,
   "metadata": {
    "id": "-sOU2cGFc4gP"
   },
   "outputs": [
    {
     "data": {
      "text/html": [
       "<div>\n",
       "<style scoped>\n",
       "    .dataframe tbody tr th:only-of-type {\n",
       "        vertical-align: middle;\n",
       "    }\n",
       "\n",
       "    .dataframe tbody tr th {\n",
       "        vertical-align: top;\n",
       "    }\n",
       "\n",
       "    .dataframe thead th {\n",
       "        text-align: right;\n",
       "    }\n",
       "</style>\n",
       "<table border=\"1\" class=\"dataframe\">\n",
       "  <thead>\n",
       "    <tr style=\"text-align: right;\">\n",
       "      <th></th>\n",
       "      <th>currency</th>\n",
       "      <th>rate</th>\n",
       "      <th>base_currency</th>\n",
       "      <th>date_accessed</th>\n",
       "    </tr>\n",
       "  </thead>\n",
       "  <tbody>\n",
       "    <tr>\n",
       "      <th>0</th>\n",
       "      <td>AED</td>\n",
       "      <td>4.296196</td>\n",
       "      <td>EUR</td>\n",
       "      <td>2021-08-21</td>\n",
       "    </tr>\n",
       "    <tr>\n",
       "      <th>1</th>\n",
       "      <td>AFN</td>\n",
       "      <td>100.619999</td>\n",
       "      <td>EUR</td>\n",
       "      <td>2021-08-21</td>\n",
       "    </tr>\n",
       "    <tr>\n",
       "      <th>2</th>\n",
       "      <td>ALL</td>\n",
       "      <td>121.829999</td>\n",
       "      <td>EUR</td>\n",
       "      <td>2021-08-21</td>\n",
       "    </tr>\n",
       "    <tr>\n",
       "      <th>3</th>\n",
       "      <td>AMD</td>\n",
       "      <td>574.159996</td>\n",
       "      <td>EUR</td>\n",
       "      <td>2021-08-21</td>\n",
       "    </tr>\n",
       "    <tr>\n",
       "      <th>4</th>\n",
       "      <td>ANG</td>\n",
       "      <td>2.096700</td>\n",
       "      <td>EUR</td>\n",
       "      <td>2021-08-21</td>\n",
       "    </tr>\n",
       "  </tbody>\n",
       "</table>\n",
       "</div>"
      ],
      "text/plain": [
       "  currency        rate base_currency date_accessed\n",
       "0      AED    4.296196           EUR    2021-08-21\n",
       "1      AFN  100.619999           EUR    2021-08-21\n",
       "2      ALL  121.829999           EUR    2021-08-21\n",
       "3      AMD  574.159996           EUR    2021-08-21\n",
       "4      ANG    2.096700           EUR    2021-08-21"
      ]
     },
     "execution_count": 28,
     "metadata": {},
     "output_type": "execute_result"
    }
   ],
   "source": [
    "df['base_currency'] = json_data['base']\n",
    "df['date_accessed'] = json_data['date']\n",
    "df.head()"
   ]
  },
  {
   "cell_type": "markdown",
   "metadata": {
    "id": "542OA114__Qd"
   },
   "source": [
    "## 1.2 Exercise: How Many People Are In Space?"
   ]
  },
  {
   "cell_type": "markdown",
   "metadata": {
    "id": "6O2T43ELh9xi"
   },
   "source": [
    "Let's use an open API so we do not need to worry about authentication. Check how many people are currently in space using this open API. Be sure to reshape\n",
    "the resulting JSON into a proper DataFrame. For the URL, please use:\n",
    "`\"http://api.open-notify.org/astros.json\"`"
   ]
  },
  {
   "cell_type": "code",
   "execution_count": 29,
   "metadata": {
    "id": "Tq2XB443h0nn"
   },
   "outputs": [
    {
     "name": "stdout",
     "output_type": "stream",
     "text": [
      "<Response [200]>\n",
      "{'people': [{'name': 'Mark Vande Hei', 'craft': 'ISS'}, {'name': 'Oleg Novitskiy', 'craft': 'ISS'}, {'name': 'Pyotr Dubrov', 'craft': 'ISS'}, {'name': 'Thomas Pesquet', 'craft': 'ISS'}, {'name': 'Megan McArthur', 'craft': 'ISS'}, {'name': 'Shane Kimbrough', 'craft': 'ISS'}, {'name': 'Akihiko Hoshide', 'craft': 'ISS'}, {'name': 'Nie Haisheng', 'craft': 'Tiangong'}, {'name': 'Liu Boming', 'craft': 'Tiangong'}, {'name': 'Tang Hongbo', 'craft': 'Tiangong'}], 'number': 10, 'message': 'success'}\n"
     ]
    }
   ],
   "source": [
    "url = \"http://api.open-notify.org/astros.json\"\n",
    "response = requests.get(url)\n",
    "print(response)\n",
    "text = response.text\n",
    "json_data = json.loads(text)\n",
    "print (json_data)"
   ]
  },
  {
   "cell_type": "code",
   "execution_count": 30,
   "metadata": {},
   "outputs": [
    {
     "data": {
      "text/html": [
       "<div>\n",
       "<style scoped>\n",
       "    .dataframe tbody tr th:only-of-type {\n",
       "        vertical-align: middle;\n",
       "    }\n",
       "\n",
       "    .dataframe tbody tr th {\n",
       "        vertical-align: top;\n",
       "    }\n",
       "\n",
       "    .dataframe thead th {\n",
       "        text-align: right;\n",
       "    }\n",
       "</style>\n",
       "<table border=\"1\" class=\"dataframe\">\n",
       "  <thead>\n",
       "    <tr style=\"text-align: right;\">\n",
       "      <th></th>\n",
       "      <th>people</th>\n",
       "      <th>number</th>\n",
       "      <th>message</th>\n",
       "    </tr>\n",
       "  </thead>\n",
       "  <tbody>\n",
       "    <tr>\n",
       "      <th>0</th>\n",
       "      <td>{'name': 'Mark Vande Hei', 'craft': 'ISS'}</td>\n",
       "      <td>10</td>\n",
       "      <td>success</td>\n",
       "    </tr>\n",
       "    <tr>\n",
       "      <th>1</th>\n",
       "      <td>{'name': 'Oleg Novitskiy', 'craft': 'ISS'}</td>\n",
       "      <td>10</td>\n",
       "      <td>success</td>\n",
       "    </tr>\n",
       "    <tr>\n",
       "      <th>2</th>\n",
       "      <td>{'name': 'Pyotr Dubrov', 'craft': 'ISS'}</td>\n",
       "      <td>10</td>\n",
       "      <td>success</td>\n",
       "    </tr>\n",
       "    <tr>\n",
       "      <th>3</th>\n",
       "      <td>{'name': 'Thomas Pesquet', 'craft': 'ISS'}</td>\n",
       "      <td>10</td>\n",
       "      <td>success</td>\n",
       "    </tr>\n",
       "    <tr>\n",
       "      <th>4</th>\n",
       "      <td>{'name': 'Megan McArthur', 'craft': 'ISS'}</td>\n",
       "      <td>10</td>\n",
       "      <td>success</td>\n",
       "    </tr>\n",
       "    <tr>\n",
       "      <th>5</th>\n",
       "      <td>{'name': 'Shane Kimbrough', 'craft': 'ISS'}</td>\n",
       "      <td>10</td>\n",
       "      <td>success</td>\n",
       "    </tr>\n",
       "    <tr>\n",
       "      <th>6</th>\n",
       "      <td>{'name': 'Akihiko Hoshide', 'craft': 'ISS'}</td>\n",
       "      <td>10</td>\n",
       "      <td>success</td>\n",
       "    </tr>\n",
       "    <tr>\n",
       "      <th>7</th>\n",
       "      <td>{'name': 'Nie Haisheng', 'craft': 'Tiangong'}</td>\n",
       "      <td>10</td>\n",
       "      <td>success</td>\n",
       "    </tr>\n",
       "    <tr>\n",
       "      <th>8</th>\n",
       "      <td>{'name': 'Liu Boming', 'craft': 'Tiangong'}</td>\n",
       "      <td>10</td>\n",
       "      <td>success</td>\n",
       "    </tr>\n",
       "    <tr>\n",
       "      <th>9</th>\n",
       "      <td>{'name': 'Tang Hongbo', 'craft': 'Tiangong'}</td>\n",
       "      <td>10</td>\n",
       "      <td>success</td>\n",
       "    </tr>\n",
       "  </tbody>\n",
       "</table>\n",
       "</div>"
      ],
      "text/plain": [
       "                                          people  number  message\n",
       "0     {'name': 'Mark Vande Hei', 'craft': 'ISS'}      10  success\n",
       "1     {'name': 'Oleg Novitskiy', 'craft': 'ISS'}      10  success\n",
       "2       {'name': 'Pyotr Dubrov', 'craft': 'ISS'}      10  success\n",
       "3     {'name': 'Thomas Pesquet', 'craft': 'ISS'}      10  success\n",
       "4     {'name': 'Megan McArthur', 'craft': 'ISS'}      10  success\n",
       "5    {'name': 'Shane Kimbrough', 'craft': 'ISS'}      10  success\n",
       "6    {'name': 'Akihiko Hoshide', 'craft': 'ISS'}      10  success\n",
       "7  {'name': 'Nie Haisheng', 'craft': 'Tiangong'}      10  success\n",
       "8    {'name': 'Liu Boming', 'craft': 'Tiangong'}      10  success\n",
       "9   {'name': 'Tang Hongbo', 'craft': 'Tiangong'}      10  success"
      ]
     },
     "execution_count": 30,
     "metadata": {},
     "output_type": "execute_result"
    }
   ],
   "source": [
    "df = pd.DataFrame(json_data)\n",
    "df"
   ]
  },
  {
   "cell_type": "code",
   "execution_count": 31,
   "metadata": {},
   "outputs": [
    {
     "data": {
      "text/html": [
       "<div>\n",
       "<style scoped>\n",
       "    .dataframe tbody tr th:only-of-type {\n",
       "        vertical-align: middle;\n",
       "    }\n",
       "\n",
       "    .dataframe tbody tr th {\n",
       "        vertical-align: top;\n",
       "    }\n",
       "\n",
       "    .dataframe thead th {\n",
       "        text-align: right;\n",
       "    }\n",
       "</style>\n",
       "<table border=\"1\" class=\"dataframe\">\n",
       "  <thead>\n",
       "    <tr style=\"text-align: right;\">\n",
       "      <th></th>\n",
       "      <th>name</th>\n",
       "      <th>craft</th>\n",
       "    </tr>\n",
       "  </thead>\n",
       "  <tbody>\n",
       "    <tr>\n",
       "      <th>0</th>\n",
       "      <td>Mark Vande Hei</td>\n",
       "      <td>ISS</td>\n",
       "    </tr>\n",
       "    <tr>\n",
       "      <th>1</th>\n",
       "      <td>Oleg Novitskiy</td>\n",
       "      <td>ISS</td>\n",
       "    </tr>\n",
       "    <tr>\n",
       "      <th>2</th>\n",
       "      <td>Pyotr Dubrov</td>\n",
       "      <td>ISS</td>\n",
       "    </tr>\n",
       "    <tr>\n",
       "      <th>3</th>\n",
       "      <td>Thomas Pesquet</td>\n",
       "      <td>ISS</td>\n",
       "    </tr>\n",
       "    <tr>\n",
       "      <th>4</th>\n",
       "      <td>Megan McArthur</td>\n",
       "      <td>ISS</td>\n",
       "    </tr>\n",
       "    <tr>\n",
       "      <th>5</th>\n",
       "      <td>Shane Kimbrough</td>\n",
       "      <td>ISS</td>\n",
       "    </tr>\n",
       "    <tr>\n",
       "      <th>6</th>\n",
       "      <td>Akihiko Hoshide</td>\n",
       "      <td>ISS</td>\n",
       "    </tr>\n",
       "    <tr>\n",
       "      <th>7</th>\n",
       "      <td>Nie Haisheng</td>\n",
       "      <td>Tiangong</td>\n",
       "    </tr>\n",
       "    <tr>\n",
       "      <th>8</th>\n",
       "      <td>Liu Boming</td>\n",
       "      <td>Tiangong</td>\n",
       "    </tr>\n",
       "    <tr>\n",
       "      <th>9</th>\n",
       "      <td>Tang Hongbo</td>\n",
       "      <td>Tiangong</td>\n",
       "    </tr>\n",
       "  </tbody>\n",
       "</table>\n",
       "</div>"
      ],
      "text/plain": [
       "              name     craft\n",
       "0   Mark Vande Hei       ISS\n",
       "1   Oleg Novitskiy       ISS\n",
       "2     Pyotr Dubrov       ISS\n",
       "3   Thomas Pesquet       ISS\n",
       "4   Megan McArthur       ISS\n",
       "5  Shane Kimbrough       ISS\n",
       "6  Akihiko Hoshide       ISS\n",
       "7     Nie Haisheng  Tiangong\n",
       "8       Liu Boming  Tiangong\n",
       "9      Tang Hongbo  Tiangong"
      ]
     },
     "execution_count": 31,
     "metadata": {},
     "output_type": "execute_result"
    }
   ],
   "source": [
    "df2 = pd.DataFrame(json_data['people'])\n",
    "df2"
   ]
  },
  {
   "cell_type": "markdown",
   "metadata": {
    "id": "2WgAFL2fdpbe"
   },
   "source": [
    "# 2. Fetch Data Via Parse HTML"
   ]
  },
  {
   "cell_type": "markdown",
   "metadata": {
    "id": "imGN1GntAD0F"
   },
   "source": [
    "## 2.1 Video Game Music Demo"
   ]
  },
  {
   "cell_type": "markdown",
   "metadata": {
    "id": "b2igdQoc-n92"
   },
   "source": [
    "We will parse a webpage full or links (https://www.vgmusic.com/music/console/nintendo/nes/).\n",
    " \n",
    "This would be of interest if we were harvesting data stored in links from a web-based source. There are important background information on html:\n",
    "- `<a>`is known as an anchor element in HTML, we usually search for these elements when parsing for links. (`https://developer.mozilla.org/en-US/docs/Web/HTML/Element/a`)\n",
    "- `href` is an attribue of `<a>` which creates the hyperlink"
   ]
  },
  {
   "cell_type": "code",
   "execution_count": 32,
   "metadata": {
    "ExecuteTime": {
     "end_time": "2020-08-03T13:46:34.685879Z",
     "start_time": "2020-08-03T13:46:34.681978Z"
    },
    "id": "x0VJy8FGTJM-"
   },
   "outputs": [],
   "source": [
    "URL = 'https://www.vgmusic.com/music/console/nintendo/nes/'\n",
    "response = requests.get(URL)\n",
    "text = response.text\n",
    "soup = BeautifulSoup(text, 'html.parser')"
   ]
  },
  {
   "cell_type": "code",
   "execution_count": 33,
   "metadata": {
    "id": "6hAeuKYlRKn3"
   },
   "outputs": [
    {
     "data": {
      "text/plain": [
       "[<a href=\"http://www.vgmusic.com/information/donate.php\">Please contribute today</a>,\n",
       " <a href=\"/\"><img alt=\"You are surfing the Videogame Music Archive\" border=\"0\" height=\"60\" src=\"/images/mikey57a.gif\" width=\"468\"/></a>,\n",
       " <a name=\"10Yard_Fight\">10-Yard Fight</a>,\n",
       " <a href=\"10-Yard_Fight-Kick_Off.mid\">Kick Off</a>,\n",
       " <a href=\"/file/debcd7c61535f6aba8d4b88d8d0182db.html#disqus_thread\">Comments</a>,\n",
       " <a name=\"1943\">1943</a>,\n",
       " <a href=\"1943.mid\">\"Raid and Pacific Attack\" Title Screen Song</a>,\n",
       " <a href=\"/file/c6d8c1b732822f614e3b5892b703c58f.html#disqus_thread\">Comments</a>,\n",
       " <a href=\"1943sab.mid\">Assault on Surface Forces B</a>,\n",
       " <a href=\"/file/07f297682c9731ad956da14180f2aa65.html#disqus_thread\">Comments</a>]"
      ]
     },
     "execution_count": 33,
     "metadata": {},
     "output_type": "execute_result"
    }
   ],
   "source": [
    "soup.find_all(\"a\")[0:10]"
   ]
  },
  {
   "cell_type": "code",
   "execution_count": 34,
   "metadata": {
    "id": "dbJDJpZWXgFn"
   },
   "outputs": [
    {
     "data": {
      "text/plain": [
       "8851"
      ]
     },
     "execution_count": 34,
     "metadata": {},
     "output_type": "execute_result"
    }
   ],
   "source": [
    "len(soup.find_all(\"a\"))"
   ]
  },
  {
   "cell_type": "code",
   "execution_count": 35,
   "metadata": {
    "id": "W222VAvDkomj"
   },
   "outputs": [],
   "source": [
    "href_list = [link.get(\"href\") for link in soup.find_all(\"a\")]\n",
    "\n",
    "# code without using list comprehension:\n",
    "# href_list = []\n",
    "# for link in soup.find_all(\"a\"):\n",
    "#   href_list.append(link.get(\"href\"))"
   ]
  },
  {
   "cell_type": "code",
   "execution_count": 36,
   "metadata": {
    "id": "XMSDCXeGSZkL"
   },
   "outputs": [],
   "source": [
    "df = pd.DataFrame({\"song_list\": href_list, \"base_url\": URL})"
   ]
  },
  {
   "cell_type": "code",
   "execution_count": 37,
   "metadata": {
    "id": "cNOAQn6dkO-L"
   },
   "outputs": [
    {
     "data": {
      "text/plain": [
       "8851"
      ]
     },
     "execution_count": 37,
     "metadata": {},
     "output_type": "execute_result"
    }
   ],
   "source": [
    "len(df.song_list)"
   ]
  },
  {
   "cell_type": "code",
   "execution_count": 38,
   "metadata": {
    "id": "ax4XrzFVUDYm"
   },
   "outputs": [
    {
     "data": {
      "text/html": [
       "<div>\n",
       "<style scoped>\n",
       "    .dataframe tbody tr th:only-of-type {\n",
       "        vertical-align: middle;\n",
       "    }\n",
       "\n",
       "    .dataframe tbody tr th {\n",
       "        vertical-align: top;\n",
       "    }\n",
       "\n",
       "    .dataframe thead th {\n",
       "        text-align: right;\n",
       "    }\n",
       "</style>\n",
       "<table border=\"1\" class=\"dataframe\">\n",
       "  <thead>\n",
       "    <tr style=\"text-align: right;\">\n",
       "      <th></th>\n",
       "      <th>song_list</th>\n",
       "      <th>base_url</th>\n",
       "    </tr>\n",
       "  </thead>\n",
       "  <tbody>\n",
       "    <tr>\n",
       "      <th>3</th>\n",
       "      <td>10-Yard_Fight-Kick_Off.mid</td>\n",
       "      <td>https://www.vgmusic.com/music/console/nintendo...</td>\n",
       "    </tr>\n",
       "    <tr>\n",
       "      <th>6</th>\n",
       "      <td>1943.mid</td>\n",
       "      <td>https://www.vgmusic.com/music/console/nintendo...</td>\n",
       "    </tr>\n",
       "    <tr>\n",
       "      <th>8</th>\n",
       "      <td>1943sab.mid</td>\n",
       "      <td>https://www.vgmusic.com/music/console/nintendo...</td>\n",
       "    </tr>\n",
       "    <tr>\n",
       "      <th>10</th>\n",
       "      <td>1943-lev1.mid</td>\n",
       "      <td>https://www.vgmusic.com/music/console/nintendo...</td>\n",
       "    </tr>\n",
       "    <tr>\n",
       "      <th>12</th>\n",
       "      <td>43pbos1.mid</td>\n",
       "      <td>https://www.vgmusic.com/music/console/nintendo...</td>\n",
       "    </tr>\n",
       "  </tbody>\n",
       "</table>\n",
       "</div>"
      ],
      "text/plain": [
       "                     song_list  \\\n",
       "3   10-Yard_Fight-Kick_Off.mid   \n",
       "6                     1943.mid   \n",
       "8                  1943sab.mid   \n",
       "10               1943-lev1.mid   \n",
       "12                 43pbos1.mid   \n",
       "\n",
       "                                             base_url  \n",
       "3   https://www.vgmusic.com/music/console/nintendo...  \n",
       "6   https://www.vgmusic.com/music/console/nintendo...  \n",
       "8   https://www.vgmusic.com/music/console/nintendo...  \n",
       "10  https://www.vgmusic.com/music/console/nintendo...  \n",
       "12  https://www.vgmusic.com/music/console/nintendo...  "
      ]
     },
     "execution_count": 38,
     "metadata": {},
     "output_type": "execute_result"
    }
   ],
   "source": [
    "aux = df[df[\"song_list\"].str.contains(\".mid\", na=False)]\n",
    "aux.head()"
   ]
  },
  {
   "cell_type": "code",
   "execution_count": 39,
   "metadata": {
    "id": "SzagQJMnXkqA"
   },
   "outputs": [
    {
     "data": {
      "text/html": [
       "<div>\n",
       "<style scoped>\n",
       "    .dataframe tbody tr th:only-of-type {\n",
       "        vertical-align: middle;\n",
       "    }\n",
       "\n",
       "    .dataframe tbody tr th {\n",
       "        vertical-align: top;\n",
       "    }\n",
       "\n",
       "    .dataframe thead th {\n",
       "        text-align: right;\n",
       "    }\n",
       "</style>\n",
       "<table border=\"1\" class=\"dataframe\">\n",
       "  <thead>\n",
       "    <tr style=\"text-align: right;\">\n",
       "      <th></th>\n",
       "      <th>index</th>\n",
       "      <th>song_list</th>\n",
       "      <th>base_url</th>\n",
       "    </tr>\n",
       "  </thead>\n",
       "  <tbody>\n",
       "    <tr>\n",
       "      <th>0</th>\n",
       "      <td>3</td>\n",
       "      <td>10-Yard_Fight-Kick_Off.mid</td>\n",
       "      <td>https://www.vgmusic.com/music/console/nintendo...</td>\n",
       "    </tr>\n",
       "    <tr>\n",
       "      <th>1</th>\n",
       "      <td>6</td>\n",
       "      <td>1943.mid</td>\n",
       "      <td>https://www.vgmusic.com/music/console/nintendo...</td>\n",
       "    </tr>\n",
       "    <tr>\n",
       "      <th>2</th>\n",
       "      <td>8</td>\n",
       "      <td>1943sab.mid</td>\n",
       "      <td>https://www.vgmusic.com/music/console/nintendo...</td>\n",
       "    </tr>\n",
       "    <tr>\n",
       "      <th>3</th>\n",
       "      <td>10</td>\n",
       "      <td>1943-lev1.mid</td>\n",
       "      <td>https://www.vgmusic.com/music/console/nintendo...</td>\n",
       "    </tr>\n",
       "    <tr>\n",
       "      <th>4</th>\n",
       "      <td>12</td>\n",
       "      <td>43pbos1.mid</td>\n",
       "      <td>https://www.vgmusic.com/music/console/nintendo...</td>\n",
       "    </tr>\n",
       "  </tbody>\n",
       "</table>\n",
       "</div>"
      ],
      "text/plain": [
       "   index                   song_list  \\\n",
       "0      3  10-Yard_Fight-Kick_Off.mid   \n",
       "1      6                    1943.mid   \n",
       "2      8                 1943sab.mid   \n",
       "3     10               1943-lev1.mid   \n",
       "4     12                 43pbos1.mid   \n",
       "\n",
       "                                            base_url  \n",
       "0  https://www.vgmusic.com/music/console/nintendo...  \n",
       "1  https://www.vgmusic.com/music/console/nintendo...  \n",
       "2  https://www.vgmusic.com/music/console/nintendo...  \n",
       "3  https://www.vgmusic.com/music/console/nintendo...  \n",
       "4  https://www.vgmusic.com/music/console/nintendo...  "
      ]
     },
     "execution_count": 39,
     "metadata": {},
     "output_type": "execute_result"
    }
   ],
   "source": [
    "aux.reset_index(inplace=True)\n",
    "aux.head()"
   ]
  },
  {
   "cell_type": "code",
   "execution_count": 40,
   "metadata": {
    "id": "tDx23KQ8kdxD"
   },
   "outputs": [],
   "source": [
    "# axis=1 is for columns \n",
    "aux = aux.drop('index', axis=1)"
   ]
  },
  {
   "cell_type": "code",
   "execution_count": 41,
   "metadata": {
    "ExecuteTime": {
     "end_time": "2020-08-03T13:46:34.690050Z",
     "start_time": "2020-08-03T13:46:34.687983Z"
    },
    "id": "o9FuF8mATJM-"
   },
   "outputs": [
    {
     "data": {
      "text/html": [
       "<div>\n",
       "<style scoped>\n",
       "    .dataframe tbody tr th:only-of-type {\n",
       "        vertical-align: middle;\n",
       "    }\n",
       "\n",
       "    .dataframe tbody tr th {\n",
       "        vertical-align: top;\n",
       "    }\n",
       "\n",
       "    .dataframe thead th {\n",
       "        text-align: right;\n",
       "    }\n",
       "</style>\n",
       "<table border=\"1\" class=\"dataframe\">\n",
       "  <thead>\n",
       "    <tr style=\"text-align: right;\">\n",
       "      <th></th>\n",
       "      <th>song_list</th>\n",
       "      <th>base_url</th>\n",
       "      <th>full_path</th>\n",
       "    </tr>\n",
       "  </thead>\n",
       "  <tbody>\n",
       "    <tr>\n",
       "      <th>0</th>\n",
       "      <td>10-Yard_Fight-Kick_Off.mid</td>\n",
       "      <td>https://www.vgmusic.com/music/console/nintendo...</td>\n",
       "      <td>https://www.vgmusic.com/music/console/nintendo...</td>\n",
       "    </tr>\n",
       "    <tr>\n",
       "      <th>1</th>\n",
       "      <td>1943.mid</td>\n",
       "      <td>https://www.vgmusic.com/music/console/nintendo...</td>\n",
       "      <td>https://www.vgmusic.com/music/console/nintendo...</td>\n",
       "    </tr>\n",
       "    <tr>\n",
       "      <th>2</th>\n",
       "      <td>1943sab.mid</td>\n",
       "      <td>https://www.vgmusic.com/music/console/nintendo...</td>\n",
       "      <td>https://www.vgmusic.com/music/console/nintendo...</td>\n",
       "    </tr>\n",
       "    <tr>\n",
       "      <th>3</th>\n",
       "      <td>1943-lev1.mid</td>\n",
       "      <td>https://www.vgmusic.com/music/console/nintendo...</td>\n",
       "      <td>https://www.vgmusic.com/music/console/nintendo...</td>\n",
       "    </tr>\n",
       "    <tr>\n",
       "      <th>4</th>\n",
       "      <td>43pbos1.mid</td>\n",
       "      <td>https://www.vgmusic.com/music/console/nintendo...</td>\n",
       "      <td>https://www.vgmusic.com/music/console/nintendo...</td>\n",
       "    </tr>\n",
       "  </tbody>\n",
       "</table>\n",
       "</div>"
      ],
      "text/plain": [
       "                    song_list  \\\n",
       "0  10-Yard_Fight-Kick_Off.mid   \n",
       "1                    1943.mid   \n",
       "2                 1943sab.mid   \n",
       "3               1943-lev1.mid   \n",
       "4                 43pbos1.mid   \n",
       "\n",
       "                                            base_url  \\\n",
       "0  https://www.vgmusic.com/music/console/nintendo...   \n",
       "1  https://www.vgmusic.com/music/console/nintendo...   \n",
       "2  https://www.vgmusic.com/music/console/nintendo...   \n",
       "3  https://www.vgmusic.com/music/console/nintendo...   \n",
       "4  https://www.vgmusic.com/music/console/nintendo...   \n",
       "\n",
       "                                           full_path  \n",
       "0  https://www.vgmusic.com/music/console/nintendo...  \n",
       "1  https://www.vgmusic.com/music/console/nintendo...  \n",
       "2  https://www.vgmusic.com/music/console/nintendo...  \n",
       "3  https://www.vgmusic.com/music/console/nintendo...  \n",
       "4  https://www.vgmusic.com/music/console/nintendo...  "
      ]
     },
     "execution_count": 41,
     "metadata": {},
     "output_type": "execute_result"
    }
   ],
   "source": [
    "aux['full_path'] = aux['base_url'] + aux[\"song_list\"]\n",
    "aux.head()"
   ]
  },
  {
   "cell_type": "code",
   "execution_count": 42,
   "metadata": {
    "id": "uZyNXY9SOYk-"
   },
   "outputs": [
    {
     "data": {
      "text/plain": [
       "4204"
      ]
     },
     "execution_count": 42,
     "metadata": {},
     "output_type": "execute_result"
    }
   ],
   "source": [
    "len(aux)"
   ]
  },
  {
   "cell_type": "code",
   "execution_count": 43,
   "metadata": {
    "id": "G7HiSnJ9jkeM"
   },
   "outputs": [
    {
     "data": {
      "text/plain": [
       "'https://www.vgmusic.com/music/console/nintendo/nes/10-Yard_Fight-Kick_Off.mid'"
      ]
     },
     "execution_count": 43,
     "metadata": {},
     "output_type": "execute_result"
    }
   ],
   "source": [
    "aux.full_path[0]"
   ]
  },
  {
   "cell_type": "markdown",
   "metadata": {
    "id": "rChEkIjYAJt2"
   },
   "source": [
    "## 2.2 Exercise: Google Scholar Link Extraction"
   ]
  },
  {
   "cell_type": "markdown",
   "metadata": {
    "id": "JC53gztpjbuD"
   },
   "source": [
    "Let's practice link extraction from html. For the following exercise we will\n",
    "go to google scholar and extract every link that leads to an academic article. Be sure to put the results into a nice list or DataFrame showing just the necessary links.\n",
    "\n",
    "Please go to Google Scholar https://scholar.google.com\n",
    "\n",
    "Type in \"astroids\", then copy and paste that web url link to use. "
   ]
  },
  {
   "cell_type": "code",
   "execution_count": 50,
   "metadata": {
    "id": "CfZGsVHfj9Oc"
   },
   "outputs": [],
   "source": [
    "url = \"https://scholar.google.com/scholar?hl=en&as_sdt=0%2C5&q=asteroids&oq=astero\"\n",
    "response2 = requests.get(url)\n",
    "text2 = response2.text\n",
    "soup2 = BeautifulSoup(text2, 'html.parser')"
   ]
  },
  {
   "cell_type": "code",
   "execution_count": 51,
   "metadata": {},
   "outputs": [
    {
     "data": {
      "text/plain": [
       "[<a aria-label=\"Cancel\" class=\"gs_btnCLS gs_md_x gs_md_hdr_c gs_in_ib gs_btn_lrge\" data-mdx=\"gs_cit\" href=\"javascript:void(0)\" id=\"gs_cit-x\" role=\"button\"><span class=\"gs_ico\"></span><span class=\"gs_lbl\"></span></a>,\n",
       " <a aria-label=\"Cancel\" class=\"gs_btnCLS gs_md_x gs_md_hdr_c gs_in_ib gs_btn_lrge\" data-mdx=\"gs_asd\" href=\"javascript:void(0)\" id=\"gs_asd-x\" role=\"button\"><span class=\"gs_ico\"></span><span class=\"gs_lbl\"></span></a>,\n",
       " <a aria-controls=\"gs_hdr_drw\" aria-label=\"Options\" class=\"gs_btnMNT gs_in_ib gs_btn_lrge\" href=\"javascript:void(0)\" id=\"gs_hdr_drw_mnu\" role=\"button\"><span class=\"gs_ico\"></span><span class=\"gs_lbl\"></span></a>,\n",
       " <a aria-label=\"Homepage\" href=\"/schhp?hl=en&amp;oe=ASCII&amp;as_sdt=0,5\" id=\"gs_hdr_drw_lgo\"></a>,\n",
       " <a class=\"gs_in_ib gs_md_li gs_md_lix gs_in_gray gs_sel\" href=\"/scholar?as_sdt=0,5&amp;q=asteroids&amp;hl=en&amp;oe=ASCII\" role=\"menuitem\"><span class=\"gs_ico\"></span><span class=\"gs_lbl\">Articles</span></a>,\n",
       " <a class=\"gs_in_ib gs_md_li gs_md_lix gs_in_gray\" href=\"/scholar?as_sdt=2006&amp;q=asteroids&amp;hl=en&amp;oe=ASCII\" role=\"menuitem\"><span class=\"gs_ico\"></span><span class=\"gs_lbl\">Case law</span></a>,\n",
       " <a class=\"gs_in_ib gs_md_li gs_md_lix gs_in_gray\" href=\"/citations?view_op=search_authors&amp;mauthors=asteroids&amp;hl=en&amp;oe=ASCII&amp;oi=drw\" role=\"menuitem\"><span class=\"gs_ico\"></span><span class=\"gs_lbl\">Profiles</span></a>,\n",
       " <a class=\"gs_btnPRO gs_in_ib gs_md_li gs_md_lix gs_in_gray\" href=\"/citations?hl=en&amp;oe=ASCII\" role=\"menuitem\"><span class=\"gs_ico\"></span><span class=\"gs_lbl\">My profile</span></a>,\n",
       " <a class=\"gs_btnL gs_in_ib gs_md_li gs_md_lix gs_in_gray\" href=\"/scholar?scilib=1&amp;scioq=asteroids&amp;hl=en&amp;oe=ASCII&amp;as_sdt=0,5\" role=\"menuitem\"><span class=\"gs_ico\"></span><span class=\"gs_lbl\">My library</span></a>,\n",
       " <a class=\"gs_btnM gs_in_ib gs_md_li gs_md_lix gs_in_gray\" href=\"/scholar_alerts?view_op=list_alerts&amp;hl=en&amp;oe=ASCII\" role=\"menuitem\"><span class=\"gs_ico\"></span><span class=\"gs_lbl\">Alerts</span></a>]"
      ]
     },
     "execution_count": 51,
     "metadata": {},
     "output_type": "execute_result"
    }
   ],
   "source": [
    "soup2.find_all(\"a\")[0:10]"
   ]
  },
  {
   "cell_type": "markdown",
   "metadata": {
    "id": "bNBaFrenXQdU"
   },
   "source": [
    "# 3. Fetch Data From PDF"
   ]
  },
  {
   "cell_type": "markdown",
   "metadata": {
    "id": "Wjq6Bd4XllH-"
   },
   "source": [
    "https://camelot-py.readthedocs.io/en/master/_static/pdf/foo.pdf"
   ]
  },
  {
   "cell_type": "code",
   "execution_count": 52,
   "metadata": {
    "id": "gfqH24AYXUFc"
   },
   "outputs": [
    {
     "ename": "JavaNotFoundError",
     "evalue": "`java` command is not found from this Python process.Please ensure Java is installed and PATH is set for `java`",
     "output_type": "error",
     "traceback": [
      "\u001b[1;31m---------------------------------------------------------------------------\u001b[0m",
      "\u001b[1;31mFileNotFoundError\u001b[0m                         Traceback (most recent call last)",
      "\u001b[1;32mC:\\ProgramData\\Anaconda3\\lib\\site-packages\\tabula\\io.py\u001b[0m in \u001b[0;36m_run\u001b[1;34m(java_options, options, path, encoding)\u001b[0m\n\u001b[0;32m     79\u001b[0m     \u001b[1;32mtry\u001b[0m\u001b[1;33m:\u001b[0m\u001b[1;33m\u001b[0m\u001b[1;33m\u001b[0m\u001b[0m\n\u001b[1;32m---> 80\u001b[1;33m         result = subprocess.run(\n\u001b[0m\u001b[0;32m     81\u001b[0m             \u001b[0margs\u001b[0m\u001b[1;33m,\u001b[0m\u001b[1;33m\u001b[0m\u001b[1;33m\u001b[0m\u001b[0m\n",
      "\u001b[1;32mC:\\ProgramData\\Anaconda3\\lib\\subprocess.py\u001b[0m in \u001b[0;36mrun\u001b[1;34m(input, capture_output, timeout, check, *popenargs, **kwargs)\u001b[0m\n\u001b[0;32m    492\u001b[0m \u001b[1;33m\u001b[0m\u001b[0m\n\u001b[1;32m--> 493\u001b[1;33m     \u001b[1;32mwith\u001b[0m \u001b[0mPopen\u001b[0m\u001b[1;33m(\u001b[0m\u001b[1;33m*\u001b[0m\u001b[0mpopenargs\u001b[0m\u001b[1;33m,\u001b[0m \u001b[1;33m**\u001b[0m\u001b[0mkwargs\u001b[0m\u001b[1;33m)\u001b[0m \u001b[1;32mas\u001b[0m \u001b[0mprocess\u001b[0m\u001b[1;33m:\u001b[0m\u001b[1;33m\u001b[0m\u001b[1;33m\u001b[0m\u001b[0m\n\u001b[0m\u001b[0;32m    494\u001b[0m         \u001b[1;32mtry\u001b[0m\u001b[1;33m:\u001b[0m\u001b[1;33m\u001b[0m\u001b[1;33m\u001b[0m\u001b[0m\n",
      "\u001b[1;32mC:\\ProgramData\\Anaconda3\\lib\\subprocess.py\u001b[0m in \u001b[0;36m__init__\u001b[1;34m(self, args, bufsize, executable, stdin, stdout, stderr, preexec_fn, close_fds, shell, cwd, env, universal_newlines, startupinfo, creationflags, restore_signals, start_new_session, pass_fds, encoding, errors, text)\u001b[0m\n\u001b[0;32m    857\u001b[0m \u001b[1;33m\u001b[0m\u001b[0m\n\u001b[1;32m--> 858\u001b[1;33m             self._execute_child(args, executable, preexec_fn, close_fds,\n\u001b[0m\u001b[0;32m    859\u001b[0m                                 \u001b[0mpass_fds\u001b[0m\u001b[1;33m,\u001b[0m \u001b[0mcwd\u001b[0m\u001b[1;33m,\u001b[0m \u001b[0menv\u001b[0m\u001b[1;33m,\u001b[0m\u001b[1;33m\u001b[0m\u001b[1;33m\u001b[0m\u001b[0m\n",
      "\u001b[1;32mC:\\ProgramData\\Anaconda3\\lib\\subprocess.py\u001b[0m in \u001b[0;36m_execute_child\u001b[1;34m(self, args, executable, preexec_fn, close_fds, pass_fds, cwd, env, startupinfo, creationflags, shell, p2cread, p2cwrite, c2pread, c2pwrite, errread, errwrite, unused_restore_signals, unused_start_new_session)\u001b[0m\n\u001b[0;32m   1310\u001b[0m             \u001b[1;32mtry\u001b[0m\u001b[1;33m:\u001b[0m\u001b[1;33m\u001b[0m\u001b[1;33m\u001b[0m\u001b[0m\n\u001b[1;32m-> 1311\u001b[1;33m                 hp, ht, pid, tid = _winapi.CreateProcess(executable, args,\n\u001b[0m\u001b[0;32m   1312\u001b[0m                                          \u001b[1;31m# no special security\u001b[0m\u001b[1;33m\u001b[0m\u001b[1;33m\u001b[0m\u001b[1;33m\u001b[0m\u001b[0m\n",
      "\u001b[1;31mFileNotFoundError\u001b[0m: [WinError 2] The system cannot find the file specified",
      "\nDuring handling of the above exception, another exception occurred:\n",
      "\u001b[1;31mJavaNotFoundError\u001b[0m                         Traceback (most recent call last)",
      "\u001b[1;32m<ipython-input-52-c7de85bf90d2>\u001b[0m in \u001b[0;36m<module>\u001b[1;34m\u001b[0m\n\u001b[0;32m      1\u001b[0m \u001b[0mURL\u001b[0m \u001b[1;33m=\u001b[0m \u001b[1;34m\"https://camelot-py.readthedocs.io/en/master/_static/pdf/foo.pdf\"\u001b[0m\u001b[1;33m\u001b[0m\u001b[1;33m\u001b[0m\u001b[0m\n\u001b[1;32m----> 2\u001b[1;33m \u001b[0mdf_list\u001b[0m \u001b[1;33m=\u001b[0m \u001b[0mread_pdf\u001b[0m\u001b[1;33m(\u001b[0m\u001b[0mURL\u001b[0m\u001b[1;33m,\u001b[0m \u001b[0moutput_format\u001b[0m\u001b[1;33m=\u001b[0m\u001b[1;34m\"dataframe\"\u001b[0m\u001b[1;33m,\u001b[0m \u001b[0mpages\u001b[0m\u001b[1;33m=\u001b[0m\u001b[1;34m\"all\"\u001b[0m\u001b[1;33m)\u001b[0m\u001b[1;33m\u001b[0m\u001b[1;33m\u001b[0m\u001b[0m\n\u001b[0m",
      "\u001b[1;32mC:\\ProgramData\\Anaconda3\\lib\\site-packages\\tabula\\io.py\u001b[0m in \u001b[0;36mread_pdf\u001b[1;34m(input_path, output_format, encoding, java_options, pandas_options, multiple_tables, user_agent, **kwargs)\u001b[0m\n\u001b[0;32m    320\u001b[0m \u001b[1;33m\u001b[0m\u001b[0m\n\u001b[0;32m    321\u001b[0m     \u001b[1;32mtry\u001b[0m\u001b[1;33m:\u001b[0m\u001b[1;33m\u001b[0m\u001b[1;33m\u001b[0m\u001b[0m\n\u001b[1;32m--> 322\u001b[1;33m         \u001b[0moutput\u001b[0m \u001b[1;33m=\u001b[0m \u001b[0m_run\u001b[0m\u001b[1;33m(\u001b[0m\u001b[0mjava_options\u001b[0m\u001b[1;33m,\u001b[0m \u001b[0mkwargs\u001b[0m\u001b[1;33m,\u001b[0m \u001b[0mpath\u001b[0m\u001b[1;33m,\u001b[0m \u001b[0mencoding\u001b[0m\u001b[1;33m)\u001b[0m\u001b[1;33m\u001b[0m\u001b[1;33m\u001b[0m\u001b[0m\n\u001b[0m\u001b[0;32m    323\u001b[0m     \u001b[1;32mfinally\u001b[0m\u001b[1;33m:\u001b[0m\u001b[1;33m\u001b[0m\u001b[1;33m\u001b[0m\u001b[0m\n\u001b[0;32m    324\u001b[0m         \u001b[1;32mif\u001b[0m \u001b[0mtemporary\u001b[0m\u001b[1;33m:\u001b[0m\u001b[1;33m\u001b[0m\u001b[1;33m\u001b[0m\u001b[0m\n",
      "\u001b[1;32mC:\\ProgramData\\Anaconda3\\lib\\site-packages\\tabula\\io.py\u001b[0m in \u001b[0;36m_run\u001b[1;34m(java_options, options, path, encoding)\u001b[0m\n\u001b[0;32m     89\u001b[0m         \u001b[1;32mreturn\u001b[0m \u001b[0mresult\u001b[0m\u001b[1;33m.\u001b[0m\u001b[0mstdout\u001b[0m\u001b[1;33m\u001b[0m\u001b[1;33m\u001b[0m\u001b[0m\n\u001b[0;32m     90\u001b[0m     \u001b[1;32mexcept\u001b[0m \u001b[0mFileNotFoundError\u001b[0m\u001b[1;33m:\u001b[0m\u001b[1;33m\u001b[0m\u001b[1;33m\u001b[0m\u001b[0m\n\u001b[1;32m---> 91\u001b[1;33m         \u001b[1;32mraise\u001b[0m \u001b[0mJavaNotFoundError\u001b[0m\u001b[1;33m(\u001b[0m\u001b[0mJAVA_NOT_FOUND_ERROR\u001b[0m\u001b[1;33m)\u001b[0m\u001b[1;33m\u001b[0m\u001b[1;33m\u001b[0m\u001b[0m\n\u001b[0m\u001b[0;32m     92\u001b[0m     \u001b[1;32mexcept\u001b[0m \u001b[0msubprocess\u001b[0m\u001b[1;33m.\u001b[0m\u001b[0mCalledProcessError\u001b[0m \u001b[1;32mas\u001b[0m \u001b[0me\u001b[0m\u001b[1;33m:\u001b[0m\u001b[1;33m\u001b[0m\u001b[1;33m\u001b[0m\u001b[0m\n\u001b[0;32m     93\u001b[0m         \u001b[0mlogger\u001b[0m\u001b[1;33m.\u001b[0m\u001b[0merror\u001b[0m\u001b[1;33m(\u001b[0m\u001b[1;34m\"Error from tabula-java:\\n{}\\n\"\u001b[0m\u001b[1;33m.\u001b[0m\u001b[0mformat\u001b[0m\u001b[1;33m(\u001b[0m\u001b[0me\u001b[0m\u001b[1;33m.\u001b[0m\u001b[0mstderr\u001b[0m\u001b[1;33m.\u001b[0m\u001b[0mdecode\u001b[0m\u001b[1;33m(\u001b[0m\u001b[0mencoding\u001b[0m\u001b[1;33m)\u001b[0m\u001b[1;33m)\u001b[0m\u001b[1;33m)\u001b[0m\u001b[1;33m\u001b[0m\u001b[1;33m\u001b[0m\u001b[0m\n",
      "\u001b[1;31mJavaNotFoundError\u001b[0m: `java` command is not found from this Python process.Please ensure Java is installed and PATH is set for `java`"
     ]
    }
   ],
   "source": [
    "URL = \"https://camelot-py.readthedocs.io/en/master/_static/pdf/foo.pdf\"\n",
    "df_list = read_pdf(URL, output_format=\"dataframe\", pages=\"all\")"
   ]
  },
  {
   "cell_type": "code",
   "execution_count": null,
   "metadata": {
    "id": "dqUrUWillcTj"
   },
   "outputs": [],
   "source": [
    "df = df_list[0]\n",
    "df.head()"
   ]
  },
  {
   "cell_type": "code",
   "execution_count": null,
   "metadata": {
    "id": "pa3mONDblm-k"
   },
   "outputs": [],
   "source": [
    "df.columns"
   ]
  },
  {
   "cell_type": "code",
   "execution_count": null,
   "metadata": {
    "id": "cN484e3_lqqS"
   },
   "outputs": [],
   "source": [
    "df['decrease_accel'] = df[\"Percent Fuel Savings\"].str.split(\" \").str[0]\n",
    "df['eliminate_stops'] = df[\"Percent Fuel Savings\"].str.split(\" \").str[1]\n",
    "df.head()"
   ]
  },
  {
   "cell_type": "code",
   "execution_count": null,
   "metadata": {
    "id": "-X5VGKTBmSZC"
   },
   "outputs": [],
   "source": [
    "df = df[3:7]\n",
    "df = df.rename(columns={\n",
    "    \"Unnamed: 0\": \"cycle_name\", \n",
    "    \"Unnamed: 1\": \"KI\",\n",
    "    \"Unnamed: 2\": \"distance\",\n",
    "    \"Unnamed: 3\": \"improved_speed\",\n",
    "    \"Unnamed: 5\": \"decrease_idle\"\n",
    "  })"
   ]
  },
  {
   "cell_type": "code",
   "execution_count": null,
   "metadata": {
    "id": "kHvUH_OtiLkF"
   },
   "outputs": [],
   "source": [
    "df = df[[\"cycle_name\", \"KI\", \"distance\", \"improved_speed\", \"decrease_accel\", \"eliminate_stops\", \"decrease_idle\"]]\n",
    "df.head()"
   ]
  },
  {
   "cell_type": "markdown",
   "metadata": {
    "id": "G3t0N3TYnkey"
   },
   "source": [
    "# 4. Fetch Data From CSV / Save Data To CSV "
   ]
  },
  {
   "cell_type": "markdown",
   "metadata": {
    "id": "TTfl0ccCloEx"
   },
   "source": [
    "https://raw.githubusercontent.com/cs109/2014_data/master/countries.csv"
   ]
  },
  {
   "cell_type": "code",
   "execution_count": 53,
   "metadata": {
    "id": "ydeNWLvOniAp"
   },
   "outputs": [],
   "source": [
    "URL = \"https://raw.githubusercontent.com/cs109/2014_data/master/countries.csv\"\n",
    "df = pd.read_csv(URL)"
   ]
  },
  {
   "cell_type": "code",
   "execution_count": 54,
   "metadata": {
    "id": "Unf1gfqpoAiE"
   },
   "outputs": [
    {
     "data": {
      "text/html": [
       "<div>\n",
       "<style scoped>\n",
       "    .dataframe tbody tr th:only-of-type {\n",
       "        vertical-align: middle;\n",
       "    }\n",
       "\n",
       "    .dataframe tbody tr th {\n",
       "        vertical-align: top;\n",
       "    }\n",
       "\n",
       "    .dataframe thead th {\n",
       "        text-align: right;\n",
       "    }\n",
       "</style>\n",
       "<table border=\"1\" class=\"dataframe\">\n",
       "  <thead>\n",
       "    <tr style=\"text-align: right;\">\n",
       "      <th></th>\n",
       "      <th>Country</th>\n",
       "      <th>Region</th>\n",
       "    </tr>\n",
       "  </thead>\n",
       "  <tbody>\n",
       "    <tr>\n",
       "      <th>0</th>\n",
       "      <td>Algeria</td>\n",
       "      <td>AFRICA</td>\n",
       "    </tr>\n",
       "    <tr>\n",
       "      <th>1</th>\n",
       "      <td>Angola</td>\n",
       "      <td>AFRICA</td>\n",
       "    </tr>\n",
       "    <tr>\n",
       "      <th>2</th>\n",
       "      <td>Benin</td>\n",
       "      <td>AFRICA</td>\n",
       "    </tr>\n",
       "    <tr>\n",
       "      <th>3</th>\n",
       "      <td>Botswana</td>\n",
       "      <td>AFRICA</td>\n",
       "    </tr>\n",
       "    <tr>\n",
       "      <th>4</th>\n",
       "      <td>Burkina</td>\n",
       "      <td>AFRICA</td>\n",
       "    </tr>\n",
       "  </tbody>\n",
       "</table>\n",
       "</div>"
      ],
      "text/plain": [
       "    Country  Region\n",
       "0   Algeria  AFRICA\n",
       "1    Angola  AFRICA\n",
       "2     Benin  AFRICA\n",
       "3  Botswana  AFRICA\n",
       "4   Burkina  AFRICA"
      ]
     },
     "execution_count": 54,
     "metadata": {},
     "output_type": "execute_result"
    }
   ],
   "source": [
    "df.head()"
   ]
  },
  {
   "cell_type": "code",
   "execution_count": 55,
   "metadata": {
    "id": "gJgzw6lCoA93"
   },
   "outputs": [
    {
     "ename": "FileNotFoundError",
     "evalue": "[Errno 2] No such file or directory: '/content/drive/MyDrive/00_temp/countries.csv'",
     "output_type": "error",
     "traceback": [
      "\u001b[1;31m---------------------------------------------------------------------------\u001b[0m",
      "\u001b[1;31mFileNotFoundError\u001b[0m                         Traceback (most recent call last)",
      "\u001b[1;32m<ipython-input-55-968db8a7d91d>\u001b[0m in \u001b[0;36m<module>\u001b[1;34m\u001b[0m\n\u001b[0;32m      1\u001b[0m \u001b[0mPATH\u001b[0m \u001b[1;33m=\u001b[0m \u001b[1;34m\"/content/drive/MyDrive/00_temp/countries.csv\"\u001b[0m\u001b[1;33m\u001b[0m\u001b[1;33m\u001b[0m\u001b[0m\n\u001b[1;32m----> 2\u001b[1;33m \u001b[0mdf\u001b[0m\u001b[1;33m.\u001b[0m\u001b[0mto_csv\u001b[0m\u001b[1;33m(\u001b[0m\u001b[0mPATH\u001b[0m\u001b[1;33m,\u001b[0m \u001b[0mindex\u001b[0m\u001b[1;33m=\u001b[0m\u001b[1;32mFalse\u001b[0m\u001b[1;33m)\u001b[0m\u001b[1;33m\u001b[0m\u001b[1;33m\u001b[0m\u001b[0m\n\u001b[0m",
      "\u001b[1;32mC:\\ProgramData\\Anaconda3\\lib\\site-packages\\pandas\\core\\generic.py\u001b[0m in \u001b[0;36mto_csv\u001b[1;34m(self, path_or_buf, sep, na_rep, float_format, columns, header, index, index_label, mode, encoding, compression, quoting, quotechar, line_terminator, chunksize, date_format, doublequote, escapechar, decimal, errors, storage_options)\u001b[0m\n\u001b[0;32m   3385\u001b[0m         )\n\u001b[0;32m   3386\u001b[0m \u001b[1;33m\u001b[0m\u001b[0m\n\u001b[1;32m-> 3387\u001b[1;33m         return DataFrameRenderer(formatter).to_csv(\n\u001b[0m\u001b[0;32m   3388\u001b[0m             \u001b[0mpath_or_buf\u001b[0m\u001b[1;33m,\u001b[0m\u001b[1;33m\u001b[0m\u001b[1;33m\u001b[0m\u001b[0m\n\u001b[0;32m   3389\u001b[0m             \u001b[0mline_terminator\u001b[0m\u001b[1;33m=\u001b[0m\u001b[0mline_terminator\u001b[0m\u001b[1;33m,\u001b[0m\u001b[1;33m\u001b[0m\u001b[1;33m\u001b[0m\u001b[0m\n",
      "\u001b[1;32mC:\\ProgramData\\Anaconda3\\lib\\site-packages\\pandas\\io\\formats\\format.py\u001b[0m in \u001b[0;36mto_csv\u001b[1;34m(self, path_or_buf, encoding, sep, columns, index_label, mode, compression, quoting, quotechar, line_terminator, chunksize, date_format, doublequote, escapechar, errors, storage_options)\u001b[0m\n\u001b[0;32m   1081\u001b[0m             \u001b[0mformatter\u001b[0m\u001b[1;33m=\u001b[0m\u001b[0mself\u001b[0m\u001b[1;33m.\u001b[0m\u001b[0mfmt\u001b[0m\u001b[1;33m,\u001b[0m\u001b[1;33m\u001b[0m\u001b[1;33m\u001b[0m\u001b[0m\n\u001b[0;32m   1082\u001b[0m         )\n\u001b[1;32m-> 1083\u001b[1;33m         \u001b[0mcsv_formatter\u001b[0m\u001b[1;33m.\u001b[0m\u001b[0msave\u001b[0m\u001b[1;33m(\u001b[0m\u001b[1;33m)\u001b[0m\u001b[1;33m\u001b[0m\u001b[1;33m\u001b[0m\u001b[0m\n\u001b[0m\u001b[0;32m   1084\u001b[0m \u001b[1;33m\u001b[0m\u001b[0m\n\u001b[0;32m   1085\u001b[0m         \u001b[1;32mif\u001b[0m \u001b[0mcreated_buffer\u001b[0m\u001b[1;33m:\u001b[0m\u001b[1;33m\u001b[0m\u001b[1;33m\u001b[0m\u001b[0m\n",
      "\u001b[1;32mC:\\ProgramData\\Anaconda3\\lib\\site-packages\\pandas\\io\\formats\\csvs.py\u001b[0m in \u001b[0;36msave\u001b[1;34m(self)\u001b[0m\n\u001b[0;32m    226\u001b[0m         \"\"\"\n\u001b[0;32m    227\u001b[0m         \u001b[1;31m# apply compression and byte/text conversion\u001b[0m\u001b[1;33m\u001b[0m\u001b[1;33m\u001b[0m\u001b[1;33m\u001b[0m\u001b[0m\n\u001b[1;32m--> 228\u001b[1;33m         with get_handle(\n\u001b[0m\u001b[0;32m    229\u001b[0m             \u001b[0mself\u001b[0m\u001b[1;33m.\u001b[0m\u001b[0mfilepath_or_buffer\u001b[0m\u001b[1;33m,\u001b[0m\u001b[1;33m\u001b[0m\u001b[1;33m\u001b[0m\u001b[0m\n\u001b[0;32m    230\u001b[0m             \u001b[0mself\u001b[0m\u001b[1;33m.\u001b[0m\u001b[0mmode\u001b[0m\u001b[1;33m,\u001b[0m\u001b[1;33m\u001b[0m\u001b[1;33m\u001b[0m\u001b[0m\n",
      "\u001b[1;32mC:\\ProgramData\\Anaconda3\\lib\\site-packages\\pandas\\io\\common.py\u001b[0m in \u001b[0;36mget_handle\u001b[1;34m(path_or_buf, mode, encoding, compression, memory_map, is_text, errors, storage_options)\u001b[0m\n\u001b[0;32m    640\u001b[0m                 \u001b[0merrors\u001b[0m \u001b[1;33m=\u001b[0m \u001b[1;34m\"replace\"\u001b[0m\u001b[1;33m\u001b[0m\u001b[1;33m\u001b[0m\u001b[0m\n\u001b[0;32m    641\u001b[0m             \u001b[1;31m# Encoding\u001b[0m\u001b[1;33m\u001b[0m\u001b[1;33m\u001b[0m\u001b[1;33m\u001b[0m\u001b[0m\n\u001b[1;32m--> 642\u001b[1;33m             handle = open(\n\u001b[0m\u001b[0;32m    643\u001b[0m                 \u001b[0mhandle\u001b[0m\u001b[1;33m,\u001b[0m\u001b[1;33m\u001b[0m\u001b[1;33m\u001b[0m\u001b[0m\n\u001b[0;32m    644\u001b[0m                 \u001b[0mioargs\u001b[0m\u001b[1;33m.\u001b[0m\u001b[0mmode\u001b[0m\u001b[1;33m,\u001b[0m\u001b[1;33m\u001b[0m\u001b[1;33m\u001b[0m\u001b[0m\n",
      "\u001b[1;31mFileNotFoundError\u001b[0m: [Errno 2] No such file or directory: '/content/drive/MyDrive/00_temp/countries.csv'"
     ]
    }
   ],
   "source": [
    "PATH = \"/content/drive/MyDrive/00_temp/countries.csv\"\n",
    "df.to_csv(PATH, index=False)"
   ]
  },
  {
   "cell_type": "code",
   "execution_count": null,
   "metadata": {
    "id": "WsalvZuElJo8"
   },
   "outputs": [],
   "source": []
  }
 ],
 "metadata": {
  "colab": {
   "collapsed_sections": [],
   "include_colab_link": true,
   "name": "data-collection.ipynb",
   "provenance": []
  },
  "kernelspec": {
   "display_name": "Python 3",
   "language": "python",
   "name": "python3"
  },
  "language_info": {
   "codemirror_mode": {
    "name": "ipython",
    "version": 3
   },
   "file_extension": ".py",
   "mimetype": "text/x-python",
   "name": "python",
   "nbconvert_exporter": "python",
   "pygments_lexer": "ipython3",
   "version": "3.8.8"
  },
  "toc": {
   "base_numbering": 1,
   "nav_menu": {},
   "number_sections": true,
   "sideBar": true,
   "skip_h1_title": false,
   "title_cell": "Table of Contents",
   "title_sidebar": "Contents",
   "toc_cell": false,
   "toc_position": {
    "height": "calc(100% - 180px)",
    "left": "10px",
    "top": "150px",
    "width": "380px"
   },
   "toc_section_display": true,
   "toc_window_display": false
  }
 },
 "nbformat": 4,
 "nbformat_minor": 4
}
