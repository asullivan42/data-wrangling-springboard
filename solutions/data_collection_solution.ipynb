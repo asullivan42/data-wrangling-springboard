{
  "nbformat": 4,
  "nbformat_minor": 0,
  "metadata": {
    "kernelspec": {
      "display_name": "Python 3",
      "language": "python",
      "name": "python3"
    },
    "language_info": {
      "codemirror_mode": {
        "name": "ipython",
        "version": 3
      },
      "file_extension": ".py",
      "mimetype": "text/x-python",
      "name": "python",
      "nbconvert_exporter": "python",
      "pygments_lexer": "ipython3",
      "version": "3.7.6"
    },
    "toc": {
      "base_numbering": 1,
      "nav_menu": {},
      "number_sections": true,
      "sideBar": true,
      "skip_h1_title": false,
      "title_cell": "Table of Contents",
      "title_sidebar": "Contents",
      "toc_cell": false,
      "toc_position": {
        "height": "calc(100% - 180px)",
        "left": "10px",
        "top": "150px",
        "width": "380px"
      },
      "toc_section_display": true,
      "toc_window_display": false
    },
    "colab": {
      "name": "data-collection-solution.ipynb",
      "provenance": [],
      "collapsed_sections": [],
      "include_colab_link": true
    }
  },
  "cells": [
    {
      "cell_type": "markdown",
      "metadata": {
        "id": "view-in-github",
        "colab_type": "text"
      },
      "source": [
        "<a href=\"https://colab.research.google.com/github/oliverrmaa/data-wrangling-springboard/blob/main/solutions/data_collection_solution.ipynb\" target=\"_parent\"><img src=\"https://colab.research.google.com/assets/colab-badge.svg\" alt=\"Open In Colab\"/></a>"
      ]
    },
    {
      "cell_type": "markdown",
      "metadata": {
        "id": "4a0A5M0rAeAI"
      },
      "source": [
        "# Data Collection"
      ]
    },
    {
      "cell_type": "code",
      "metadata": {
        "id": "ZGn3G4lNAbcY",
        "colab": {
          "base_uri": "https://localhost:8080/"
        },
        "outputId": "a12a48b1-6655-4519-d99b-fd942c908165"
      },
      "source": [
        "# Installations:\n",
        "!pip install tabula-py\n",
        "\n",
        "# Imports:\n",
        "import requests\n",
        "import json\n",
        "from bs4 import BeautifulSoup\n",
        "from tabula.io import read_pdf\n",
        "import pandas as pd\n",
        "\n",
        "# Google Drive mount authentication\n",
        "from google.colab import drive\n",
        "drive.mount('/content/drive')"
      ],
      "execution_count": 2,
      "outputs": [
        {
          "output_type": "stream",
          "text": [
            "Requirement already satisfied: tabula-py in /usr/local/lib/python3.7/dist-packages (2.3.0)\n",
            "Requirement already satisfied: pandas>=0.25.3 in /usr/local/lib/python3.7/dist-packages (from tabula-py) (1.1.5)\n",
            "Requirement already satisfied: numpy in /usr/local/lib/python3.7/dist-packages (from tabula-py) (1.19.5)\n",
            "Requirement already satisfied: distro in /usr/local/lib/python3.7/dist-packages (from tabula-py) (1.6.0)\n",
            "Requirement already satisfied: pytz>=2017.2 in /usr/local/lib/python3.7/dist-packages (from pandas>=0.25.3->tabula-py) (2018.9)\n",
            "Requirement already satisfied: python-dateutil>=2.7.3 in /usr/local/lib/python3.7/dist-packages (from pandas>=0.25.3->tabula-py) (2.8.2)\n",
            "Requirement already satisfied: six>=1.5 in /usr/local/lib/python3.7/dist-packages (from python-dateutil>=2.7.3->pandas>=0.25.3->tabula-py) (1.15.0)\n",
            "Drive already mounted at /content/drive; to attempt to forcibly remount, call drive.mount(\"/content/drive\", force_remount=True).\n"
          ],
          "name": "stdout"
        }
      ]
    },
    {
      "cell_type": "markdown",
      "metadata": {
        "id": "5M95VnBRoN2W"
      },
      "source": [
        "# 1. Fetch Data From API"
      ]
    },
    {
      "cell_type": "markdown",
      "metadata": {
        "id": "hYzsxUpb_4ky"
      },
      "source": [
        "## 1.1 Exchange Rate Demo"
      ]
    },
    {
      "cell_type": "markdown",
      "metadata": {
        "id": "nvmHCCAEg0Um"
      },
      "source": [
        "https://exchangeratesapi.io"
      ]
    },
    {
      "cell_type": "code",
      "metadata": {
        "id": "upDowE06Tuq1",
        "outputId": "819985f0-479f-479e-9244-ee06189e7b39",
        "colab": {
          "base_uri": "https://localhost:8080/"
        }
      },
      "source": [
        "API_KEY = \"7d621c8860a896ffe2d06c2f27317372\"\n",
        "URL = \"http://api.exchangeratesapi.io/v1/latest?access_key={}\".format(API_KEY)\n",
        " \n",
        "response = requests.get(URL)\n",
        "print(response)\n",
        "text = response.text\n",
        "json_data = json.loads(text)"
      ],
      "execution_count": 3,
      "outputs": [
        {
          "output_type": "stream",
          "text": [
            "<Response [200]>\n"
          ],
          "name": "stdout"
        }
      ]
    },
    {
      "cell_type": "code",
      "metadata": {
        "id": "UQuLbYHpapIP",
        "outputId": "0e35b494-6474-4ff2-ba1c-cd5b7364fc21",
        "colab": {
          "base_uri": "https://localhost:8080/"
        }
      },
      "source": [
        "print(json_data)\n",
        "print(json_data.keys())"
      ],
      "execution_count": 4,
      "outputs": [
        {
          "output_type": "stream",
          "text": [
            "{'success': True, 'timestamp': 1629496924, 'base': 'EUR', 'date': '2021-08-20', 'rates': {'AED': 4.297482, 'AFN': 100.917283, 'ALL': 121.923875, 'AMD': 573.453668, 'ANG': 2.101145, 'AOA': 744.749732, 'ARS': 113.763929, 'AUD': 1.639874, 'AWG': 2.106675, 'AZN': 1.99373, 'BAM': 1.959976, 'BBD': 2.363399, 'BDT': 99.612608, 'BGN': 1.960138, 'BHD': 0.441132, 'BIF': 2324.889312, 'BMD': 1.17005, 'BND': 1.595174, 'BOB': 8.094222, 'BRL': 6.295375, 'BSD': 1.158349, 'BTC': 2.3766687e-05, 'BTN': 87.044022, 'BWP': 13.271573, 'BYN': 2.944228, 'BYR': 22932.979624, 'BZD': 2.359491, 'CAD': 1.49953, 'CDF': 2342.440485, 'CHF': 1.072878, 'CLF': 0.033356, 'CLP': 920.396879, 'CNY': 7.607085, 'COP': 4530.433526, 'CRC': 726.366467, 'CUC': 1.17005, 'CUP': 31.006324, 'CVE': 110.716027, 'CZK': 25.568171, 'DJF': 207.941743, 'DKK': 7.43696, 'DOP': 66.763512, 'DZD': 158.459398, 'EGP': 18.369495, 'ERN': 17.556381, 'ETB': 52.828215, 'EUR': 1, 'FJD': 2.479629, 'FKP': 0.845482, 'GBP': 0.858752, 'GEL': 3.639313, 'GGP': 0.845482, 'GHS': 7.032457, 'GIP': 0.845482, 'GMD': 59.794063, 'GNF': 11437.238978, 'GTQ': 9.065777, 'GYD': 244.898027, 'HKD': 9.115643, 'HNL': 27.789142, 'HRK': 7.500493, 'HTG': 115.297887, 'HUF': 350.299513, 'IDR': 16853.048909, 'ILS': 3.789488, 'IMP': 0.845482, 'INR': 86.936707, 'IQD': 1708.857997, 'IRR': 49364.409103, 'ISK': 149.661545, 'JEP': 0.845482, 'JMD': 180.140046, 'JOD': 0.829612, 'JPY': 128.453983, 'KES': 128.241928, 'KGS': 99.037481, 'KHR': 4783.164732, 'KMF': 492.415984, 'KPW': 1053.04518, 'KRW': 1374.90278, 'KWD': 0.352361, 'KYD': 0.975463, 'KZT': 500.865188, 'LAK': 11244.180724, 'LBP': 1787.255768, 'LKR': 233.521964, 'LRD': 200.901998, 'LSL': 17.913912, 'LTL': 3.454854, 'LVL': 0.707752, 'LYD': 5.306222, 'MAD': 10.525189, 'MDL': 20.63074, 'MGA': 4481.291832, 'MKD': 61.745609, 'MMK': 1926.702311, 'MNT': 3335.696828, 'MOP': 9.393069, 'MRO': 417.707642, 'MUR': 49.614841, 'MVR': 18.077715, 'MWK': 944.819734, 'MXN': 23.828244, 'MYR': 4.958717, 'MZN': 74.53655, 'NAD': 17.913907, 'NGN': 481.713938, 'NIO': 41.08635, 'NOK': 10.534457, 'NPR': 139.270596, 'NZD': 1.71229, 'OMR': 0.450495, 'PAB': 1.170576, 'PEN': 4.815345, 'PGK': 4.136172, 'PHP': 58.900618, 'PKR': 192.064143, 'PLN': 4.583207, 'PYG': 8121.579397, 'QAR': 4.25986, 'RON': 4.935743, 'RSD': 117.829242, 'RUB': 86.91003, 'RWF': 1172.975106, 'SAR': 4.388151, 'SBD': 9.42079, 'SCR': 15.181523, 'SDG': 521.26157, 'SEK': 10.304133, 'SGD': 1.594725, 'SHP': 1.611631, 'SLL': 11993.0127, 'SOS': 685.649685, 'SRD': 25.034434, 'STD': 24217.672281, 'SVC': 10.242666, 'SYP': 1471.424402, 'SZL': 17.913898, 'THB': 39.009899, 'TJS': 13.355737, 'TMT': 4.095175, 'TND': 3.289055, 'TOP': 2.672921, 'TRY': 9.938526, 'TTD': 7.947511, 'TWD': 32.741553, 'TZS': 2713.346298, 'UAH': 31.195988, 'UGX': 4137.852708, 'USD': 1.17005, 'UYU': 50.502828, 'UZS': 12455.182437, 'VEF': 250192047543.7052, 'VND': 26706.390812, 'VUV': 129.743246, 'WST': 2.996222, 'XAF': 657.347473, 'XAG': 0.050807, 'XAU': 0.000657, 'XCD': 3.162119, 'XDR': 0.825747, 'XOF': 656.987279, 'XPF': 119.81733, 'YER': 293.452744, 'ZAR': 17.840342, 'ZMK': 10531.858091, 'ZMW': 20.162449, 'ZWL': 376.755617}}\n",
            "dict_keys(['success', 'timestamp', 'base', 'date', 'rates'])\n"
          ],
          "name": "stdout"
        }
      ]
    },
    {
      "cell_type": "code",
      "metadata": {
        "id": "wS3yntMECtTB",
        "outputId": "40e3b514-42c2-4b32-8bbf-11a0ebfa7063",
        "colab": {
          "base_uri": "https://localhost:8080/",
          "height": 204
        }
      },
      "source": [
        "df = pd.DataFrame({\"rate\": json_data['rates']})\n",
        "df.head()"
      ],
      "execution_count": 5,
      "outputs": [
        {
          "output_type": "execute_result",
          "data": {
            "text/html": [
              "<div>\n",
              "<style scoped>\n",
              "    .dataframe tbody tr th:only-of-type {\n",
              "        vertical-align: middle;\n",
              "    }\n",
              "\n",
              "    .dataframe tbody tr th {\n",
              "        vertical-align: top;\n",
              "    }\n",
              "\n",
              "    .dataframe thead th {\n",
              "        text-align: right;\n",
              "    }\n",
              "</style>\n",
              "<table border=\"1\" class=\"dataframe\">\n",
              "  <thead>\n",
              "    <tr style=\"text-align: right;\">\n",
              "      <th></th>\n",
              "      <th>rate</th>\n",
              "    </tr>\n",
              "  </thead>\n",
              "  <tbody>\n",
              "    <tr>\n",
              "      <th>AED</th>\n",
              "      <td>4.297482</td>\n",
              "    </tr>\n",
              "    <tr>\n",
              "      <th>AFN</th>\n",
              "      <td>100.917283</td>\n",
              "    </tr>\n",
              "    <tr>\n",
              "      <th>ALL</th>\n",
              "      <td>121.923875</td>\n",
              "    </tr>\n",
              "    <tr>\n",
              "      <th>AMD</th>\n",
              "      <td>573.453668</td>\n",
              "    </tr>\n",
              "    <tr>\n",
              "      <th>ANG</th>\n",
              "      <td>2.101145</td>\n",
              "    </tr>\n",
              "  </tbody>\n",
              "</table>\n",
              "</div>"
            ],
            "text/plain": [
              "           rate\n",
              "AED    4.297482\n",
              "AFN  100.917283\n",
              "ALL  121.923875\n",
              "AMD  573.453668\n",
              "ANG    2.101145"
            ]
          },
          "metadata": {},
          "execution_count": 5
        }
      ]
    },
    {
      "cell_type": "code",
      "metadata": {
        "id": "bIAWiD5xUleg",
        "outputId": "d0733313-ad4a-4ecd-b7e8-4e17c29536ce",
        "colab": {
          "base_uri": "https://localhost:8080/",
          "height": 204
        }
      },
      "source": [
        "df = df.reset_index(inplace=False)\n",
        "df.head()"
      ],
      "execution_count": 6,
      "outputs": [
        {
          "output_type": "execute_result",
          "data": {
            "text/html": [
              "<div>\n",
              "<style scoped>\n",
              "    .dataframe tbody tr th:only-of-type {\n",
              "        vertical-align: middle;\n",
              "    }\n",
              "\n",
              "    .dataframe tbody tr th {\n",
              "        vertical-align: top;\n",
              "    }\n",
              "\n",
              "    .dataframe thead th {\n",
              "        text-align: right;\n",
              "    }\n",
              "</style>\n",
              "<table border=\"1\" class=\"dataframe\">\n",
              "  <thead>\n",
              "    <tr style=\"text-align: right;\">\n",
              "      <th></th>\n",
              "      <th>index</th>\n",
              "      <th>rate</th>\n",
              "    </tr>\n",
              "  </thead>\n",
              "  <tbody>\n",
              "    <tr>\n",
              "      <th>0</th>\n",
              "      <td>AED</td>\n",
              "      <td>4.297482</td>\n",
              "    </tr>\n",
              "    <tr>\n",
              "      <th>1</th>\n",
              "      <td>AFN</td>\n",
              "      <td>100.917283</td>\n",
              "    </tr>\n",
              "    <tr>\n",
              "      <th>2</th>\n",
              "      <td>ALL</td>\n",
              "      <td>121.923875</td>\n",
              "    </tr>\n",
              "    <tr>\n",
              "      <th>3</th>\n",
              "      <td>AMD</td>\n",
              "      <td>573.453668</td>\n",
              "    </tr>\n",
              "    <tr>\n",
              "      <th>4</th>\n",
              "      <td>ANG</td>\n",
              "      <td>2.101145</td>\n",
              "    </tr>\n",
              "  </tbody>\n",
              "</table>\n",
              "</div>"
            ],
            "text/plain": [
              "  index        rate\n",
              "0   AED    4.297482\n",
              "1   AFN  100.917283\n",
              "2   ALL  121.923875\n",
              "3   AMD  573.453668\n",
              "4   ANG    2.101145"
            ]
          },
          "metadata": {},
          "execution_count": 6
        }
      ]
    },
    {
      "cell_type": "code",
      "metadata": {
        "id": "pNB9jrYzcCRx",
        "outputId": "1a3592ad-25bb-4d98-f615-df8073a56e3a",
        "colab": {
          "base_uri": "https://localhost:8080/",
          "height": 204
        }
      },
      "source": [
        "df = df.rename(columns={'index': 'currency'})\n",
        "df.head()"
      ],
      "execution_count": 7,
      "outputs": [
        {
          "output_type": "execute_result",
          "data": {
            "text/html": [
              "<div>\n",
              "<style scoped>\n",
              "    .dataframe tbody tr th:only-of-type {\n",
              "        vertical-align: middle;\n",
              "    }\n",
              "\n",
              "    .dataframe tbody tr th {\n",
              "        vertical-align: top;\n",
              "    }\n",
              "\n",
              "    .dataframe thead th {\n",
              "        text-align: right;\n",
              "    }\n",
              "</style>\n",
              "<table border=\"1\" class=\"dataframe\">\n",
              "  <thead>\n",
              "    <tr style=\"text-align: right;\">\n",
              "      <th></th>\n",
              "      <th>currency</th>\n",
              "      <th>rate</th>\n",
              "    </tr>\n",
              "  </thead>\n",
              "  <tbody>\n",
              "    <tr>\n",
              "      <th>0</th>\n",
              "      <td>AED</td>\n",
              "      <td>4.297482</td>\n",
              "    </tr>\n",
              "    <tr>\n",
              "      <th>1</th>\n",
              "      <td>AFN</td>\n",
              "      <td>100.917283</td>\n",
              "    </tr>\n",
              "    <tr>\n",
              "      <th>2</th>\n",
              "      <td>ALL</td>\n",
              "      <td>121.923875</td>\n",
              "    </tr>\n",
              "    <tr>\n",
              "      <th>3</th>\n",
              "      <td>AMD</td>\n",
              "      <td>573.453668</td>\n",
              "    </tr>\n",
              "    <tr>\n",
              "      <th>4</th>\n",
              "      <td>ANG</td>\n",
              "      <td>2.101145</td>\n",
              "    </tr>\n",
              "  </tbody>\n",
              "</table>\n",
              "</div>"
            ],
            "text/plain": [
              "  currency        rate\n",
              "0      AED    4.297482\n",
              "1      AFN  100.917283\n",
              "2      ALL  121.923875\n",
              "3      AMD  573.453668\n",
              "4      ANG    2.101145"
            ]
          },
          "metadata": {},
          "execution_count": 7
        }
      ]
    },
    {
      "cell_type": "code",
      "metadata": {
        "id": "-sOU2cGFc4gP",
        "outputId": "8f62d2f3-fe64-41c7-fbe2-7109c24cba8d",
        "colab": {
          "base_uri": "https://localhost:8080/",
          "height": 204
        }
      },
      "source": [
        "df['base_currency'] = json_data['base']\n",
        "df['date_accessed'] = json_data['date']\n",
        "df.head()"
      ],
      "execution_count": 8,
      "outputs": [
        {
          "output_type": "execute_result",
          "data": {
            "text/html": [
              "<div>\n",
              "<style scoped>\n",
              "    .dataframe tbody tr th:only-of-type {\n",
              "        vertical-align: middle;\n",
              "    }\n",
              "\n",
              "    .dataframe tbody tr th {\n",
              "        vertical-align: top;\n",
              "    }\n",
              "\n",
              "    .dataframe thead th {\n",
              "        text-align: right;\n",
              "    }\n",
              "</style>\n",
              "<table border=\"1\" class=\"dataframe\">\n",
              "  <thead>\n",
              "    <tr style=\"text-align: right;\">\n",
              "      <th></th>\n",
              "      <th>currency</th>\n",
              "      <th>rate</th>\n",
              "      <th>base_currency</th>\n",
              "      <th>date_accessed</th>\n",
              "    </tr>\n",
              "  </thead>\n",
              "  <tbody>\n",
              "    <tr>\n",
              "      <th>0</th>\n",
              "      <td>AED</td>\n",
              "      <td>4.297482</td>\n",
              "      <td>EUR</td>\n",
              "      <td>2021-08-20</td>\n",
              "    </tr>\n",
              "    <tr>\n",
              "      <th>1</th>\n",
              "      <td>AFN</td>\n",
              "      <td>100.917283</td>\n",
              "      <td>EUR</td>\n",
              "      <td>2021-08-20</td>\n",
              "    </tr>\n",
              "    <tr>\n",
              "      <th>2</th>\n",
              "      <td>ALL</td>\n",
              "      <td>121.923875</td>\n",
              "      <td>EUR</td>\n",
              "      <td>2021-08-20</td>\n",
              "    </tr>\n",
              "    <tr>\n",
              "      <th>3</th>\n",
              "      <td>AMD</td>\n",
              "      <td>573.453668</td>\n",
              "      <td>EUR</td>\n",
              "      <td>2021-08-20</td>\n",
              "    </tr>\n",
              "    <tr>\n",
              "      <th>4</th>\n",
              "      <td>ANG</td>\n",
              "      <td>2.101145</td>\n",
              "      <td>EUR</td>\n",
              "      <td>2021-08-20</td>\n",
              "    </tr>\n",
              "  </tbody>\n",
              "</table>\n",
              "</div>"
            ],
            "text/plain": [
              "  currency        rate base_currency date_accessed\n",
              "0      AED    4.297482           EUR    2021-08-20\n",
              "1      AFN  100.917283           EUR    2021-08-20\n",
              "2      ALL  121.923875           EUR    2021-08-20\n",
              "3      AMD  573.453668           EUR    2021-08-20\n",
              "4      ANG    2.101145           EUR    2021-08-20"
            ]
          },
          "metadata": {},
          "execution_count": 8
        }
      ]
    },
    {
      "cell_type": "markdown",
      "metadata": {
        "id": "542OA114__Qd"
      },
      "source": [
        "## 1.2 Exercise: How Many People Are In Space?"
      ]
    },
    {
      "cell_type": "markdown",
      "metadata": {
        "id": "6O2T43ELh9xi"
      },
      "source": [
        "Let's use an open API so we do not need to worry about authentication. Check how many people are currently in space using this open API. Be sure to reshape\n",
        "the resulting JSON into a proper DataFrame. For the URL, please use:\n",
        "`\"http://api.open-notify.org/astros.json\"`"
      ]
    },
    {
      "cell_type": "code",
      "metadata": {
        "id": "Tq2XB443h0nn"
      },
      "source": [
        "# YOUR CODE GOES HERE"
      ],
      "execution_count": 9,
      "outputs": []
    },
    {
      "cell_type": "code",
      "metadata": {
        "colab": {
          "base_uri": "https://localhost:8080/"
        },
        "id": "z9EcviB7wjt0",
        "outputId": "a9788b8a-643c-430f-f2d3-de695e19e20a"
      },
      "source": [
        "URL = \"http://api.open-notify.org/astros.json\"\n",
        "response = requests.get(URL)\n",
        "print(response)"
      ],
      "execution_count": 10,
      "outputs": [
        {
          "output_type": "stream",
          "text": [
            "<Response [200]>\n"
          ],
          "name": "stdout"
        }
      ]
    },
    {
      "cell_type": "code",
      "metadata": {
        "id": "jWst_1PIwjyi"
      },
      "source": [
        "text = response.text\n",
        "json_data = json.loads(text)"
      ],
      "execution_count": 11,
      "outputs": []
    },
    {
      "cell_type": "code",
      "metadata": {
        "colab": {
          "base_uri": "https://localhost:8080/",
          "height": 204
        },
        "id": "XkN5vERow6YI",
        "outputId": "97231baa-9747-4bb7-af4a-aaab512a2fa1"
      },
      "source": [
        "df = pd.DataFrame(json_data[\"people\"])\n",
        "\n",
        "df.head()"
      ],
      "execution_count": 12,
      "outputs": [
        {
          "output_type": "execute_result",
          "data": {
            "text/html": [
              "<div>\n",
              "<style scoped>\n",
              "    .dataframe tbody tr th:only-of-type {\n",
              "        vertical-align: middle;\n",
              "    }\n",
              "\n",
              "    .dataframe tbody tr th {\n",
              "        vertical-align: top;\n",
              "    }\n",
              "\n",
              "    .dataframe thead th {\n",
              "        text-align: right;\n",
              "    }\n",
              "</style>\n",
              "<table border=\"1\" class=\"dataframe\">\n",
              "  <thead>\n",
              "    <tr style=\"text-align: right;\">\n",
              "      <th></th>\n",
              "      <th>name</th>\n",
              "      <th>craft</th>\n",
              "    </tr>\n",
              "  </thead>\n",
              "  <tbody>\n",
              "    <tr>\n",
              "      <th>0</th>\n",
              "      <td>Mark Vande Hei</td>\n",
              "      <td>ISS</td>\n",
              "    </tr>\n",
              "    <tr>\n",
              "      <th>1</th>\n",
              "      <td>Oleg Novitskiy</td>\n",
              "      <td>ISS</td>\n",
              "    </tr>\n",
              "    <tr>\n",
              "      <th>2</th>\n",
              "      <td>Pyotr Dubrov</td>\n",
              "      <td>ISS</td>\n",
              "    </tr>\n",
              "    <tr>\n",
              "      <th>3</th>\n",
              "      <td>Thomas Pesquet</td>\n",
              "      <td>ISS</td>\n",
              "    </tr>\n",
              "    <tr>\n",
              "      <th>4</th>\n",
              "      <td>Megan McArthur</td>\n",
              "      <td>ISS</td>\n",
              "    </tr>\n",
              "  </tbody>\n",
              "</table>\n",
              "</div>"
            ],
            "text/plain": [
              "             name craft\n",
              "0  Mark Vande Hei   ISS\n",
              "1  Oleg Novitskiy   ISS\n",
              "2    Pyotr Dubrov   ISS\n",
              "3  Thomas Pesquet   ISS\n",
              "4  Megan McArthur   ISS"
            ]
          },
          "metadata": {},
          "execution_count": 12
        }
      ]
    },
    {
      "cell_type": "markdown",
      "metadata": {
        "id": "2WgAFL2fdpbe"
      },
      "source": [
        "# 2. Fetch Data Via Parse HTML"
      ]
    },
    {
      "cell_type": "markdown",
      "metadata": {
        "id": "imGN1GntAD0F"
      },
      "source": [
        "## 2.1 Video Game Music Demo"
      ]
    },
    {
      "cell_type": "markdown",
      "metadata": {
        "id": "b2igdQoc-n92"
      },
      "source": [
        "We will parse a webpage full or links (https://www.vgmusic.com/music/console/nintendo/nes/).\n",
        " \n",
        "This would be of interest if we were harvesting data stored in links from a web-based source. There are important background information on html:\n",
        "- `<a>`is known as an anchor element in HTML, we usually search for these elements when parsing for links. (`https://developer.mozilla.org/en-US/docs/Web/HTML/Element/a`)\n",
        "- `href` is an attribue of `<a>` which creates the hyperlink"
      ]
    },
    {
      "cell_type": "code",
      "metadata": {
        "ExecuteTime": {
          "end_time": "2020-08-03T13:46:34.685879Z",
          "start_time": "2020-08-03T13:46:34.681978Z"
        },
        "id": "x0VJy8FGTJM-"
      },
      "source": [
        "URL = 'https://www.vgmusic.com/music/console/nintendo/nes/'\n",
        "response = requests.get(URL)\n",
        "text = response.text\n",
        "soup = BeautifulSoup(text, 'html.parser')"
      ],
      "execution_count": 13,
      "outputs": []
    },
    {
      "cell_type": "code",
      "metadata": {
        "id": "6hAeuKYlRKn3",
        "outputId": "77772364-8898-4548-8d13-b8988bf9d863",
        "colab": {
          "base_uri": "https://localhost:8080/"
        }
      },
      "source": [
        "soup.find_all(\"a\")[0:10]"
      ],
      "execution_count": 14,
      "outputs": [
        {
          "output_type": "execute_result",
          "data": {
            "text/plain": [
              "[<a href=\"http://www.vgmusic.com/information/donate.php\">Please contribute today</a>,\n",
              " <a href=\"/\"><img alt=\"You are surfing the Videogame Music Archive\" border=\"0\" height=\"60\" src=\"/images/mikey57a.gif\" width=\"468\"/></a>,\n",
              " <a name=\"10Yard_Fight\">10-Yard Fight</a>,\n",
              " <a href=\"10-Yard_Fight-Kick_Off.mid\">Kick Off</a>,\n",
              " <a href=\"/file/debcd7c61535f6aba8d4b88d8d0182db.html#disqus_thread\">Comments</a>,\n",
              " <a name=\"1943\">1943</a>,\n",
              " <a href=\"1943.mid\">\"Raid and Pacific Attack\" Title Screen Song</a>,\n",
              " <a href=\"/file/c6d8c1b732822f614e3b5892b703c58f.html#disqus_thread\">Comments</a>,\n",
              " <a href=\"1943sab.mid\">Assault on Surface Forces B</a>,\n",
              " <a href=\"/file/07f297682c9731ad956da14180f2aa65.html#disqus_thread\">Comments</a>]"
            ]
          },
          "metadata": {},
          "execution_count": 14
        }
      ]
    },
    {
      "cell_type": "code",
      "metadata": {
        "id": "dbJDJpZWXgFn",
        "outputId": "60c2382e-65c1-4704-e344-1bd6622c633d",
        "colab": {
          "base_uri": "https://localhost:8080/"
        }
      },
      "source": [
        "len(soup.find_all(\"a\"))"
      ],
      "execution_count": 15,
      "outputs": [
        {
          "output_type": "execute_result",
          "data": {
            "text/plain": [
              "8851"
            ]
          },
          "metadata": {},
          "execution_count": 15
        }
      ]
    },
    {
      "cell_type": "code",
      "metadata": {
        "id": "W222VAvDkomj"
      },
      "source": [
        "href_list = [link.get(\"href\") for link in soup.find_all(\"a\")]\n",
        "\n",
        "# code without using list comprehension:\n",
        "# href_list = []\n",
        "# for link in soup.find_all(\"a\"):\n",
        "#   href_list.append(link.get(\"href\"))"
      ],
      "execution_count": 16,
      "outputs": []
    },
    {
      "cell_type": "code",
      "metadata": {
        "id": "XMSDCXeGSZkL"
      },
      "source": [
        "df = pd.DataFrame({\"song_list\": href_list, \"base_url\": URL})"
      ],
      "execution_count": 17,
      "outputs": []
    },
    {
      "cell_type": "code",
      "metadata": {
        "id": "cNOAQn6dkO-L",
        "outputId": "457f5c3d-73ee-43b1-a50c-cdbceb679885",
        "colab": {
          "base_uri": "https://localhost:8080/"
        }
      },
      "source": [
        "len(df.song_list)"
      ],
      "execution_count": 18,
      "outputs": [
        {
          "output_type": "execute_result",
          "data": {
            "text/plain": [
              "8851"
            ]
          },
          "metadata": {},
          "execution_count": 18
        }
      ]
    },
    {
      "cell_type": "code",
      "metadata": {
        "id": "ax4XrzFVUDYm",
        "outputId": "484609db-a3b3-49be-bb71-7d555e9fb52e",
        "colab": {
          "base_uri": "https://localhost:8080/",
          "height": 204
        }
      },
      "source": [
        "aux = df[df[\"song_list\"].str.contains(\".mid\", na=False)]\n",
        "aux.head()"
      ],
      "execution_count": 19,
      "outputs": [
        {
          "output_type": "execute_result",
          "data": {
            "text/html": [
              "<div>\n",
              "<style scoped>\n",
              "    .dataframe tbody tr th:only-of-type {\n",
              "        vertical-align: middle;\n",
              "    }\n",
              "\n",
              "    .dataframe tbody tr th {\n",
              "        vertical-align: top;\n",
              "    }\n",
              "\n",
              "    .dataframe thead th {\n",
              "        text-align: right;\n",
              "    }\n",
              "</style>\n",
              "<table border=\"1\" class=\"dataframe\">\n",
              "  <thead>\n",
              "    <tr style=\"text-align: right;\">\n",
              "      <th></th>\n",
              "      <th>song_list</th>\n",
              "      <th>base_url</th>\n",
              "    </tr>\n",
              "  </thead>\n",
              "  <tbody>\n",
              "    <tr>\n",
              "      <th>3</th>\n",
              "      <td>10-Yard_Fight-Kick_Off.mid</td>\n",
              "      <td>https://www.vgmusic.com/music/console/nintendo...</td>\n",
              "    </tr>\n",
              "    <tr>\n",
              "      <th>6</th>\n",
              "      <td>1943.mid</td>\n",
              "      <td>https://www.vgmusic.com/music/console/nintendo...</td>\n",
              "    </tr>\n",
              "    <tr>\n",
              "      <th>8</th>\n",
              "      <td>1943sab.mid</td>\n",
              "      <td>https://www.vgmusic.com/music/console/nintendo...</td>\n",
              "    </tr>\n",
              "    <tr>\n",
              "      <th>10</th>\n",
              "      <td>1943-lev1.mid</td>\n",
              "      <td>https://www.vgmusic.com/music/console/nintendo...</td>\n",
              "    </tr>\n",
              "    <tr>\n",
              "      <th>12</th>\n",
              "      <td>43pbos1.mid</td>\n",
              "      <td>https://www.vgmusic.com/music/console/nintendo...</td>\n",
              "    </tr>\n",
              "  </tbody>\n",
              "</table>\n",
              "</div>"
            ],
            "text/plain": [
              "                     song_list                                           base_url\n",
              "3   10-Yard_Fight-Kick_Off.mid  https://www.vgmusic.com/music/console/nintendo...\n",
              "6                     1943.mid  https://www.vgmusic.com/music/console/nintendo...\n",
              "8                  1943sab.mid  https://www.vgmusic.com/music/console/nintendo...\n",
              "10               1943-lev1.mid  https://www.vgmusic.com/music/console/nintendo...\n",
              "12                 43pbos1.mid  https://www.vgmusic.com/music/console/nintendo..."
            ]
          },
          "metadata": {},
          "execution_count": 19
        }
      ]
    },
    {
      "cell_type": "code",
      "metadata": {
        "id": "SzagQJMnXkqA",
        "outputId": "54eaddaf-6994-4b61-e435-bbad8c45fcb2",
        "colab": {
          "base_uri": "https://localhost:8080/",
          "height": 204
        }
      },
      "source": [
        "aux.reset_index(inplace=True)\n",
        "aux.head()"
      ],
      "execution_count": 20,
      "outputs": [
        {
          "output_type": "execute_result",
          "data": {
            "text/html": [
              "<div>\n",
              "<style scoped>\n",
              "    .dataframe tbody tr th:only-of-type {\n",
              "        vertical-align: middle;\n",
              "    }\n",
              "\n",
              "    .dataframe tbody tr th {\n",
              "        vertical-align: top;\n",
              "    }\n",
              "\n",
              "    .dataframe thead th {\n",
              "        text-align: right;\n",
              "    }\n",
              "</style>\n",
              "<table border=\"1\" class=\"dataframe\">\n",
              "  <thead>\n",
              "    <tr style=\"text-align: right;\">\n",
              "      <th></th>\n",
              "      <th>index</th>\n",
              "      <th>song_list</th>\n",
              "      <th>base_url</th>\n",
              "    </tr>\n",
              "  </thead>\n",
              "  <tbody>\n",
              "    <tr>\n",
              "      <th>0</th>\n",
              "      <td>3</td>\n",
              "      <td>10-Yard_Fight-Kick_Off.mid</td>\n",
              "      <td>https://www.vgmusic.com/music/console/nintendo...</td>\n",
              "    </tr>\n",
              "    <tr>\n",
              "      <th>1</th>\n",
              "      <td>6</td>\n",
              "      <td>1943.mid</td>\n",
              "      <td>https://www.vgmusic.com/music/console/nintendo...</td>\n",
              "    </tr>\n",
              "    <tr>\n",
              "      <th>2</th>\n",
              "      <td>8</td>\n",
              "      <td>1943sab.mid</td>\n",
              "      <td>https://www.vgmusic.com/music/console/nintendo...</td>\n",
              "    </tr>\n",
              "    <tr>\n",
              "      <th>3</th>\n",
              "      <td>10</td>\n",
              "      <td>1943-lev1.mid</td>\n",
              "      <td>https://www.vgmusic.com/music/console/nintendo...</td>\n",
              "    </tr>\n",
              "    <tr>\n",
              "      <th>4</th>\n",
              "      <td>12</td>\n",
              "      <td>43pbos1.mid</td>\n",
              "      <td>https://www.vgmusic.com/music/console/nintendo...</td>\n",
              "    </tr>\n",
              "  </tbody>\n",
              "</table>\n",
              "</div>"
            ],
            "text/plain": [
              "   index  ...                                           base_url\n",
              "0      3  ...  https://www.vgmusic.com/music/console/nintendo...\n",
              "1      6  ...  https://www.vgmusic.com/music/console/nintendo...\n",
              "2      8  ...  https://www.vgmusic.com/music/console/nintendo...\n",
              "3     10  ...  https://www.vgmusic.com/music/console/nintendo...\n",
              "4     12  ...  https://www.vgmusic.com/music/console/nintendo...\n",
              "\n",
              "[5 rows x 3 columns]"
            ]
          },
          "metadata": {},
          "execution_count": 20
        }
      ]
    },
    {
      "cell_type": "code",
      "metadata": {
        "id": "tDx23KQ8kdxD"
      },
      "source": [
        "# axis=1 is for columns \n",
        "aux = aux.drop('index', axis=1)"
      ],
      "execution_count": 21,
      "outputs": []
    },
    {
      "cell_type": "code",
      "metadata": {
        "ExecuteTime": {
          "end_time": "2020-08-03T13:46:34.690050Z",
          "start_time": "2020-08-03T13:46:34.687983Z"
        },
        "id": "o9FuF8mATJM-",
        "outputId": "533ab696-b913-42ae-db9a-9a2d73ced82a",
        "colab": {
          "base_uri": "https://localhost:8080/",
          "height": 204
        }
      },
      "source": [
        "aux['full_path'] = aux['base_url'] + aux[\"song_list\"]\n",
        "aux.head()"
      ],
      "execution_count": 22,
      "outputs": [
        {
          "output_type": "execute_result",
          "data": {
            "text/html": [
              "<div>\n",
              "<style scoped>\n",
              "    .dataframe tbody tr th:only-of-type {\n",
              "        vertical-align: middle;\n",
              "    }\n",
              "\n",
              "    .dataframe tbody tr th {\n",
              "        vertical-align: top;\n",
              "    }\n",
              "\n",
              "    .dataframe thead th {\n",
              "        text-align: right;\n",
              "    }\n",
              "</style>\n",
              "<table border=\"1\" class=\"dataframe\">\n",
              "  <thead>\n",
              "    <tr style=\"text-align: right;\">\n",
              "      <th></th>\n",
              "      <th>song_list</th>\n",
              "      <th>base_url</th>\n",
              "      <th>full_path</th>\n",
              "    </tr>\n",
              "  </thead>\n",
              "  <tbody>\n",
              "    <tr>\n",
              "      <th>0</th>\n",
              "      <td>10-Yard_Fight-Kick_Off.mid</td>\n",
              "      <td>https://www.vgmusic.com/music/console/nintendo...</td>\n",
              "      <td>https://www.vgmusic.com/music/console/nintendo...</td>\n",
              "    </tr>\n",
              "    <tr>\n",
              "      <th>1</th>\n",
              "      <td>1943.mid</td>\n",
              "      <td>https://www.vgmusic.com/music/console/nintendo...</td>\n",
              "      <td>https://www.vgmusic.com/music/console/nintendo...</td>\n",
              "    </tr>\n",
              "    <tr>\n",
              "      <th>2</th>\n",
              "      <td>1943sab.mid</td>\n",
              "      <td>https://www.vgmusic.com/music/console/nintendo...</td>\n",
              "      <td>https://www.vgmusic.com/music/console/nintendo...</td>\n",
              "    </tr>\n",
              "    <tr>\n",
              "      <th>3</th>\n",
              "      <td>1943-lev1.mid</td>\n",
              "      <td>https://www.vgmusic.com/music/console/nintendo...</td>\n",
              "      <td>https://www.vgmusic.com/music/console/nintendo...</td>\n",
              "    </tr>\n",
              "    <tr>\n",
              "      <th>4</th>\n",
              "      <td>43pbos1.mid</td>\n",
              "      <td>https://www.vgmusic.com/music/console/nintendo...</td>\n",
              "      <td>https://www.vgmusic.com/music/console/nintendo...</td>\n",
              "    </tr>\n",
              "  </tbody>\n",
              "</table>\n",
              "</div>"
            ],
            "text/plain": [
              "                    song_list  ...                                          full_path\n",
              "0  10-Yard_Fight-Kick_Off.mid  ...  https://www.vgmusic.com/music/console/nintendo...\n",
              "1                    1943.mid  ...  https://www.vgmusic.com/music/console/nintendo...\n",
              "2                 1943sab.mid  ...  https://www.vgmusic.com/music/console/nintendo...\n",
              "3               1943-lev1.mid  ...  https://www.vgmusic.com/music/console/nintendo...\n",
              "4                 43pbos1.mid  ...  https://www.vgmusic.com/music/console/nintendo...\n",
              "\n",
              "[5 rows x 3 columns]"
            ]
          },
          "metadata": {},
          "execution_count": 22
        }
      ]
    },
    {
      "cell_type": "code",
      "metadata": {
        "id": "uZyNXY9SOYk-",
        "outputId": "a770b20e-ec5a-4f37-d198-ce20bd64ddb8",
        "colab": {
          "base_uri": "https://localhost:8080/"
        }
      },
      "source": [
        "len(aux)"
      ],
      "execution_count": 23,
      "outputs": [
        {
          "output_type": "execute_result",
          "data": {
            "text/plain": [
              "4204"
            ]
          },
          "metadata": {},
          "execution_count": 23
        }
      ]
    },
    {
      "cell_type": "code",
      "metadata": {
        "id": "G7HiSnJ9jkeM",
        "outputId": "8db49d6e-c089-41fa-d0cc-09895516b063",
        "colab": {
          "base_uri": "https://localhost:8080/",
          "height": 35
        }
      },
      "source": [
        "aux.full_path[0]"
      ],
      "execution_count": 24,
      "outputs": [
        {
          "output_type": "execute_result",
          "data": {
            "application/vnd.google.colaboratory.intrinsic+json": {
              "type": "string"
            },
            "text/plain": [
              "'https://www.vgmusic.com/music/console/nintendo/nes/10-Yard_Fight-Kick_Off.mid'"
            ]
          },
          "metadata": {},
          "execution_count": 24
        }
      ]
    },
    {
      "cell_type": "markdown",
      "metadata": {
        "id": "rChEkIjYAJt2"
      },
      "source": [
        "## 2.2 Exercise: Google Scholar Link Extraction"
      ]
    },
    {
      "cell_type": "markdown",
      "metadata": {
        "id": "JC53gztpjbuD"
      },
      "source": [
        "Let's practice link extraction from html. For the following exercise we will\n",
        "go to google scholar and extract every link that leads to an academic article. Be sure to put the results into a nice list or DataFrame showing just the necessary links.\n",
        "\n",
        "Please go to Google Scholar https://scholar.google.com\n",
        "\n",
        "Type in \"astroids\", then copy and paste that web url link to use. \n"
      ]
    },
    {
      "cell_type": "code",
      "metadata": {
        "id": "CfZGsVHfj9Oc"
      },
      "source": [
        "# YOUR CODE GOES HERE"
      ],
      "execution_count": 25,
      "outputs": []
    },
    {
      "cell_type": "code",
      "metadata": {
        "id": "9aoQKt6sw-08"
      },
      "source": [
        "URL = \"https://scholar.google.com/scholar?hl=en&as_sdt=0%2C5&q=astroids&btnG=\"\n",
        "response = requests.get(URL)\n",
        "text = response.text\n",
        "soup = BeautifulSoup(text, 'html.parser')"
      ],
      "execution_count": 26,
      "outputs": []
    },
    {
      "cell_type": "code",
      "metadata": {
        "colab": {
          "base_uri": "https://localhost:8080/"
        },
        "id": "A_Lbxlf5xBBw",
        "outputId": "2b4ded04-8cb5-487b-a1a7-9321628ea0f1"
      },
      "source": [
        "href_list = [link.get(\"href\") for link in soup.find_all(\"a\")]\n",
        "\n",
        "filtered_list = [link for link in href_list if \"https\" in link and \"google\" not in link]\n",
        "\n",
        "filtered_list"
      ],
      "execution_count": 27,
      "outputs": [
        {
          "output_type": "execute_result",
          "data": {
            "text/plain": [
              "[]"
            ]
          },
          "metadata": {},
          "execution_count": 27
        }
      ]
    },
    {
      "cell_type": "markdown",
      "metadata": {
        "id": "bNBaFrenXQdU"
      },
      "source": [
        "# 3. Fetch Data From PDF"
      ]
    },
    {
      "cell_type": "markdown",
      "metadata": {
        "id": "Wjq6Bd4XllH-"
      },
      "source": [
        "https://camelot-py.readthedocs.io/en/master/_static/pdf/foo.pdf"
      ]
    },
    {
      "cell_type": "code",
      "metadata": {
        "id": "gfqH24AYXUFc"
      },
      "source": [
        "URL = \"https://camelot-py.readthedocs.io/en/master/_static/pdf/foo.pdf\"\n",
        "df_list = read_pdf(URL, output_format=\"dataframe\", pages=\"all\")"
      ],
      "execution_count": 28,
      "outputs": []
    },
    {
      "cell_type": "code",
      "metadata": {
        "id": "dqUrUWillcTj",
        "outputId": "8aa5d785-5780-4072-fba8-fd2a9074e927",
        "colab": {
          "base_uri": "https://localhost:8080/",
          "height": 204
        }
      },
      "source": [
        "df = df_list[0]\n",
        "df.head()"
      ],
      "execution_count": 29,
      "outputs": [
        {
          "output_type": "execute_result",
          "data": {
            "text/html": [
              "<div>\n",
              "<style scoped>\n",
              "    .dataframe tbody tr th:only-of-type {\n",
              "        vertical-align: middle;\n",
              "    }\n",
              "\n",
              "    .dataframe tbody tr th {\n",
              "        vertical-align: top;\n",
              "    }\n",
              "\n",
              "    .dataframe thead th {\n",
              "        text-align: right;\n",
              "    }\n",
              "</style>\n",
              "<table border=\"1\" class=\"dataframe\">\n",
              "  <thead>\n",
              "    <tr style=\"text-align: right;\">\n",
              "      <th></th>\n",
              "      <th>Unnamed: 0</th>\n",
              "      <th>Unnamed: 1</th>\n",
              "      <th>Unnamed: 2</th>\n",
              "      <th>Unnamed: 3</th>\n",
              "      <th>Percent Fuel Savings</th>\n",
              "      <th>Unnamed: 5</th>\n",
              "    </tr>\n",
              "  </thead>\n",
              "  <tbody>\n",
              "    <tr>\n",
              "      <th>0</th>\n",
              "      <td>Cycle</td>\n",
              "      <td>KI</td>\n",
              "      <td>Distance</td>\n",
              "      <td>NaN</td>\n",
              "      <td>NaN</td>\n",
              "      <td>NaN</td>\n",
              "    </tr>\n",
              "    <tr>\n",
              "      <th>1</th>\n",
              "      <td>Name</td>\n",
              "      <td>(1/km)</td>\n",
              "      <td>(mi)</td>\n",
              "      <td>Improved</td>\n",
              "      <td>Decreased Eliminate</td>\n",
              "      <td>Decreased</td>\n",
              "    </tr>\n",
              "    <tr>\n",
              "      <th>2</th>\n",
              "      <td>NaN</td>\n",
              "      <td>NaN</td>\n",
              "      <td>NaN</td>\n",
              "      <td>Speed</td>\n",
              "      <td>Accel Stops</td>\n",
              "      <td>Idle</td>\n",
              "    </tr>\n",
              "    <tr>\n",
              "      <th>3</th>\n",
              "      <td>2012_2</td>\n",
              "      <td>3.30</td>\n",
              "      <td>1.3</td>\n",
              "      <td>5.9%</td>\n",
              "      <td>9.5% 29.2%</td>\n",
              "      <td>17.4%</td>\n",
              "    </tr>\n",
              "    <tr>\n",
              "      <th>4</th>\n",
              "      <td>2145_1</td>\n",
              "      <td>0.68</td>\n",
              "      <td>11.2</td>\n",
              "      <td>2.4%</td>\n",
              "      <td>0.1% 9.5%</td>\n",
              "      <td>2.7%</td>\n",
              "    </tr>\n",
              "  </tbody>\n",
              "</table>\n",
              "</div>"
            ],
            "text/plain": [
              "  Unnamed: 0 Unnamed: 1 Unnamed: 2 Unnamed: 3 Percent Fuel Savings Unnamed: 5\n",
              "0      Cycle         KI   Distance        NaN                  NaN        NaN\n",
              "1       Name     (1/km)       (mi)   Improved  Decreased Eliminate  Decreased\n",
              "2        NaN        NaN        NaN      Speed          Accel Stops       Idle\n",
              "3     2012_2       3.30        1.3       5.9%           9.5% 29.2%      17.4%\n",
              "4     2145_1       0.68       11.2       2.4%            0.1% 9.5%       2.7%"
            ]
          },
          "metadata": {},
          "execution_count": 29
        }
      ]
    },
    {
      "cell_type": "code",
      "metadata": {
        "id": "pa3mONDblm-k",
        "outputId": "32f9d7fd-3326-4dc0-862b-cb4d9b89f888",
        "colab": {
          "base_uri": "https://localhost:8080/"
        }
      },
      "source": [
        "df.columns"
      ],
      "execution_count": 30,
      "outputs": [
        {
          "output_type": "execute_result",
          "data": {
            "text/plain": [
              "Index(['Unnamed: 0', 'Unnamed: 1', 'Unnamed: 2', 'Unnamed: 3',\n",
              "       'Percent Fuel Savings', 'Unnamed: 5'],\n",
              "      dtype='object')"
            ]
          },
          "metadata": {},
          "execution_count": 30
        }
      ]
    },
    {
      "cell_type": "code",
      "metadata": {
        "id": "cN484e3_lqqS",
        "outputId": "e2ecbee0-ff64-4e07-d7bc-2e15cbe09636",
        "colab": {
          "base_uri": "https://localhost:8080/",
          "height": 204
        }
      },
      "source": [
        "df['decrease_accel'] = df[\"Percent Fuel Savings\"].str.split(\" \").str[0]\n",
        "df['eliminate_stops'] = df[\"Percent Fuel Savings\"].str.split(\" \").str[1]\n",
        "df.head()"
      ],
      "execution_count": 31,
      "outputs": [
        {
          "output_type": "execute_result",
          "data": {
            "text/html": [
              "<div>\n",
              "<style scoped>\n",
              "    .dataframe tbody tr th:only-of-type {\n",
              "        vertical-align: middle;\n",
              "    }\n",
              "\n",
              "    .dataframe tbody tr th {\n",
              "        vertical-align: top;\n",
              "    }\n",
              "\n",
              "    .dataframe thead th {\n",
              "        text-align: right;\n",
              "    }\n",
              "</style>\n",
              "<table border=\"1\" class=\"dataframe\">\n",
              "  <thead>\n",
              "    <tr style=\"text-align: right;\">\n",
              "      <th></th>\n",
              "      <th>Unnamed: 0</th>\n",
              "      <th>Unnamed: 1</th>\n",
              "      <th>Unnamed: 2</th>\n",
              "      <th>Unnamed: 3</th>\n",
              "      <th>Percent Fuel Savings</th>\n",
              "      <th>Unnamed: 5</th>\n",
              "      <th>decrease_accel</th>\n",
              "      <th>eliminate_stops</th>\n",
              "    </tr>\n",
              "  </thead>\n",
              "  <tbody>\n",
              "    <tr>\n",
              "      <th>0</th>\n",
              "      <td>Cycle</td>\n",
              "      <td>KI</td>\n",
              "      <td>Distance</td>\n",
              "      <td>NaN</td>\n",
              "      <td>NaN</td>\n",
              "      <td>NaN</td>\n",
              "      <td>NaN</td>\n",
              "      <td>NaN</td>\n",
              "    </tr>\n",
              "    <tr>\n",
              "      <th>1</th>\n",
              "      <td>Name</td>\n",
              "      <td>(1/km)</td>\n",
              "      <td>(mi)</td>\n",
              "      <td>Improved</td>\n",
              "      <td>Decreased Eliminate</td>\n",
              "      <td>Decreased</td>\n",
              "      <td>Decreased</td>\n",
              "      <td>Eliminate</td>\n",
              "    </tr>\n",
              "    <tr>\n",
              "      <th>2</th>\n",
              "      <td>NaN</td>\n",
              "      <td>NaN</td>\n",
              "      <td>NaN</td>\n",
              "      <td>Speed</td>\n",
              "      <td>Accel Stops</td>\n",
              "      <td>Idle</td>\n",
              "      <td>Accel</td>\n",
              "      <td>Stops</td>\n",
              "    </tr>\n",
              "    <tr>\n",
              "      <th>3</th>\n",
              "      <td>2012_2</td>\n",
              "      <td>3.30</td>\n",
              "      <td>1.3</td>\n",
              "      <td>5.9%</td>\n",
              "      <td>9.5% 29.2%</td>\n",
              "      <td>17.4%</td>\n",
              "      <td>9.5%</td>\n",
              "      <td>29.2%</td>\n",
              "    </tr>\n",
              "    <tr>\n",
              "      <th>4</th>\n",
              "      <td>2145_1</td>\n",
              "      <td>0.68</td>\n",
              "      <td>11.2</td>\n",
              "      <td>2.4%</td>\n",
              "      <td>0.1% 9.5%</td>\n",
              "      <td>2.7%</td>\n",
              "      <td>0.1%</td>\n",
              "      <td>9.5%</td>\n",
              "    </tr>\n",
              "  </tbody>\n",
              "</table>\n",
              "</div>"
            ],
            "text/plain": [
              "  Unnamed: 0 Unnamed: 1 Unnamed: 2  ... Unnamed: 5 decrease_accel eliminate_stops\n",
              "0      Cycle         KI   Distance  ...        NaN            NaN             NaN\n",
              "1       Name     (1/km)       (mi)  ...  Decreased      Decreased       Eliminate\n",
              "2        NaN        NaN        NaN  ...       Idle          Accel           Stops\n",
              "3     2012_2       3.30        1.3  ...      17.4%           9.5%           29.2%\n",
              "4     2145_1       0.68       11.2  ...       2.7%           0.1%            9.5%\n",
              "\n",
              "[5 rows x 8 columns]"
            ]
          },
          "metadata": {},
          "execution_count": 31
        }
      ]
    },
    {
      "cell_type": "code",
      "metadata": {
        "id": "-X5VGKTBmSZC"
      },
      "source": [
        "df = df[3:7]\n",
        "df = df.rename(columns={\n",
        "    \"Unnamed: 0\": \"cycle_name\", \n",
        "    \"Unnamed: 1\": \"KI\",\n",
        "    \"Unnamed: 2\": \"distance\",\n",
        "    \"Unnamed: 3\": \"improved_speed\",\n",
        "    \"Unnamed: 5\": \"decrease_idle\"\n",
        "  })"
      ],
      "execution_count": 32,
      "outputs": []
    },
    {
      "cell_type": "code",
      "metadata": {
        "id": "kHvUH_OtiLkF",
        "outputId": "2bd0d98b-e7fb-429e-f54b-881c7915cebe",
        "colab": {
          "base_uri": "https://localhost:8080/",
          "height": 173
        }
      },
      "source": [
        "df = df[[\"cycle_name\", \"KI\", \"distance\", \"improved_speed\", \"decrease_accel\", \"eliminate_stops\", \"decrease_idle\"]]\n",
        "df.head()"
      ],
      "execution_count": 33,
      "outputs": [
        {
          "output_type": "execute_result",
          "data": {
            "text/html": [
              "<div>\n",
              "<style scoped>\n",
              "    .dataframe tbody tr th:only-of-type {\n",
              "        vertical-align: middle;\n",
              "    }\n",
              "\n",
              "    .dataframe tbody tr th {\n",
              "        vertical-align: top;\n",
              "    }\n",
              "\n",
              "    .dataframe thead th {\n",
              "        text-align: right;\n",
              "    }\n",
              "</style>\n",
              "<table border=\"1\" class=\"dataframe\">\n",
              "  <thead>\n",
              "    <tr style=\"text-align: right;\">\n",
              "      <th></th>\n",
              "      <th>cycle_name</th>\n",
              "      <th>KI</th>\n",
              "      <th>distance</th>\n",
              "      <th>improved_speed</th>\n",
              "      <th>decrease_accel</th>\n",
              "      <th>eliminate_stops</th>\n",
              "      <th>decrease_idle</th>\n",
              "    </tr>\n",
              "  </thead>\n",
              "  <tbody>\n",
              "    <tr>\n",
              "      <th>3</th>\n",
              "      <td>2012_2</td>\n",
              "      <td>3.30</td>\n",
              "      <td>1.3</td>\n",
              "      <td>5.9%</td>\n",
              "      <td>9.5%</td>\n",
              "      <td>29.2%</td>\n",
              "      <td>17.4%</td>\n",
              "    </tr>\n",
              "    <tr>\n",
              "      <th>4</th>\n",
              "      <td>2145_1</td>\n",
              "      <td>0.68</td>\n",
              "      <td>11.2</td>\n",
              "      <td>2.4%</td>\n",
              "      <td>0.1%</td>\n",
              "      <td>9.5%</td>\n",
              "      <td>2.7%</td>\n",
              "    </tr>\n",
              "    <tr>\n",
              "      <th>5</th>\n",
              "      <td>4234_1</td>\n",
              "      <td>0.59</td>\n",
              "      <td>58.7</td>\n",
              "      <td>8.5%</td>\n",
              "      <td>1.3%</td>\n",
              "      <td>8.5%</td>\n",
              "      <td>3.3%</td>\n",
              "    </tr>\n",
              "    <tr>\n",
              "      <th>6</th>\n",
              "      <td>2032_2</td>\n",
              "      <td>0.17</td>\n",
              "      <td>57.8</td>\n",
              "      <td>21.7%</td>\n",
              "      <td>0.3%</td>\n",
              "      <td>2.7%</td>\n",
              "      <td>1.2%</td>\n",
              "    </tr>\n",
              "  </tbody>\n",
              "</table>\n",
              "</div>"
            ],
            "text/plain": [
              "  cycle_name    KI distance  ... decrease_accel eliminate_stops decrease_idle\n",
              "3     2012_2  3.30      1.3  ...           9.5%           29.2%         17.4%\n",
              "4     2145_1  0.68     11.2  ...           0.1%            9.5%          2.7%\n",
              "5     4234_1  0.59     58.7  ...           1.3%            8.5%          3.3%\n",
              "6     2032_2  0.17     57.8  ...           0.3%            2.7%          1.2%\n",
              "\n",
              "[4 rows x 7 columns]"
            ]
          },
          "metadata": {},
          "execution_count": 33
        }
      ]
    },
    {
      "cell_type": "markdown",
      "metadata": {
        "id": "G3t0N3TYnkey"
      },
      "source": [
        "# 4. Fetch Data From CSV / Save Data To CSV "
      ]
    },
    {
      "cell_type": "markdown",
      "metadata": {
        "id": "TTfl0ccCloEx"
      },
      "source": [
        "https://raw.githubusercontent.com/cs109/2014_data/master/countries.csv"
      ]
    },
    {
      "cell_type": "code",
      "metadata": {
        "id": "ydeNWLvOniAp"
      },
      "source": [
        "URL = \"https://raw.githubusercontent.com/cs109/2014_data/master/countries.csv\"\n",
        "df = pd.read_csv(URL)"
      ],
      "execution_count": 34,
      "outputs": []
    },
    {
      "cell_type": "code",
      "metadata": {
        "id": "Unf1gfqpoAiE",
        "outputId": "3251c4c8-4125-468e-ba8c-ea1fa8b3ca35",
        "colab": {
          "base_uri": "https://localhost:8080/",
          "height": 204
        }
      },
      "source": [
        "df.head()"
      ],
      "execution_count": 35,
      "outputs": [
        {
          "output_type": "execute_result",
          "data": {
            "text/html": [
              "<div>\n",
              "<style scoped>\n",
              "    .dataframe tbody tr th:only-of-type {\n",
              "        vertical-align: middle;\n",
              "    }\n",
              "\n",
              "    .dataframe tbody tr th {\n",
              "        vertical-align: top;\n",
              "    }\n",
              "\n",
              "    .dataframe thead th {\n",
              "        text-align: right;\n",
              "    }\n",
              "</style>\n",
              "<table border=\"1\" class=\"dataframe\">\n",
              "  <thead>\n",
              "    <tr style=\"text-align: right;\">\n",
              "      <th></th>\n",
              "      <th>Country</th>\n",
              "      <th>Region</th>\n",
              "    </tr>\n",
              "  </thead>\n",
              "  <tbody>\n",
              "    <tr>\n",
              "      <th>0</th>\n",
              "      <td>Algeria</td>\n",
              "      <td>AFRICA</td>\n",
              "    </tr>\n",
              "    <tr>\n",
              "      <th>1</th>\n",
              "      <td>Angola</td>\n",
              "      <td>AFRICA</td>\n",
              "    </tr>\n",
              "    <tr>\n",
              "      <th>2</th>\n",
              "      <td>Benin</td>\n",
              "      <td>AFRICA</td>\n",
              "    </tr>\n",
              "    <tr>\n",
              "      <th>3</th>\n",
              "      <td>Botswana</td>\n",
              "      <td>AFRICA</td>\n",
              "    </tr>\n",
              "    <tr>\n",
              "      <th>4</th>\n",
              "      <td>Burkina</td>\n",
              "      <td>AFRICA</td>\n",
              "    </tr>\n",
              "  </tbody>\n",
              "</table>\n",
              "</div>"
            ],
            "text/plain": [
              "    Country  Region\n",
              "0   Algeria  AFRICA\n",
              "1    Angola  AFRICA\n",
              "2     Benin  AFRICA\n",
              "3  Botswana  AFRICA\n",
              "4   Burkina  AFRICA"
            ]
          },
          "metadata": {},
          "execution_count": 35
        }
      ]
    },
    {
      "cell_type": "code",
      "metadata": {
        "id": "gJgzw6lCoA93"
      },
      "source": [
        "PATH = \"/content/drive/MyDrive/countries.csv\"\n",
        "df.to_csv(PATH, index=False)"
      ],
      "execution_count": 37,
      "outputs": []
    },
    {
      "cell_type": "code",
      "metadata": {
        "id": "WsalvZuElJo8"
      },
      "source": [
        ""
      ],
      "execution_count": null,
      "outputs": []
    }
  ]
}