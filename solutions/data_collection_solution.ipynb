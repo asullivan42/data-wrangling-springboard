{
  "nbformat": 4,
  "nbformat_minor": 0,
  "metadata": {
    "kernelspec": {
      "display_name": "Python 3",
      "language": "python",
      "name": "python3"
    },
    "language_info": {
      "codemirror_mode": {
        "name": "ipython",
        "version": 3
      },
      "file_extension": ".py",
      "mimetype": "text/x-python",
      "name": "python",
      "nbconvert_exporter": "python",
      "pygments_lexer": "ipython3",
      "version": "3.7.6"
    },
    "toc": {
      "base_numbering": 1,
      "nav_menu": {},
      "number_sections": true,
      "sideBar": true,
      "skip_h1_title": false,
      "title_cell": "Table of Contents",
      "title_sidebar": "Contents",
      "toc_cell": false,
      "toc_position": {
        "height": "calc(100% - 180px)",
        "left": "10px",
        "top": "150px",
        "width": "380px"
      },
      "toc_section_display": true,
      "toc_window_display": false
    },
    "colab": {
      "name": "data-collection-solution.ipynb",
      "provenance": [],
      "collapsed_sections": [],
      "include_colab_link": true
    }
  },
  "cells": [
    {
      "cell_type": "markdown",
      "metadata": {
        "id": "view-in-github",
        "colab_type": "text"
      },
      "source": [
        "<a href=\"https://colab.research.google.com/github/oliverrmaa/data-wrangling-springboard/blob/main/solutions/data_collection_solution.ipynb\" target=\"_parent\"><img src=\"https://colab.research.google.com/assets/colab-badge.svg\" alt=\"Open In Colab\"/></a>"
      ]
    },
    {
      "cell_type": "markdown",
      "metadata": {
        "id": "4a0A5M0rAeAI"
      },
      "source": [
        "# Data Collection"
      ]
    },
    {
      "cell_type": "code",
      "metadata": {
        "id": "ZGn3G4lNAbcY",
        "colab": {
          "base_uri": "https://localhost:8080/"
        },
        "outputId": "89024a16-ecd4-4829-87a2-7ca2811be9cf"
      },
      "source": [
        "# Installations:\n",
        "!pip install tabula-py\n",
        "\n",
        "# Imports:\n",
        "import requests\n",
        "import json\n",
        "from bs4 import BeautifulSoup\n",
        "from tabula.io import read_pdf\n",
        "import pandas as pd\n",
        "\n",
        "# Google Drive mount authentication\n",
        "from google.colab import drive\n",
        "drive.mount('/content/drive')"
      ],
      "execution_count": 2,
      "outputs": [
        {
          "output_type": "stream",
          "text": [
            "Collecting tabula-py\n",
            "  Downloading tabula_py-2.2.0-py3-none-any.whl (11.7 MB)\n",
            "\u001b[K     |████████████████████████████████| 11.7 MB 229 kB/s \n",
            "\u001b[?25hCollecting distro\n",
            "  Downloading distro-1.5.0-py2.py3-none-any.whl (18 kB)\n",
            "Requirement already satisfied: numpy in /usr/local/lib/python3.7/dist-packages (from tabula-py) (1.19.5)\n",
            "Requirement already satisfied: pandas>=0.25.3 in /usr/local/lib/python3.7/dist-packages (from tabula-py) (1.1.5)\n",
            "Requirement already satisfied: pytz>=2017.2 in /usr/local/lib/python3.7/dist-packages (from pandas>=0.25.3->tabula-py) (2018.9)\n",
            "Requirement already satisfied: python-dateutil>=2.7.3 in /usr/local/lib/python3.7/dist-packages (from pandas>=0.25.3->tabula-py) (2.8.1)\n",
            "Requirement already satisfied: six>=1.5 in /usr/local/lib/python3.7/dist-packages (from python-dateutil>=2.7.3->pandas>=0.25.3->tabula-py) (1.15.0)\n",
            "Installing collected packages: distro, tabula-py\n",
            "Successfully installed distro-1.5.0 tabula-py-2.2.0\n",
            "Mounted at /content/drive\n"
          ],
          "name": "stdout"
        }
      ]
    },
    {
      "cell_type": "markdown",
      "metadata": {
        "id": "5M95VnBRoN2W"
      },
      "source": [
        "# 1. Fetch Data From API"
      ]
    },
    {
      "cell_type": "markdown",
      "metadata": {
        "id": "hYzsxUpb_4ky"
      },
      "source": [
        "## 1.1 Exchange Rate Demo"
      ]
    },
    {
      "cell_type": "markdown",
      "metadata": {
        "id": "nvmHCCAEg0Um"
      },
      "source": [
        "https://exchangeratesapi.io"
      ]
    },
    {
      "cell_type": "code",
      "metadata": {
        "id": "upDowE06Tuq1"
      },
      "source": [
        "API_KEY = \"7d621c8860a896ffe2d06c2f27317372\"\n",
        "URL = \"http://api.exchangeratesapi.io/v1/latest?access_key={}\".format(API_KEY)\n",
        " \n",
        "response = requests.get(URL)\n",
        "print(response)\n",
        "text = response.text\n",
        "json_data = json.loads(text)"
      ],
      "execution_count": null,
      "outputs": []
    },
    {
      "cell_type": "code",
      "metadata": {
        "id": "UQuLbYHpapIP"
      },
      "source": [
        "print(json_data)\n",
        "print(json_data.keys())"
      ],
      "execution_count": null,
      "outputs": []
    },
    {
      "cell_type": "code",
      "metadata": {
        "id": "wS3yntMECtTB"
      },
      "source": [
        "df = pd.DataFrame({\"rate\": json_data['rates']})\n",
        "df.head()"
      ],
      "execution_count": null,
      "outputs": []
    },
    {
      "cell_type": "code",
      "metadata": {
        "id": "bIAWiD5xUleg"
      },
      "source": [
        "df = df.reset_index(inplace=False)\n",
        "df.head()"
      ],
      "execution_count": null,
      "outputs": []
    },
    {
      "cell_type": "code",
      "metadata": {
        "id": "pNB9jrYzcCRx"
      },
      "source": [
        "df = df.rename(columns={'index': 'currency'})\n",
        "df.head()"
      ],
      "execution_count": null,
      "outputs": []
    },
    {
      "cell_type": "code",
      "metadata": {
        "id": "-sOU2cGFc4gP"
      },
      "source": [
        "df['base_currency'] = json_data['base']\n",
        "df['date_accessed'] = json_data['date']\n",
        "df.head()"
      ],
      "execution_count": null,
      "outputs": []
    },
    {
      "cell_type": "markdown",
      "metadata": {
        "id": "542OA114__Qd"
      },
      "source": [
        "## 1.2 Exercise: How Many People Are In Space?"
      ]
    },
    {
      "cell_type": "markdown",
      "metadata": {
        "id": "6O2T43ELh9xi"
      },
      "source": [
        "Let's use an open API so we do not need to worry about authentication. Check how many people are currently in space using this open API. Be sure to reshape\n",
        "the resulting JSON into a proper DataFrame. For the URL, please use:\n",
        "`\"http://api.open-notify.org/astros.json\"`"
      ]
    },
    {
      "cell_type": "code",
      "metadata": {
        "id": "Tq2XB443h0nn"
      },
      "source": [
        "# YOUR CODE GOES HERE"
      ],
      "execution_count": null,
      "outputs": []
    },
    {
      "cell_type": "code",
      "metadata": {
        "colab": {
          "base_uri": "https://localhost:8080/"
        },
        "id": "z9EcviB7wjt0",
        "outputId": "08ec57c0-e636-4c82-c497-a8cd786d3e1a"
      },
      "source": [
        "URL = \"http://api.open-notify.org/astros.json\"\n",
        "response = requests.get(URL)\n",
        "print(response)"
      ],
      "execution_count": 3,
      "outputs": [
        {
          "output_type": "stream",
          "text": [
            "<Response [200]>\n"
          ],
          "name": "stdout"
        }
      ]
    },
    {
      "cell_type": "code",
      "metadata": {
        "id": "jWst_1PIwjyi"
      },
      "source": [
        "text = response.text\n",
        "json_data = json.loads(text)"
      ],
      "execution_count": 4,
      "outputs": []
    },
    {
      "cell_type": "code",
      "metadata": {
        "colab": {
          "base_uri": "https://localhost:8080/",
          "height": 195
        },
        "id": "XkN5vERow6YI",
        "outputId": "3ee5ecdd-7661-4b32-c83c-5f4ac7212f35"
      },
      "source": [
        "df = pd.DataFrame(json_data[\"people\"])\n",
        "\n",
        "df.head()"
      ],
      "execution_count": 5,
      "outputs": [
        {
          "output_type": "execute_result",
          "data": {
            "text/html": [
              "<div>\n",
              "<style scoped>\n",
              "    .dataframe tbody tr th:only-of-type {\n",
              "        vertical-align: middle;\n",
              "    }\n",
              "\n",
              "    .dataframe tbody tr th {\n",
              "        vertical-align: top;\n",
              "    }\n",
              "\n",
              "    .dataframe thead th {\n",
              "        text-align: right;\n",
              "    }\n",
              "</style>\n",
              "<table border=\"1\" class=\"dataframe\">\n",
              "  <thead>\n",
              "    <tr style=\"text-align: right;\">\n",
              "      <th></th>\n",
              "      <th>name</th>\n",
              "      <th>craft</th>\n",
              "    </tr>\n",
              "  </thead>\n",
              "  <tbody>\n",
              "    <tr>\n",
              "      <th>0</th>\n",
              "      <td>Mark Vande Hei</td>\n",
              "      <td>ISS</td>\n",
              "    </tr>\n",
              "    <tr>\n",
              "      <th>1</th>\n",
              "      <td>Oleg Novitskiy</td>\n",
              "      <td>ISS</td>\n",
              "    </tr>\n",
              "    <tr>\n",
              "      <th>2</th>\n",
              "      <td>Pyotr Dubrov</td>\n",
              "      <td>ISS</td>\n",
              "    </tr>\n",
              "    <tr>\n",
              "      <th>3</th>\n",
              "      <td>Thomas Pesquet</td>\n",
              "      <td>ISS</td>\n",
              "    </tr>\n",
              "    <tr>\n",
              "      <th>4</th>\n",
              "      <td>Megan McArthur</td>\n",
              "      <td>ISS</td>\n",
              "    </tr>\n",
              "  </tbody>\n",
              "</table>\n",
              "</div>"
            ],
            "text/plain": [
              "             name craft\n",
              "0  Mark Vande Hei   ISS\n",
              "1  Oleg Novitskiy   ISS\n",
              "2    Pyotr Dubrov   ISS\n",
              "3  Thomas Pesquet   ISS\n",
              "4  Megan McArthur   ISS"
            ]
          },
          "metadata": {
            "tags": []
          },
          "execution_count": 5
        }
      ]
    },
    {
      "cell_type": "markdown",
      "metadata": {
        "id": "2WgAFL2fdpbe"
      },
      "source": [
        "# 2. Fetch Data Via Parse HTML"
      ]
    },
    {
      "cell_type": "markdown",
      "metadata": {
        "id": "imGN1GntAD0F"
      },
      "source": [
        "## 2.1 Video Game Music Demo"
      ]
    },
    {
      "cell_type": "markdown",
      "metadata": {
        "id": "b2igdQoc-n92"
      },
      "source": [
        "We will parse a webpage full or links (https://www.vgmusic.com/music/console/nintendo/nes/).\n",
        " \n",
        "This would be of interest if we were harvesting data stored in links from a web-based source. There are important background information on html:\n",
        "- `<a>`is known as an anchor element in HTML, we usually search for these elements when parsing for links. (`https://developer.mozilla.org/en-US/docs/Web/HTML/Element/a`)\n",
        "- `href` is an attribue of `<a>` which creates the hyperlink"
      ]
    },
    {
      "cell_type": "code",
      "metadata": {
        "ExecuteTime": {
          "end_time": "2020-08-03T13:46:34.685879Z",
          "start_time": "2020-08-03T13:46:34.681978Z"
        },
        "id": "x0VJy8FGTJM-"
      },
      "source": [
        "URL = 'https://www.vgmusic.com/music/console/nintendo/nes/'\n",
        "response = requests.get(URL)\n",
        "text = response.text\n",
        "soup = BeautifulSoup(text, 'html.parser')"
      ],
      "execution_count": null,
      "outputs": []
    },
    {
      "cell_type": "code",
      "metadata": {
        "id": "6hAeuKYlRKn3"
      },
      "source": [
        "soup.find_all(\"a\")[0:10]"
      ],
      "execution_count": null,
      "outputs": []
    },
    {
      "cell_type": "code",
      "metadata": {
        "id": "dbJDJpZWXgFn"
      },
      "source": [
        "len(soup.find_all(\"a\"))"
      ],
      "execution_count": null,
      "outputs": []
    },
    {
      "cell_type": "code",
      "metadata": {
        "id": "W222VAvDkomj"
      },
      "source": [
        "href_list = [link.get(\"href\") for link in soup.find_all(\"a\")]\n",
        "\n",
        "# code without using list comprehension:\n",
        "# href_list = []\n",
        "# for link in soup.find_all(\"a\"):\n",
        "#   href_list.append(link.get(\"href\"))"
      ],
      "execution_count": null,
      "outputs": []
    },
    {
      "cell_type": "code",
      "metadata": {
        "id": "XMSDCXeGSZkL"
      },
      "source": [
        "df = pd.DataFrame({\"song_list\": href_list, \"base_url\": URL})"
      ],
      "execution_count": null,
      "outputs": []
    },
    {
      "cell_type": "code",
      "metadata": {
        "id": "cNOAQn6dkO-L"
      },
      "source": [
        "len(df.song_list)"
      ],
      "execution_count": null,
      "outputs": []
    },
    {
      "cell_type": "code",
      "metadata": {
        "id": "ax4XrzFVUDYm"
      },
      "source": [
        "aux = df[df[\"song_list\"].str.contains(\".mid\", na=False)]\n",
        "aux.head()"
      ],
      "execution_count": null,
      "outputs": []
    },
    {
      "cell_type": "code",
      "metadata": {
        "id": "SzagQJMnXkqA"
      },
      "source": [
        "aux.reset_index(inplace=True)\n",
        "aux.head()"
      ],
      "execution_count": null,
      "outputs": []
    },
    {
      "cell_type": "code",
      "metadata": {
        "id": "tDx23KQ8kdxD"
      },
      "source": [
        "# axis=1 is for columns \n",
        "aux = aux.drop('index', axis=1)"
      ],
      "execution_count": null,
      "outputs": []
    },
    {
      "cell_type": "code",
      "metadata": {
        "ExecuteTime": {
          "end_time": "2020-08-03T13:46:34.690050Z",
          "start_time": "2020-08-03T13:46:34.687983Z"
        },
        "id": "o9FuF8mATJM-"
      },
      "source": [
        "aux['full_path'] = aux['base_url'] + aux[\"song_list\"]\n",
        "aux.head()"
      ],
      "execution_count": null,
      "outputs": []
    },
    {
      "cell_type": "code",
      "metadata": {
        "id": "uZyNXY9SOYk-"
      },
      "source": [
        "len(aux)"
      ],
      "execution_count": null,
      "outputs": []
    },
    {
      "cell_type": "code",
      "metadata": {
        "id": "G7HiSnJ9jkeM"
      },
      "source": [
        "aux.full_path[0]"
      ],
      "execution_count": null,
      "outputs": []
    },
    {
      "cell_type": "markdown",
      "metadata": {
        "id": "rChEkIjYAJt2"
      },
      "source": [
        "## 2.2 Exercise: Google Scholar Link Extraction"
      ]
    },
    {
      "cell_type": "markdown",
      "metadata": {
        "id": "JC53gztpjbuD"
      },
      "source": [
        "Let's practice link extraction from html. For the following exercise we will\n",
        "go to google scholar and extract every link that leads to an academic article. Be sure to put the results into a nice list or DataFrame showing just the necessary links.\n",
        "\n",
        "Please go to Google Scholar https://scholar.google.com\n",
        "\n",
        "Type in \"astroids\", then copy and paste that web url link to use. \n"
      ]
    },
    {
      "cell_type": "code",
      "metadata": {
        "id": "CfZGsVHfj9Oc"
      },
      "source": [
        "# YOUR CODE GOES HERE"
      ],
      "execution_count": 12,
      "outputs": []
    },
    {
      "cell_type": "code",
      "metadata": {
        "id": "9aoQKt6sw-08"
      },
      "source": [
        "URL = \"https://scholar.google.com/scholar?hl=en&as_sdt=0%2C5&q=astroids&btnG=\"\n",
        "response = requests.get(URL)\n",
        "text = response.text\n",
        "soup = BeautifulSoup(text, 'html.parser')"
      ],
      "execution_count": 13,
      "outputs": []
    },
    {
      "cell_type": "code",
      "metadata": {
        "colab": {
          "base_uri": "https://localhost:8080/"
        },
        "id": "A_Lbxlf5xBBw",
        "outputId": "da012e81-4b4c-4510-ded3-4d8fd60f664b"
      },
      "source": [
        "href_list = [link.get(\"href\") for link in soup.find_all(\"a\")]\n",
        "\n",
        "filtered_list = [link for link in href_list if \"https\" in link and \"google\" not in link]\n",
        "\n",
        "filtered_list"
      ],
      "execution_count": 15,
      "outputs": [
        {
          "output_type": "execute_result",
          "data": {
            "text/plain": [
              "[]"
            ]
          },
          "metadata": {
            "tags": []
          },
          "execution_count": 15
        }
      ]
    },
    {
      "cell_type": "markdown",
      "metadata": {
        "id": "bNBaFrenXQdU"
      },
      "source": [
        "# 3. Fetch Data From PDF"
      ]
    },
    {
      "cell_type": "markdown",
      "metadata": {
        "id": "Wjq6Bd4XllH-"
      },
      "source": [
        "https://camelot-py.readthedocs.io/en/master/_static/pdf/foo.pdf"
      ]
    },
    {
      "cell_type": "code",
      "metadata": {
        "id": "gfqH24AYXUFc"
      },
      "source": [
        "URL = \"https://camelot-py.readthedocs.io/en/master/_static/pdf/foo.pdf\"\n",
        "df_list = read_pdf(URL, output_format=\"dataframe\", pages=\"all\")"
      ],
      "execution_count": null,
      "outputs": []
    },
    {
      "cell_type": "code",
      "metadata": {
        "id": "dqUrUWillcTj"
      },
      "source": [
        "df = df_list[0]\n",
        "df.head()"
      ],
      "execution_count": null,
      "outputs": []
    },
    {
      "cell_type": "code",
      "metadata": {
        "id": "pa3mONDblm-k"
      },
      "source": [
        "df.columns"
      ],
      "execution_count": null,
      "outputs": []
    },
    {
      "cell_type": "code",
      "metadata": {
        "id": "cN484e3_lqqS"
      },
      "source": [
        "df['decrease_accel'] = df[\"Percent Fuel Savings\"].str.split(\" \").str[0]\n",
        "df['eliminate_stops'] = df[\"Percent Fuel Savings\"].str.split(\" \").str[1]\n",
        "df.head()"
      ],
      "execution_count": null,
      "outputs": []
    },
    {
      "cell_type": "code",
      "metadata": {
        "id": "-X5VGKTBmSZC"
      },
      "source": [
        "df = df[3:7]\n",
        "df = df.rename(columns={\n",
        "    \"Unnamed: 0\": \"cycle_name\", \n",
        "    \"Unnamed: 1\": \"KI\",\n",
        "    \"Unnamed: 2\": \"distance\",\n",
        "    \"Unnamed: 3\": \"improved_speed\",\n",
        "    \"Unnamed: 5\": \"decrease_idle\"\n",
        "  })"
      ],
      "execution_count": null,
      "outputs": []
    },
    {
      "cell_type": "code",
      "metadata": {
        "id": "kHvUH_OtiLkF"
      },
      "source": [
        "df = df[[\"cycle_name\", \"KI\", \"distance\", \"improved_speed\", \"decrease_accel\", \"eliminate_stops\", \"decrease_idle\"]]\n",
        "df.head()"
      ],
      "execution_count": null,
      "outputs": []
    },
    {
      "cell_type": "markdown",
      "metadata": {
        "id": "G3t0N3TYnkey"
      },
      "source": [
        "# 4. Fetch Data From CSV / Save Data To CSV "
      ]
    },
    {
      "cell_type": "markdown",
      "metadata": {
        "id": "TTfl0ccCloEx"
      },
      "source": [
        "https://raw.githubusercontent.com/cs109/2014_data/master/countries.csv"
      ]
    },
    {
      "cell_type": "code",
      "metadata": {
        "id": "ydeNWLvOniAp"
      },
      "source": [
        "URL = \"https://raw.githubusercontent.com/cs109/2014_data/master/countries.csv\"\n",
        "df = pd.read_csv(URL)"
      ],
      "execution_count": null,
      "outputs": []
    },
    {
      "cell_type": "code",
      "metadata": {
        "id": "Unf1gfqpoAiE"
      },
      "source": [
        "df.head()"
      ],
      "execution_count": null,
      "outputs": []
    },
    {
      "cell_type": "code",
      "metadata": {
        "id": "gJgzw6lCoA93"
      },
      "source": [
        "PATH = \"/content/drive/MyDrive/00_temp/countries.csv\"\n",
        "df.to_csv(PATH, index=False)"
      ],
      "execution_count": null,
      "outputs": []
    },
    {
      "cell_type": "code",
      "metadata": {
        "id": "WsalvZuElJo8"
      },
      "source": [
        ""
      ],
      "execution_count": null,
      "outputs": []
    }
  ]
}