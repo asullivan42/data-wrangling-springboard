{
  "nbformat": 4,
  "nbformat_minor": 0,
  "metadata": {
    "kernelspec": {
      "display_name": "Python 3",
      "language": "python",
      "name": "python3"
    },
    "language_info": {
      "codemirror_mode": {
        "name": "ipython",
        "version": 3
      },
      "file_extension": ".py",
      "mimetype": "text/x-python",
      "name": "python",
      "nbconvert_exporter": "python",
      "pygments_lexer": "ipython3",
      "version": "3.7.6"
    },
    "toc": {
      "base_numbering": 1,
      "nav_menu": {},
      "number_sections": true,
      "sideBar": true,
      "skip_h1_title": false,
      "title_cell": "Table of Contents",
      "title_sidebar": "Contents",
      "toc_cell": false,
      "toc_position": {
        "height": "calc(100% - 180px)",
        "left": "10px",
        "top": "150px",
        "width": "380px"
      },
      "toc_section_display": true,
      "toc_window_display": false
    },
    "colab": {
      "name": "data-collection-solution.ipynb",
      "provenance": [],
      "collapsed_sections": []
    }
  },
  "cells": [
    {
      "cell_type": "markdown",
      "metadata": {
        "id": "4a0A5M0rAeAI"
      },
      "source": [
        "## Data Collection"
      ]
    },
    {
      "cell_type": "code",
      "metadata": {
        "id": "ZGn3G4lNAbcY"
      },
      "source": [
        "# Installations:\n",
        "!pip install tabula-py\n",
        "\n",
        "# Imports:\n",
        "import requests\n",
        "import json\n",
        "from bs4 import BeautifulSoup\n",
        "from tabula.io import read_pdf\n",
        "import pandas as pd\n",
        "\n",
        "# Google Drive mount authentication\n",
        "from google.colab import drive\n",
        "drive.mount('/content/drive')"
      ],
      "execution_count": null,
      "outputs": []
    },
    {
      "cell_type": "markdown",
      "metadata": {
        "id": "5M95VnBRoN2W"
      },
      "source": [
        "# 1. Fetch Data From API"
      ]
    },
    {
      "cell_type": "markdown",
      "metadata": {
        "id": "hYzsxUpb_4ky"
      },
      "source": [
        "## 1.1 Exchange Rate Demo"
      ]
    },
    {
      "cell_type": "code",
      "metadata": {
        "colab": {
          "base_uri": "https://localhost:8080/"
        },
        "id": "upDowE06Tuq1",
        "outputId": "961824e0-9683-414c-93b6-8e7c88089076"
      },
      "source": [
        "API_KEY = \"7d621c8860a896ffe2d06c2f27317372\"\n",
        "URL = \"http://api.exchangeratesapi.io/v1/latest?access_key={}\".format(API_KEY)\n",
        " \n",
        "response = requests.get(URL)\n",
        "print(response)\n",
        "text = response.text\n",
        "json_data = json.loads(text)"
      ],
      "execution_count": 34,
      "outputs": [
        {
          "output_type": "stream",
          "text": [
            "<Response [200]>\n"
          ],
          "name": "stdout"
        }
      ]
    },
    {
      "cell_type": "code",
      "metadata": {
        "colab": {
          "base_uri": "https://localhost:8080/"
        },
        "id": "UQuLbYHpapIP",
        "outputId": "3f4915d3-8b39-4ac3-c12c-b98d08daa557"
      },
      "source": [
        "print(json_data)\n",
        "print(json_data.keys())"
      ],
      "execution_count": 35,
      "outputs": [
        {
          "output_type": "stream",
          "text": [
            "{'success': True, 'timestamp': 1624056544, 'base': 'EUR', 'date': '2021-06-18', 'rates': {'AED': 4.357587, 'AFN': 93.133209, 'ALL': 122.135209, 'AMD': 609.464054, 'ANG': 2.129861, 'AOA': 761.637124, 'ARS': 113.137592, 'AUD': 1.586454, 'AWG': 2.136023, 'AZN': 2.021505, 'BAM': 1.947581, 'BBD': 2.395752, 'BDT': 100.559612, 'BGN': 1.958052, 'BHD': 0.447168, 'BIF': 2351.345662, 'BMD': 1.18635, 'BND': 1.591645, 'BOB': 8.193196, 'BRL': 6.0387, 'BSD': 1.186574, 'BTC': 3.3447718e-05, 'BTN': 87.685054, 'BWP': 12.84837, 'BYN': 2.982567, 'BYR': 23252.459629, 'BZD': 2.391769, 'CAD': 1.479165, 'CDF': 2353.718792, 'CHF': 1.095061, 'CLF': 0.032186, 'CLP': 888.106237, 'CNY': 7.65564, 'COP': 4471.353079, 'CRC': 732.706477, 'CUC': 1.18635, 'CUP': 31.438274, 'CVE': 109.945033, 'CZK': 25.581313, 'DJF': 210.838586, 'DKK': 7.436522, 'DOP': 67.717323, 'DZD': 159.362859, 'EGP': 18.56267, 'ERN': 17.797621, 'ETB': 51.373553, 'EUR': 1, 'FJD': 2.44986, 'FKP': 0.840936, 'GBP': 0.858958, 'GEL': 3.754845, 'GGP': 0.840936, 'GHS': 6.869429, 'GIP': 0.840936, 'GMD': 60.682264, 'GNF': 11655.888986, 'GTQ': 9.178025, 'GYD': 248.248495, 'HKD': 9.20903, 'HNL': 28.615222, 'HRK': 7.502525, 'HTG': 109.755185, 'HUF': 355.874196, 'IDR': 17189.618051, 'ILS': 3.889283, 'IMP': 0.840936, 'INR': 87.960856, 'IQD': 1732.664147, 'IRR': 49951.266371, 'ISK': 146.597725, 'JEP': 0.840936, 'JMD': 178.450633, 'JOD': 0.84089, 'JPY': 130.777337, 'KES': 127.893041, 'KGS': 100.332351, 'KHR': 4834.376589, 'KMF': 490.61549, 'KPW': 1067.715398, 'KRW': 1346.804271, 'KWD': 0.357507, 'KYD': 0.988803, 'KZT': 507.898695, 'LAK': 11228.802985, 'LBP': 1811.556835, 'LKR': 235.825626, 'LRD': 203.344865, 'LSL': 16.751714, 'LTL': 3.502984, 'LVL': 0.717612, 'LYD': 5.33269, 'MAD': 10.563858, 'MDL': 21.209662, 'MGA': 4453.55824, 'MKD': 61.355118, 'MMK': 1953.051802, 'MNT': 3376.349998, 'MOP': 9.488828, 'MRO': 423.526739, 'MUR': 48.516523, 'MVR': 18.329556, 'MWK': 943.148644, 'MXN': 24.527252, 'MYR': 4.911937, 'MZN': 74.75236, 'NAD': 16.680528, 'NGN': 486.4039, 'NIO': 41.724376, 'NOK': 10.285778, 'NPR': 140.296564, 'NZD': 1.710547, 'OMR': 0.456667, 'PAB': 1.186574, 'PEN': 4.650937, 'PGK': 4.156624, 'PHP': 57.538877, 'PKR': 186.079439, 'PLN': 4.552623, 'PYG': 8001.241721, 'QAR': 4.319546, 'RON': 4.927153, 'RSD': 117.089046, 'RUB': 86.365809, 'RWF': 1174.486481, 'SAR': 4.44885, 'SBD': 9.487079, 'SCR': 18.383683, 'SDG': 519.03248, 'SEK': 10.213418, 'SGD': 1.595326, 'SHP': 0.840936, 'SLL': 12142.292458, 'SOS': 694.01514, 'SRD': 25.406283, 'STD': 24211.618994, 'SVC': 10.383021, 'SYP': 1492.240472, 'SZL': 16.7517, 'THB': 37.303634, 'TJS': 13.53268, 'TMT': 4.164088, 'TND': 3.282042, 'TOP': 2.666856, 'TRY': 10.370957, 'TTD': 8.053986, 'TWD': 32.974009, 'TZS': 2751.146004, 'UAH': 32.265633, 'UGX': 4194.43365, 'USD': 1.18635, 'UYU': 51.822061, 'UZS': 12575.310196, 'VEF': 253677480222.4708, 'VND': 27286.049565, 'VUV': 128.648746, 'WST': 2.991943, 'XAF': 653.184801, 'XAG': 0.045969, 'XAU': 0.000672, 'XCD': 3.206171, 'XDR': 0.830177, 'XOF': 650.717238, 'XPF': 119.050653, 'YER': 296.647244, 'ZAR': 17.027219, 'ZMK': 10678.577712, 'ZMW': 26.792415, 'ZWL': 382.005087}}\n",
            "dict_keys(['success', 'timestamp', 'base', 'date', 'rates'])\n"
          ],
          "name": "stdout"
        }
      ]
    },
    {
      "cell_type": "code",
      "metadata": {
        "colab": {
          "base_uri": "https://localhost:8080/",
          "height": 195
        },
        "id": "wS3yntMECtTB",
        "outputId": "61a0df7d-1553-4253-976a-7af8e019c5b1"
      },
      "source": [
        "df = pd.DataFrame({\"rate\": json_data['rates']})\n",
        "df.head()"
      ],
      "execution_count": 5,
      "outputs": [
        {
          "output_type": "execute_result",
          "data": {
            "text/html": [
              "<div>\n",
              "<style scoped>\n",
              "    .dataframe tbody tr th:only-of-type {\n",
              "        vertical-align: middle;\n",
              "    }\n",
              "\n",
              "    .dataframe tbody tr th {\n",
              "        vertical-align: top;\n",
              "    }\n",
              "\n",
              "    .dataframe thead th {\n",
              "        text-align: right;\n",
              "    }\n",
              "</style>\n",
              "<table border=\"1\" class=\"dataframe\">\n",
              "  <thead>\n",
              "    <tr style=\"text-align: right;\">\n",
              "      <th></th>\n",
              "      <th>rate</th>\n",
              "    </tr>\n",
              "  </thead>\n",
              "  <tbody>\n",
              "    <tr>\n",
              "      <th>AED</th>\n",
              "      <td>4.405028</td>\n",
              "    </tr>\n",
              "    <tr>\n",
              "      <th>AFN</th>\n",
              "      <td>95.691111</td>\n",
              "    </tr>\n",
              "    <tr>\n",
              "      <th>ALL</th>\n",
              "      <td>122.959976</td>\n",
              "    </tr>\n",
              "    <tr>\n",
              "      <th>AMD</th>\n",
              "      <td>625.041028</td>\n",
              "    </tr>\n",
              "    <tr>\n",
              "      <th>ANG</th>\n",
              "      <td>2.175598</td>\n",
              "    </tr>\n",
              "  </tbody>\n",
              "</table>\n",
              "</div>"
            ],
            "text/plain": [
              "           rate\n",
              "AED    4.405028\n",
              "AFN   95.691111\n",
              "ALL  122.959976\n",
              "AMD  625.041028\n",
              "ANG    2.175598"
            ]
          },
          "metadata": {
            "tags": []
          },
          "execution_count": 5
        }
      ]
    },
    {
      "cell_type": "code",
      "metadata": {
        "id": "bIAWiD5xUleg",
        "colab": {
          "base_uri": "https://localhost:8080/",
          "height": 195
        },
        "outputId": "beddf840-2c77-4778-e701-76bd5b9fc551"
      },
      "source": [
        "df = df.reset_index(inplace=False)\n",
        "df.head()"
      ],
      "execution_count": 6,
      "outputs": [
        {
          "output_type": "execute_result",
          "data": {
            "text/html": [
              "<div>\n",
              "<style scoped>\n",
              "    .dataframe tbody tr th:only-of-type {\n",
              "        vertical-align: middle;\n",
              "    }\n",
              "\n",
              "    .dataframe tbody tr th {\n",
              "        vertical-align: top;\n",
              "    }\n",
              "\n",
              "    .dataframe thead th {\n",
              "        text-align: right;\n",
              "    }\n",
              "</style>\n",
              "<table border=\"1\" class=\"dataframe\">\n",
              "  <thead>\n",
              "    <tr style=\"text-align: right;\">\n",
              "      <th></th>\n",
              "      <th>index</th>\n",
              "      <th>rate</th>\n",
              "    </tr>\n",
              "  </thead>\n",
              "  <tbody>\n",
              "    <tr>\n",
              "      <th>0</th>\n",
              "      <td>AED</td>\n",
              "      <td>4.405028</td>\n",
              "    </tr>\n",
              "    <tr>\n",
              "      <th>1</th>\n",
              "      <td>AFN</td>\n",
              "      <td>95.691111</td>\n",
              "    </tr>\n",
              "    <tr>\n",
              "      <th>2</th>\n",
              "      <td>ALL</td>\n",
              "      <td>122.959976</td>\n",
              "    </tr>\n",
              "    <tr>\n",
              "      <th>3</th>\n",
              "      <td>AMD</td>\n",
              "      <td>625.041028</td>\n",
              "    </tr>\n",
              "    <tr>\n",
              "      <th>4</th>\n",
              "      <td>ANG</td>\n",
              "      <td>2.175598</td>\n",
              "    </tr>\n",
              "  </tbody>\n",
              "</table>\n",
              "</div>"
            ],
            "text/plain": [
              "  index        rate\n",
              "0   AED    4.405028\n",
              "1   AFN   95.691111\n",
              "2   ALL  122.959976\n",
              "3   AMD  625.041028\n",
              "4   ANG    2.175598"
            ]
          },
          "metadata": {
            "tags": []
          },
          "execution_count": 6
        }
      ]
    },
    {
      "cell_type": "code",
      "metadata": {
        "colab": {
          "base_uri": "https://localhost:8080/",
          "height": 195
        },
        "id": "pNB9jrYzcCRx",
        "outputId": "3468fa25-b954-4c62-ee2a-62cb3ee41752"
      },
      "source": [
        "df = df.rename(columns={'index': 'currency'})\n",
        "df.head()"
      ],
      "execution_count": 7,
      "outputs": [
        {
          "output_type": "execute_result",
          "data": {
            "text/html": [
              "<div>\n",
              "<style scoped>\n",
              "    .dataframe tbody tr th:only-of-type {\n",
              "        vertical-align: middle;\n",
              "    }\n",
              "\n",
              "    .dataframe tbody tr th {\n",
              "        vertical-align: top;\n",
              "    }\n",
              "\n",
              "    .dataframe thead th {\n",
              "        text-align: right;\n",
              "    }\n",
              "</style>\n",
              "<table border=\"1\" class=\"dataframe\">\n",
              "  <thead>\n",
              "    <tr style=\"text-align: right;\">\n",
              "      <th></th>\n",
              "      <th>currency</th>\n",
              "      <th>rate</th>\n",
              "    </tr>\n",
              "  </thead>\n",
              "  <tbody>\n",
              "    <tr>\n",
              "      <th>0</th>\n",
              "      <td>AED</td>\n",
              "      <td>4.405028</td>\n",
              "    </tr>\n",
              "    <tr>\n",
              "      <th>1</th>\n",
              "      <td>AFN</td>\n",
              "      <td>95.691111</td>\n",
              "    </tr>\n",
              "    <tr>\n",
              "      <th>2</th>\n",
              "      <td>ALL</td>\n",
              "      <td>122.959976</td>\n",
              "    </tr>\n",
              "    <tr>\n",
              "      <th>3</th>\n",
              "      <td>AMD</td>\n",
              "      <td>625.041028</td>\n",
              "    </tr>\n",
              "    <tr>\n",
              "      <th>4</th>\n",
              "      <td>ANG</td>\n",
              "      <td>2.175598</td>\n",
              "    </tr>\n",
              "  </tbody>\n",
              "</table>\n",
              "</div>"
            ],
            "text/plain": [
              "  currency        rate\n",
              "0      AED    4.405028\n",
              "1      AFN   95.691111\n",
              "2      ALL  122.959976\n",
              "3      AMD  625.041028\n",
              "4      ANG    2.175598"
            ]
          },
          "metadata": {
            "tags": []
          },
          "execution_count": 7
        }
      ]
    },
    {
      "cell_type": "code",
      "metadata": {
        "colab": {
          "base_uri": "https://localhost:8080/",
          "height": 195
        },
        "id": "-sOU2cGFc4gP",
        "outputId": "92ed0b40-174f-4227-9e4f-f155867a2c0b"
      },
      "source": [
        "df['base_currency'] = json_data['base']\n",
        "df['date_accessed'] = json_data['date']\n",
        "df.head()"
      ],
      "execution_count": 8,
      "outputs": [
        {
          "output_type": "execute_result",
          "data": {
            "text/html": [
              "<div>\n",
              "<style scoped>\n",
              "    .dataframe tbody tr th:only-of-type {\n",
              "        vertical-align: middle;\n",
              "    }\n",
              "\n",
              "    .dataframe tbody tr th {\n",
              "        vertical-align: top;\n",
              "    }\n",
              "\n",
              "    .dataframe thead th {\n",
              "        text-align: right;\n",
              "    }\n",
              "</style>\n",
              "<table border=\"1\" class=\"dataframe\">\n",
              "  <thead>\n",
              "    <tr style=\"text-align: right;\">\n",
              "      <th></th>\n",
              "      <th>currency</th>\n",
              "      <th>rate</th>\n",
              "      <th>base_currency</th>\n",
              "      <th>date_accessed</th>\n",
              "    </tr>\n",
              "  </thead>\n",
              "  <tbody>\n",
              "    <tr>\n",
              "      <th>0</th>\n",
              "      <td>AED</td>\n",
              "      <td>4.405028</td>\n",
              "      <td>EUR</td>\n",
              "      <td>2021-06-17</td>\n",
              "    </tr>\n",
              "    <tr>\n",
              "      <th>1</th>\n",
              "      <td>AFN</td>\n",
              "      <td>95.691111</td>\n",
              "      <td>EUR</td>\n",
              "      <td>2021-06-17</td>\n",
              "    </tr>\n",
              "    <tr>\n",
              "      <th>2</th>\n",
              "      <td>ALL</td>\n",
              "      <td>122.959976</td>\n",
              "      <td>EUR</td>\n",
              "      <td>2021-06-17</td>\n",
              "    </tr>\n",
              "    <tr>\n",
              "      <th>3</th>\n",
              "      <td>AMD</td>\n",
              "      <td>625.041028</td>\n",
              "      <td>EUR</td>\n",
              "      <td>2021-06-17</td>\n",
              "    </tr>\n",
              "    <tr>\n",
              "      <th>4</th>\n",
              "      <td>ANG</td>\n",
              "      <td>2.175598</td>\n",
              "      <td>EUR</td>\n",
              "      <td>2021-06-17</td>\n",
              "    </tr>\n",
              "  </tbody>\n",
              "</table>\n",
              "</div>"
            ],
            "text/plain": [
              "  currency        rate base_currency date_accessed\n",
              "0      AED    4.405028           EUR    2021-06-17\n",
              "1      AFN   95.691111           EUR    2021-06-17\n",
              "2      ALL  122.959976           EUR    2021-06-17\n",
              "3      AMD  625.041028           EUR    2021-06-17\n",
              "4      ANG    2.175598           EUR    2021-06-17"
            ]
          },
          "metadata": {
            "tags": []
          },
          "execution_count": 8
        }
      ]
    },
    {
      "cell_type": "markdown",
      "metadata": {
        "id": "542OA114__Qd"
      },
      "source": [
        "## 1.2 Exercise: How Many People Are In Space?"
      ]
    },
    {
      "cell_type": "markdown",
      "metadata": {
        "id": "6O2T43ELh9xi"
      },
      "source": [
        "Let's use an open API so we do not need to worry about authentication. Check how many people are currently in space using this open API. Be sure to reshape\n",
        "the resulting JSON into a proper DataFrame. For the URL, please use:\n",
        "`\"http://api.open-notify.org/astros.json\"`"
      ]
    },
    {
      "cell_type": "code",
      "metadata": {
        "id": "Tq2XB443h0nn"
      },
      "source": [
        "# YOUR CODE GOES HERE"
      ],
      "execution_count": 4,
      "outputs": []
    },
    {
      "cell_type": "code",
      "metadata": {
        "colab": {
          "base_uri": "https://localhost:8080/"
        },
        "id": "xwKqV-PbiUkh",
        "outputId": "ab2ba2e3-c26e-4448-84e5-e5a229efddf7"
      },
      "source": [
        "URL = \"http://api.open-notify.org/astros.json\"\n",
        "response = requests.get(URL)\n",
        "print(response)"
      ],
      "execution_count": 21,
      "outputs": [
        {
          "output_type": "stream",
          "text": [
            "<Response [200]>\n"
          ],
          "name": "stdout"
        }
      ]
    },
    {
      "cell_type": "code",
      "metadata": {
        "id": "2jYtBbvIiViL"
      },
      "source": [
        "text = response.text\n",
        "json_data = json.loads(text)"
      ],
      "execution_count": 22,
      "outputs": []
    },
    {
      "cell_type": "code",
      "metadata": {
        "id": "VQt69leninYI"
      },
      "source": [
        "df = pd.DataFrame(json_data[\"people\"])"
      ],
      "execution_count": 12,
      "outputs": []
    },
    {
      "cell_type": "code",
      "metadata": {
        "colab": {
          "base_uri": "https://localhost:8080/",
          "height": 195
        },
        "id": "2AX_TDeLi13V",
        "outputId": "e9c85cf5-4469-42d5-b6be-c5aaeb1d1210"
      },
      "source": [
        "df.head()"
      ],
      "execution_count": 14,
      "outputs": [
        {
          "output_type": "execute_result",
          "data": {
            "text/html": [
              "<div>\n",
              "<style scoped>\n",
              "    .dataframe tbody tr th:only-of-type {\n",
              "        vertical-align: middle;\n",
              "    }\n",
              "\n",
              "    .dataframe tbody tr th {\n",
              "        vertical-align: top;\n",
              "    }\n",
              "\n",
              "    .dataframe thead th {\n",
              "        text-align: right;\n",
              "    }\n",
              "</style>\n",
              "<table border=\"1\" class=\"dataframe\">\n",
              "  <thead>\n",
              "    <tr style=\"text-align: right;\">\n",
              "      <th></th>\n",
              "      <th>name</th>\n",
              "      <th>craft</th>\n",
              "    </tr>\n",
              "  </thead>\n",
              "  <tbody>\n",
              "    <tr>\n",
              "      <th>0</th>\n",
              "      <td>Mark Vande Hei</td>\n",
              "      <td>ISS</td>\n",
              "    </tr>\n",
              "    <tr>\n",
              "      <th>1</th>\n",
              "      <td>Oleg Novitskiy</td>\n",
              "      <td>ISS</td>\n",
              "    </tr>\n",
              "    <tr>\n",
              "      <th>2</th>\n",
              "      <td>Pyotr Dubrov</td>\n",
              "      <td>ISS</td>\n",
              "    </tr>\n",
              "    <tr>\n",
              "      <th>3</th>\n",
              "      <td>Thomas Pesquet</td>\n",
              "      <td>ISS</td>\n",
              "    </tr>\n",
              "    <tr>\n",
              "      <th>4</th>\n",
              "      <td>Megan McArthur</td>\n",
              "      <td>ISS</td>\n",
              "    </tr>\n",
              "  </tbody>\n",
              "</table>\n",
              "</div>"
            ],
            "text/plain": [
              "             name craft\n",
              "0  Mark Vande Hei   ISS\n",
              "1  Oleg Novitskiy   ISS\n",
              "2    Pyotr Dubrov   ISS\n",
              "3  Thomas Pesquet   ISS\n",
              "4  Megan McArthur   ISS"
            ]
          },
          "metadata": {
            "tags": []
          },
          "execution_count": 14
        }
      ]
    },
    {
      "cell_type": "markdown",
      "metadata": {
        "id": "2WgAFL2fdpbe"
      },
      "source": [
        "# 2. Fetch Data Via Parse HTML"
      ]
    },
    {
      "cell_type": "markdown",
      "metadata": {
        "id": "imGN1GntAD0F"
      },
      "source": [
        "## 2.1 Video Game Music Demo"
      ]
    },
    {
      "cell_type": "markdown",
      "metadata": {
        "id": "b2igdQoc-n92"
      },
      "source": [
        "We will parse a webpage full or links. This would be of interest if we were harvesting data stored in links from a web-based source. There are important background information on html:\n",
        "- `<a>`is known as an anchor element in HTML, we usually search for these elements when parsing for links. (`https://developer.mozilla.org/en-US/docs/Web/HTML/Element/a`)\n",
        "- `href` is an attribue of `<a>` which creates the hyperlink"
      ]
    },
    {
      "cell_type": "code",
      "metadata": {
        "ExecuteTime": {
          "end_time": "2020-08-03T13:46:34.685879Z",
          "start_time": "2020-08-03T13:46:34.681978Z"
        },
        "id": "x0VJy8FGTJM-"
      },
      "source": [
        "URL = 'https://www.vgmusic.com/music/console/nintendo/nes/'\n",
        "response = requests.get(URL)\n",
        "text = response.text\n",
        "soup = BeautifulSoup(text, 'html.parser')"
      ],
      "execution_count": 9,
      "outputs": []
    },
    {
      "cell_type": "code",
      "metadata": {
        "colab": {
          "base_uri": "https://localhost:8080/"
        },
        "id": "6hAeuKYlRKn3",
        "outputId": "05d2b316-b675-4e39-f74c-9b641acca389"
      },
      "source": [
        "soup.find_all(\"a\")[0:10]"
      ],
      "execution_count": 10,
      "outputs": [
        {
          "output_type": "execute_result",
          "data": {
            "text/plain": [
              "[<a href=\"http://www.vgmusic.com/information/donate.php\">Please contribute today</a>,\n",
              " <a href=\"/\"><img alt=\"You are surfing the Videogame Music Archive\" border=\"0\" height=\"60\" src=\"/images/mikey57a.gif\" width=\"468\"/></a>,\n",
              " <a name=\"10Yard_Fight\">10-Yard Fight</a>,\n",
              " <a href=\"10-Yard_Fight-Kick_Off.mid\">Kick Off</a>,\n",
              " <a href=\"/file/debcd7c61535f6aba8d4b88d8d0182db.html#disqus_thread\">Comments</a>,\n",
              " <a name=\"1943\">1943</a>,\n",
              " <a href=\"1943.mid\">\"Raid and Pacific Attack\" Title Screen Song</a>,\n",
              " <a href=\"/file/c6d8c1b732822f614e3b5892b703c58f.html#disqus_thread\">Comments</a>,\n",
              " <a href=\"1943sab.mid\">Assault on Surface Forces B</a>,\n",
              " <a href=\"/file/07f297682c9731ad956da14180f2aa65.html#disqus_thread\">Comments</a>]"
            ]
          },
          "metadata": {
            "tags": []
          },
          "execution_count": 10
        }
      ]
    },
    {
      "cell_type": "code",
      "metadata": {
        "colab": {
          "base_uri": "https://localhost:8080/"
        },
        "id": "dbJDJpZWXgFn",
        "outputId": "1b3ab739-dfc4-4640-e437-af24fe0d867f"
      },
      "source": [
        "len(soup.find_all(\"a\"))"
      ],
      "execution_count": 11,
      "outputs": [
        {
          "output_type": "execute_result",
          "data": {
            "text/plain": [
              "8851"
            ]
          },
          "metadata": {
            "tags": []
          },
          "execution_count": 11
        }
      ]
    },
    {
      "cell_type": "code",
      "metadata": {
        "id": "W222VAvDkomj"
      },
      "source": [
        "href_list = [link.get(\"href\") for link in soup.find_all(\"a\")]\n",
        "\n",
        "# code without using list comprehension:\n",
        "# href_list = []\n",
        "# for link in soup.find_all(\"a\"):\n",
        "#   href_list.append(link.get(\"href\"))"
      ],
      "execution_count": 12,
      "outputs": []
    },
    {
      "cell_type": "code",
      "metadata": {
        "id": "XMSDCXeGSZkL"
      },
      "source": [
        "df = pd.DataFrame({\"song_list\": href_list, \"base_url\": URL})"
      ],
      "execution_count": 13,
      "outputs": []
    },
    {
      "cell_type": "code",
      "metadata": {
        "id": "ax4XrzFVUDYm"
      },
      "source": [
        "df = df[df[\"song_list\"].str.contains(\".mid\", na=False)]"
      ],
      "execution_count": 14,
      "outputs": []
    },
    {
      "cell_type": "code",
      "metadata": {
        "colab": {
          "base_uri": "https://localhost:8080/"
        },
        "id": "SzagQJMnXkqA",
        "outputId": "3a7da4b3-7a98-4f0d-d311-a157c8bd54fd"
      },
      "source": [
        "len(df.song_list)"
      ],
      "execution_count": 15,
      "outputs": [
        {
          "output_type": "execute_result",
          "data": {
            "text/plain": [
              "4204"
            ]
          },
          "metadata": {
            "tags": []
          },
          "execution_count": 15
        }
      ]
    },
    {
      "cell_type": "code",
      "metadata": {
        "ExecuteTime": {
          "end_time": "2020-08-03T13:46:34.690050Z",
          "start_time": "2020-08-03T13:46:34.687983Z"
        },
        "id": "o9FuF8mATJM-",
        "colab": {
          "base_uri": "https://localhost:8080/",
          "height": 195
        },
        "outputId": "718baa9f-6cd8-4382-aee2-c8051191ff54"
      },
      "source": [
        "df['full_path'] = df['base_url'] + df[\"song_list\"]\n",
        "df.head()"
      ],
      "execution_count": 16,
      "outputs": [
        {
          "output_type": "execute_result",
          "data": {
            "text/html": [
              "<div>\n",
              "<style scoped>\n",
              "    .dataframe tbody tr th:only-of-type {\n",
              "        vertical-align: middle;\n",
              "    }\n",
              "\n",
              "    .dataframe tbody tr th {\n",
              "        vertical-align: top;\n",
              "    }\n",
              "\n",
              "    .dataframe thead th {\n",
              "        text-align: right;\n",
              "    }\n",
              "</style>\n",
              "<table border=\"1\" class=\"dataframe\">\n",
              "  <thead>\n",
              "    <tr style=\"text-align: right;\">\n",
              "      <th></th>\n",
              "      <th>song_list</th>\n",
              "      <th>base_url</th>\n",
              "      <th>full_path</th>\n",
              "    </tr>\n",
              "  </thead>\n",
              "  <tbody>\n",
              "    <tr>\n",
              "      <th>3</th>\n",
              "      <td>10-Yard_Fight-Kick_Off.mid</td>\n",
              "      <td>https://www.vgmusic.com/music/console/nintendo...</td>\n",
              "      <td>https://www.vgmusic.com/music/console/nintendo...</td>\n",
              "    </tr>\n",
              "    <tr>\n",
              "      <th>6</th>\n",
              "      <td>1943.mid</td>\n",
              "      <td>https://www.vgmusic.com/music/console/nintendo...</td>\n",
              "      <td>https://www.vgmusic.com/music/console/nintendo...</td>\n",
              "    </tr>\n",
              "    <tr>\n",
              "      <th>8</th>\n",
              "      <td>1943sab.mid</td>\n",
              "      <td>https://www.vgmusic.com/music/console/nintendo...</td>\n",
              "      <td>https://www.vgmusic.com/music/console/nintendo...</td>\n",
              "    </tr>\n",
              "    <tr>\n",
              "      <th>10</th>\n",
              "      <td>1943-lev1.mid</td>\n",
              "      <td>https://www.vgmusic.com/music/console/nintendo...</td>\n",
              "      <td>https://www.vgmusic.com/music/console/nintendo...</td>\n",
              "    </tr>\n",
              "    <tr>\n",
              "      <th>12</th>\n",
              "      <td>43pbos1.mid</td>\n",
              "      <td>https://www.vgmusic.com/music/console/nintendo...</td>\n",
              "      <td>https://www.vgmusic.com/music/console/nintendo...</td>\n",
              "    </tr>\n",
              "  </tbody>\n",
              "</table>\n",
              "</div>"
            ],
            "text/plain": [
              "                     song_list  ...                                          full_path\n",
              "3   10-Yard_Fight-Kick_Off.mid  ...  https://www.vgmusic.com/music/console/nintendo...\n",
              "6                     1943.mid  ...  https://www.vgmusic.com/music/console/nintendo...\n",
              "8                  1943sab.mid  ...  https://www.vgmusic.com/music/console/nintendo...\n",
              "10               1943-lev1.mid  ...  https://www.vgmusic.com/music/console/nintendo...\n",
              "12                 43pbos1.mid  ...  https://www.vgmusic.com/music/console/nintendo...\n",
              "\n",
              "[5 rows x 3 columns]"
            ]
          },
          "metadata": {
            "tags": []
          },
          "execution_count": 16
        }
      ]
    },
    {
      "cell_type": "markdown",
      "metadata": {
        "id": "rChEkIjYAJt2"
      },
      "source": [
        "## 2.2 Exercise: Google Scholar Link Extraction"
      ]
    },
    {
      "cell_type": "markdown",
      "metadata": {
        "id": "JC53gztpjbuD"
      },
      "source": [
        "Let's practice link extraction from html. For the following google scholar link,\n",
        "extract every link that leads to an academic article. Be sure to put the results into a nice list or DataFrame showing just the necessary links.\n",
        "\n",
        "Please use the following google scholar link: `\"https://scholar.google.ca/scholar?hl=en&as_sdt=0%2C5&q=astroids&btnG=\"`"
      ]
    },
    {
      "cell_type": "code",
      "metadata": {
        "id": "CfZGsVHfj9Oc"
      },
      "source": [
        "# YOUR CODE GOES HERE"
      ],
      "execution_count": null,
      "outputs": []
    },
    {
      "cell_type": "code",
      "metadata": {
        "id": "bL3otdvpj9UT"
      },
      "source": [
        "URL = \"https://scholar.google.ca/scholar?hl=en&as_sdt=0%2C5&q=astroids&btnG=\"\n",
        "response = requests.get(URL)\n",
        "text = response.text\n",
        "soup = BeautifulSoup(text, 'html.parser')"
      ],
      "execution_count": 24,
      "outputs": []
    },
    {
      "cell_type": "code",
      "metadata": {
        "id": "tUQmoCw7kGgC"
      },
      "source": [
        "href_list = [link.get(\"href\") for link in soup.find_all(\"a\")]"
      ],
      "execution_count": 28,
      "outputs": []
    },
    {
      "cell_type": "code",
      "metadata": {
        "id": "Z0LLt2kykbsi"
      },
      "source": [
        "filtered_list = [link for link in href_list if \"https\" in link and \"google\" not in link]"
      ],
      "execution_count": 32,
      "outputs": []
    },
    {
      "cell_type": "code",
      "metadata": {
        "colab": {
          "base_uri": "https://localhost:8080/"
        },
        "id": "6W6zsNpKkjUV",
        "outputId": "b1720cb6-17eb-4e5f-b5db-ae1e1655d991"
      },
      "source": [
        "filtered_list"
      ],
      "execution_count": 33,
      "outputs": [
        {
          "output_type": "execute_result",
          "data": {
            "text/plain": [
              "['https://ui.adsabs.harvard.edu/abs/1989aste.conf..921B/abstract',\n",
              " 'https://arxiv.org/pdf/1203.4336',\n",
              " 'https://www.sciencedirect.com/science/article/pii/S0032063312000773',\n",
              " 'https://ui.adsabs.harvard.edu/abs/1989aste.conf.....B/abstract',\n",
              " 'https://iopscience.iop.org/article/10.1088/0004-6256/143/3/66/pdf',\n",
              " 'https://iopscience.iop.org/article/10.1088/0004-6256/143/3/66/meta',\n",
              " 'https://ui.adsabs.harvard.edu/abs/1989aste.conf..524B/abstract',\n",
              " 'https://aip.scitation.org/doi/abs/10.1063/1.3636041',\n",
              " 'https://agupubs.onlinelibrary.wiley.com/doi/abs/10.1029/JB074i010p02531',\n",
              " 'https://arxiv.org/pdf/0907.2512',\n",
              " 'https://www.sciencedirect.com/science/article/pii/S0019103509003029',\n",
              " 'https://www.sciencedirect.com/science/article/pii/0019103589900158']"
            ]
          },
          "metadata": {
            "tags": []
          },
          "execution_count": 33
        }
      ]
    },
    {
      "cell_type": "markdown",
      "metadata": {
        "id": "bNBaFrenXQdU"
      },
      "source": [
        "# 3. Fetch Data From PDF"
      ]
    },
    {
      "cell_type": "code",
      "metadata": {
        "id": "gfqH24AYXUFc"
      },
      "source": [
        "URL = \"https://camelot-py.readthedocs.io/en/master/_static/pdf/foo.pdf\"\n",
        "df_list = read_pdf(URL, output_format=\"dataframe\", pages=\"all\")"
      ],
      "execution_count": 18,
      "outputs": []
    },
    {
      "cell_type": "code",
      "metadata": {
        "colab": {
          "base_uri": "https://localhost:8080/",
          "height": 195
        },
        "id": "dqUrUWillcTj",
        "outputId": "1ffc8de2-6880-4f7a-abee-287e42d45dea"
      },
      "source": [
        "df = df_list[0]\n",
        "df.head()"
      ],
      "execution_count": 19,
      "outputs": [
        {
          "output_type": "execute_result",
          "data": {
            "text/html": [
              "<div>\n",
              "<style scoped>\n",
              "    .dataframe tbody tr th:only-of-type {\n",
              "        vertical-align: middle;\n",
              "    }\n",
              "\n",
              "    .dataframe tbody tr th {\n",
              "        vertical-align: top;\n",
              "    }\n",
              "\n",
              "    .dataframe thead th {\n",
              "        text-align: right;\n",
              "    }\n",
              "</style>\n",
              "<table border=\"1\" class=\"dataframe\">\n",
              "  <thead>\n",
              "    <tr style=\"text-align: right;\">\n",
              "      <th></th>\n",
              "      <th>Unnamed: 0</th>\n",
              "      <th>Unnamed: 1</th>\n",
              "      <th>Unnamed: 2</th>\n",
              "      <th>Unnamed: 3</th>\n",
              "      <th>Percent Fuel Savings</th>\n",
              "      <th>Unnamed: 5</th>\n",
              "    </tr>\n",
              "  </thead>\n",
              "  <tbody>\n",
              "    <tr>\n",
              "      <th>0</th>\n",
              "      <td>Cycle</td>\n",
              "      <td>KI</td>\n",
              "      <td>Distance</td>\n",
              "      <td>NaN</td>\n",
              "      <td>NaN</td>\n",
              "      <td>NaN</td>\n",
              "    </tr>\n",
              "    <tr>\n",
              "      <th>1</th>\n",
              "      <td>Name</td>\n",
              "      <td>(1/km)</td>\n",
              "      <td>(mi)</td>\n",
              "      <td>Improved</td>\n",
              "      <td>Decreased Eliminate</td>\n",
              "      <td>Decreased</td>\n",
              "    </tr>\n",
              "    <tr>\n",
              "      <th>2</th>\n",
              "      <td>NaN</td>\n",
              "      <td>NaN</td>\n",
              "      <td>NaN</td>\n",
              "      <td>Speed</td>\n",
              "      <td>Accel Stops</td>\n",
              "      <td>Idle</td>\n",
              "    </tr>\n",
              "    <tr>\n",
              "      <th>3</th>\n",
              "      <td>2012_2</td>\n",
              "      <td>3.30</td>\n",
              "      <td>1.3</td>\n",
              "      <td>5.9%</td>\n",
              "      <td>9.5% 29.2%</td>\n",
              "      <td>17.4%</td>\n",
              "    </tr>\n",
              "    <tr>\n",
              "      <th>4</th>\n",
              "      <td>2145_1</td>\n",
              "      <td>0.68</td>\n",
              "      <td>11.2</td>\n",
              "      <td>2.4%</td>\n",
              "      <td>0.1% 9.5%</td>\n",
              "      <td>2.7%</td>\n",
              "    </tr>\n",
              "  </tbody>\n",
              "</table>\n",
              "</div>"
            ],
            "text/plain": [
              "  Unnamed: 0 Unnamed: 1 Unnamed: 2 Unnamed: 3 Percent Fuel Savings Unnamed: 5\n",
              "0      Cycle         KI   Distance        NaN                  NaN        NaN\n",
              "1       Name     (1/km)       (mi)   Improved  Decreased Eliminate  Decreased\n",
              "2        NaN        NaN        NaN      Speed          Accel Stops       Idle\n",
              "3     2012_2       3.30        1.3       5.9%           9.5% 29.2%      17.4%\n",
              "4     2145_1       0.68       11.2       2.4%            0.1% 9.5%       2.7%"
            ]
          },
          "metadata": {
            "tags": []
          },
          "execution_count": 19
        }
      ]
    },
    {
      "cell_type": "code",
      "metadata": {
        "colab": {
          "base_uri": "https://localhost:8080/"
        },
        "id": "pa3mONDblm-k",
        "outputId": "41f06d0b-b774-431e-bac3-828de36c13bd"
      },
      "source": [
        "df.columns"
      ],
      "execution_count": 20,
      "outputs": [
        {
          "output_type": "execute_result",
          "data": {
            "text/plain": [
              "Index(['Unnamed: 0', 'Unnamed: 1', 'Unnamed: 2', 'Unnamed: 3',\n",
              "       'Percent Fuel Savings', 'Unnamed: 5'],\n",
              "      dtype='object')"
            ]
          },
          "metadata": {
            "tags": []
          },
          "execution_count": 20
        }
      ]
    },
    {
      "cell_type": "code",
      "metadata": {
        "colab": {
          "base_uri": "https://localhost:8080/",
          "height": 195
        },
        "id": "cN484e3_lqqS",
        "outputId": "c373606c-bac4-4680-ec8d-5b7bc2e7c351"
      },
      "source": [
        "df['decrease_accel'] = df[\"Percent Fuel Savings\"].str.split(\" \").str[0]\n",
        "df['eliminate_stops'] = df[\"Percent Fuel Savings\"].str.split(\" \").str[1]\n",
        "df.head()"
      ],
      "execution_count": 21,
      "outputs": [
        {
          "output_type": "execute_result",
          "data": {
            "text/html": [
              "<div>\n",
              "<style scoped>\n",
              "    .dataframe tbody tr th:only-of-type {\n",
              "        vertical-align: middle;\n",
              "    }\n",
              "\n",
              "    .dataframe tbody tr th {\n",
              "        vertical-align: top;\n",
              "    }\n",
              "\n",
              "    .dataframe thead th {\n",
              "        text-align: right;\n",
              "    }\n",
              "</style>\n",
              "<table border=\"1\" class=\"dataframe\">\n",
              "  <thead>\n",
              "    <tr style=\"text-align: right;\">\n",
              "      <th></th>\n",
              "      <th>Unnamed: 0</th>\n",
              "      <th>Unnamed: 1</th>\n",
              "      <th>Unnamed: 2</th>\n",
              "      <th>Unnamed: 3</th>\n",
              "      <th>Percent Fuel Savings</th>\n",
              "      <th>Unnamed: 5</th>\n",
              "      <th>decrease_accel</th>\n",
              "      <th>eliminate_stops</th>\n",
              "    </tr>\n",
              "  </thead>\n",
              "  <tbody>\n",
              "    <tr>\n",
              "      <th>0</th>\n",
              "      <td>Cycle</td>\n",
              "      <td>KI</td>\n",
              "      <td>Distance</td>\n",
              "      <td>NaN</td>\n",
              "      <td>NaN</td>\n",
              "      <td>NaN</td>\n",
              "      <td>NaN</td>\n",
              "      <td>NaN</td>\n",
              "    </tr>\n",
              "    <tr>\n",
              "      <th>1</th>\n",
              "      <td>Name</td>\n",
              "      <td>(1/km)</td>\n",
              "      <td>(mi)</td>\n",
              "      <td>Improved</td>\n",
              "      <td>Decreased Eliminate</td>\n",
              "      <td>Decreased</td>\n",
              "      <td>Decreased</td>\n",
              "      <td>Eliminate</td>\n",
              "    </tr>\n",
              "    <tr>\n",
              "      <th>2</th>\n",
              "      <td>NaN</td>\n",
              "      <td>NaN</td>\n",
              "      <td>NaN</td>\n",
              "      <td>Speed</td>\n",
              "      <td>Accel Stops</td>\n",
              "      <td>Idle</td>\n",
              "      <td>Accel</td>\n",
              "      <td>Stops</td>\n",
              "    </tr>\n",
              "    <tr>\n",
              "      <th>3</th>\n",
              "      <td>2012_2</td>\n",
              "      <td>3.30</td>\n",
              "      <td>1.3</td>\n",
              "      <td>5.9%</td>\n",
              "      <td>9.5% 29.2%</td>\n",
              "      <td>17.4%</td>\n",
              "      <td>9.5%</td>\n",
              "      <td>29.2%</td>\n",
              "    </tr>\n",
              "    <tr>\n",
              "      <th>4</th>\n",
              "      <td>2145_1</td>\n",
              "      <td>0.68</td>\n",
              "      <td>11.2</td>\n",
              "      <td>2.4%</td>\n",
              "      <td>0.1% 9.5%</td>\n",
              "      <td>2.7%</td>\n",
              "      <td>0.1%</td>\n",
              "      <td>9.5%</td>\n",
              "    </tr>\n",
              "  </tbody>\n",
              "</table>\n",
              "</div>"
            ],
            "text/plain": [
              "  Unnamed: 0 Unnamed: 1 Unnamed: 2  ... Unnamed: 5 decrease_accel eliminate_stops\n",
              "0      Cycle         KI   Distance  ...        NaN            NaN             NaN\n",
              "1       Name     (1/km)       (mi)  ...  Decreased      Decreased       Eliminate\n",
              "2        NaN        NaN        NaN  ...       Idle          Accel           Stops\n",
              "3     2012_2       3.30        1.3  ...      17.4%           9.5%           29.2%\n",
              "4     2145_1       0.68       11.2  ...       2.7%           0.1%            9.5%\n",
              "\n",
              "[5 rows x 8 columns]"
            ]
          },
          "metadata": {
            "tags": []
          },
          "execution_count": 21
        }
      ]
    },
    {
      "cell_type": "code",
      "metadata": {
        "id": "-X5VGKTBmSZC"
      },
      "source": [
        "df = df[3:7]\n",
        "df = df.rename(columns={\n",
        "    \"Unnamed: 0\": \"cycle_name\", \n",
        "    \"Unnamed: 1\": \"KI\",\n",
        "    \"Unnamed: 2\": \"distance\",\n",
        "    \"Unnamed: 3\": \"improved_speed\",\n",
        "    \"Unnamed: 5\": \"decrease_idle\"\n",
        "  })"
      ],
      "execution_count": 22,
      "outputs": []
    },
    {
      "cell_type": "code",
      "metadata": {
        "colab": {
          "base_uri": "https://localhost:8080/",
          "height": 166
        },
        "id": "kHvUH_OtiLkF",
        "outputId": "99493000-a7c7-426c-c2f3-ccd9d20afc93"
      },
      "source": [
        "df = df[[\"cycle_name\", \"KI\", \"distance\", \"improved_speed\", \"decrease_accel\", \"eliminate_stops\", \"decrease_idle\"]]\n",
        "df.head()"
      ],
      "execution_count": 23,
      "outputs": [
        {
          "output_type": "execute_result",
          "data": {
            "text/html": [
              "<div>\n",
              "<style scoped>\n",
              "    .dataframe tbody tr th:only-of-type {\n",
              "        vertical-align: middle;\n",
              "    }\n",
              "\n",
              "    .dataframe tbody tr th {\n",
              "        vertical-align: top;\n",
              "    }\n",
              "\n",
              "    .dataframe thead th {\n",
              "        text-align: right;\n",
              "    }\n",
              "</style>\n",
              "<table border=\"1\" class=\"dataframe\">\n",
              "  <thead>\n",
              "    <tr style=\"text-align: right;\">\n",
              "      <th></th>\n",
              "      <th>cycle_name</th>\n",
              "      <th>KI</th>\n",
              "      <th>distance</th>\n",
              "      <th>improved_speed</th>\n",
              "      <th>decrease_accel</th>\n",
              "      <th>eliminate_stops</th>\n",
              "      <th>decrease_idle</th>\n",
              "    </tr>\n",
              "  </thead>\n",
              "  <tbody>\n",
              "    <tr>\n",
              "      <th>3</th>\n",
              "      <td>2012_2</td>\n",
              "      <td>3.30</td>\n",
              "      <td>1.3</td>\n",
              "      <td>5.9%</td>\n",
              "      <td>9.5%</td>\n",
              "      <td>29.2%</td>\n",
              "      <td>17.4%</td>\n",
              "    </tr>\n",
              "    <tr>\n",
              "      <th>4</th>\n",
              "      <td>2145_1</td>\n",
              "      <td>0.68</td>\n",
              "      <td>11.2</td>\n",
              "      <td>2.4%</td>\n",
              "      <td>0.1%</td>\n",
              "      <td>9.5%</td>\n",
              "      <td>2.7%</td>\n",
              "    </tr>\n",
              "    <tr>\n",
              "      <th>5</th>\n",
              "      <td>4234_1</td>\n",
              "      <td>0.59</td>\n",
              "      <td>58.7</td>\n",
              "      <td>8.5%</td>\n",
              "      <td>1.3%</td>\n",
              "      <td>8.5%</td>\n",
              "      <td>3.3%</td>\n",
              "    </tr>\n",
              "    <tr>\n",
              "      <th>6</th>\n",
              "      <td>2032_2</td>\n",
              "      <td>0.17</td>\n",
              "      <td>57.8</td>\n",
              "      <td>21.7%</td>\n",
              "      <td>0.3%</td>\n",
              "      <td>2.7%</td>\n",
              "      <td>1.2%</td>\n",
              "    </tr>\n",
              "  </tbody>\n",
              "</table>\n",
              "</div>"
            ],
            "text/plain": [
              "  cycle_name    KI distance  ... decrease_accel eliminate_stops decrease_idle\n",
              "3     2012_2  3.30      1.3  ...           9.5%           29.2%         17.4%\n",
              "4     2145_1  0.68     11.2  ...           0.1%            9.5%          2.7%\n",
              "5     4234_1  0.59     58.7  ...           1.3%            8.5%          3.3%\n",
              "6     2032_2  0.17     57.8  ...           0.3%            2.7%          1.2%\n",
              "\n",
              "[4 rows x 7 columns]"
            ]
          },
          "metadata": {
            "tags": []
          },
          "execution_count": 23
        }
      ]
    },
    {
      "cell_type": "markdown",
      "metadata": {
        "id": "G3t0N3TYnkey"
      },
      "source": [
        "# 4. Fetch Data From CSV / Save Data To CSV "
      ]
    },
    {
      "cell_type": "code",
      "metadata": {
        "id": "ydeNWLvOniAp"
      },
      "source": [
        "URL = \"https://raw.githubusercontent.com/cs109/2014_data/master/countries.csv\"\n",
        "df = pd.read_csv(URL)"
      ],
      "execution_count": 24,
      "outputs": []
    },
    {
      "cell_type": "code",
      "metadata": {
        "colab": {
          "base_uri": "https://localhost:8080/",
          "height": 195
        },
        "id": "Unf1gfqpoAiE",
        "outputId": "7c72e568-b0e4-4393-e2a2-3b9d8f9eb6e8"
      },
      "source": [
        "df.head()"
      ],
      "execution_count": 25,
      "outputs": [
        {
          "output_type": "execute_result",
          "data": {
            "text/html": [
              "<div>\n",
              "<style scoped>\n",
              "    .dataframe tbody tr th:only-of-type {\n",
              "        vertical-align: middle;\n",
              "    }\n",
              "\n",
              "    .dataframe tbody tr th {\n",
              "        vertical-align: top;\n",
              "    }\n",
              "\n",
              "    .dataframe thead th {\n",
              "        text-align: right;\n",
              "    }\n",
              "</style>\n",
              "<table border=\"1\" class=\"dataframe\">\n",
              "  <thead>\n",
              "    <tr style=\"text-align: right;\">\n",
              "      <th></th>\n",
              "      <th>Country</th>\n",
              "      <th>Region</th>\n",
              "    </tr>\n",
              "  </thead>\n",
              "  <tbody>\n",
              "    <tr>\n",
              "      <th>0</th>\n",
              "      <td>Algeria</td>\n",
              "      <td>AFRICA</td>\n",
              "    </tr>\n",
              "    <tr>\n",
              "      <th>1</th>\n",
              "      <td>Angola</td>\n",
              "      <td>AFRICA</td>\n",
              "    </tr>\n",
              "    <tr>\n",
              "      <th>2</th>\n",
              "      <td>Benin</td>\n",
              "      <td>AFRICA</td>\n",
              "    </tr>\n",
              "    <tr>\n",
              "      <th>3</th>\n",
              "      <td>Botswana</td>\n",
              "      <td>AFRICA</td>\n",
              "    </tr>\n",
              "    <tr>\n",
              "      <th>4</th>\n",
              "      <td>Burkina</td>\n",
              "      <td>AFRICA</td>\n",
              "    </tr>\n",
              "  </tbody>\n",
              "</table>\n",
              "</div>"
            ],
            "text/plain": [
              "    Country  Region\n",
              "0   Algeria  AFRICA\n",
              "1    Angola  AFRICA\n",
              "2     Benin  AFRICA\n",
              "3  Botswana  AFRICA\n",
              "4   Burkina  AFRICA"
            ]
          },
          "metadata": {
            "tags": []
          },
          "execution_count": 25
        }
      ]
    },
    {
      "cell_type": "code",
      "metadata": {
        "id": "gJgzw6lCoA93"
      },
      "source": [
        "PATH = \"/content/drive/MyDrive/00_temp/countries.csv\"\n",
        "df.to_csv(PATH, index=False)"
      ],
      "execution_count": 26,
      "outputs": []
    }
  ]
}